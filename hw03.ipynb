{
  "nbformat": 4,
  "nbformat_minor": 0,
  "metadata": {
    "colab": {
      "name": "hw03.ipynb",
      "version": "0.3.2",
      "provenance": [],
      "collapsed_sections": [],
      "include_colab_link": true
    },
    "kernelspec": {
      "display_name": "Python 3",
      "language": "python",
      "name": "python3"
    }
  },
  "cells": [
    {
      "cell_type": "markdown",
      "metadata": {
        "id": "view-in-github",
        "colab_type": "text"
      },
      "source": [
        "[View in Colaboratory](https://colab.research.google.com/github/bushschool/data-science/blob/master/hw03.ipynb)"
      ]
    },
    {
      "metadata": {
        "id": "iVXiRA-hU68I",
        "colab_type": "text"
      },
      "cell_type": "markdown",
      "source": [
        "# Homework 3: Table Manipulation and Visualization"
      ]
    },
    {
      "metadata": {
        "id": "Q2G-XzhNU68K",
        "colab_type": "text"
      },
      "cell_type": "markdown",
      "source": [
        "**Reading**: Textbook chapter [7](https://www.inferentialthinking.com/chapters/07/visualization.html)."
      ]
    },
    {
      "metadata": {
        "id": "x_IGS3SGU68M",
        "colab_type": "text"
      },
      "cell_type": "markdown",
      "source": [
        "Please complete this notebook by filling in the cells provided. Before you begin, execute the following cell to load the provided tests. Each time you start your server, you will need to execute this cell again to load the tests.\n",
        "\n",
        "Homework 3 is due Friday, 6/29 at 11:59pm. Start early so that you can come to office hours if you're stuck. Check the website for the office hours schedule.\n",
        "\n",
        "Throughout this homework and all future ones, please be sure to not re-assign variables throughout the notebook! For example, if you use `max_temperature` in your answer to one question, do not reassign it later on. Moreover, please be sure to only put your written answers in the provided cells. "
      ]
    },
    {
      "metadata": {
        "id": "9kV_7_X1U68N",
        "colab_type": "code",
        "colab": {}
      },
      "cell_type": "code",
      "source": [
        "# Don't change this cell; just run it. \n",
        "\n",
        "import numpy as np\n",
        "from datascience import *\n",
        "from okgrade import *\n",
        "\n",
        "\n",
        "# These lines do some fancy plotting magic.\\n\",\n",
        "import matplotlib\n",
        "%matplotlib inline\n",
        "import matplotlib.pyplot as plots\n",
        "plots.style.use('fivethirtyeight')\n",
        "\n",
        "\n",
        "# Don't change this cell; just run it. \n",
        "!find . -type f -name '*.ok' -delete\n",
        "!find . -type f -name '*.csv' -delete\n",
        "\n",
        "\n",
        "!wget https://raw.githubusercontent.com/beccaelenzil-teach/materials-su18/master/materials/su18/hw/hw03/tests/q1_1.ok\n",
        "!wget https://raw.githubusercontent.com/beccaelenzil-teach/materials-su18/master/materials/su18/hw/hw03/tests/q1_3.ok\n",
        "!wget https://raw.githubusercontent.com/beccaelenzil-teach/materials-su18/master/materials/su18/hw/hw03/tests/q2_1.ok\n",
        "!wget https://raw.githubusercontent.com/beccaelenzil-teach/materials-su18/master/materials/su18/hw/hw03/tests/q2_2.ok\n",
        "!wget https://raw.githubusercontent.com/beccaelenzil-teach/materials-su18/master/materials/su18/hw/hw03/tests/q2_3.ok\n",
        "!wget https://raw.githubusercontent.com/beccaelenzil-teach/materials-su18/master/materials/su18/hw/hw03/tests/q2_4.ok\n",
        "!wget https://raw.githubusercontent.com/beccaelenzil-teach/materials-su18/master/materials/su18/hw/hw03/tests/q2_5.ok\n",
        "!wget https://raw.githubusercontent.com/beccaelenzil-teach/materials-su18/master/materials/su18/hw/hw03/tests/q2_6.ok\n",
        "!wget https://raw.githubusercontent.com/beccaelenzil-teach/materials-su18/master/materials/su18/hw/hw03/tests/q2_7.ok\n",
        "!wget https://raw.githubusercontent.com/beccaelenzil-teach/materials-su18/master/materials/su18/hw/hw03/tests/q3_1.ok\n",
        "!wget https://raw.githubusercontent.com/beccaelenzil-teach/materials-su18/master/materials/su18/hw/hw03/tests/q3_2.ok\n",
        "!wget https://raw.githubusercontent.com/beccaelenzil-teach/materials-su18/master/materials/su18/hw/hw03/tests/q3_3.ok\n",
        "!wget https://raw.githubusercontent.com/beccaelenzil-teach/materials-su18/master/materials/su18/hw/hw03/tests/q3_4.ok\n",
        "!wget https://raw.githubusercontent.com/beccaelenzil-teach/materials-su18/master/materials/su18/hw/hw03/tests/q3_5.ok\n",
        "!wget https://raw.githubusercontent.com/beccaelenzil-teach/materials-su18/master/materials/su18/hw/hw03/tests/q3_7.ok\n",
        "  \n",
        "!wget https://raw.githubusercontent.com/beccaelenzil-teach/materials-su18/master/materials/su18/hw/hw03/berkeley.csv\n",
        "!wget https://raw.githubusercontent.com/beccaelenzil-teach/materials-su18/master/materials/su18/hw/hw03/nst-est2016-alldata.csv\n",
        "!wget https://raw.githubusercontent.com/beccaelenzil-teach/materials-su18/master/materials/su18/hw/hw03/stanford.csv\n",
        "!wget https://raw.githubusercontent.com/beccaelenzil-teach/materials-su18/master/materials/su18/hw/hw03/unemployment.csv\n",
        "!wget https://raw.githubusercontent.com/beccaelenzil-teach/materials-su18/master/materials/su18/hw/hw03/weights.csv\n",
        "\n",
        "\n",
        "!ls"
      ],
      "execution_count": 0,
      "outputs": []
    },
    {
      "metadata": {
        "id": "6Csox7xdQftu",
        "colab_type": "text"
      },
      "cell_type": "markdown",
      "source": [
        "**Only run the cell below if you get an import error when you run the cell above**\n"
      ]
    },
    {
      "metadata": {
        "id": "vBQoOdpoQgbA",
        "colab_type": "code",
        "colab": {
          "base_uri": "https://localhost:8080/",
          "height": 607
        },
        "outputId": "fca51d5b-0d2f-4e20-f58d-775e53f5bb80"
      },
      "cell_type": "code",
      "source": [
        "!pip install datascience\n",
        "!pip install okgrade"
      ],
      "execution_count": 0,
      "outputs": [
        {
          "output_type": "stream",
          "text": [
            "Requirement already satisfied: datascience in /usr/local/lib/python3.6/dist-packages (0.10.6)\n",
            "Requirement already satisfied: folium==0.2.1 in /usr/local/lib/python3.6/dist-packages (from datascience) (0.2.1)\n",
            "Requirement already satisfied: coverage==3.7.1 in /usr/local/lib/python3.6/dist-packages (from datascience) (3.7.1)\n",
            "Requirement already satisfied: setuptools in /usr/local/lib/python3.6/dist-packages (from datascience) (39.1.0)\n",
            "Requirement already satisfied: pytest in /usr/local/lib/python3.6/dist-packages (from datascience) (3.8.1)\n",
            "Requirement already satisfied: coveralls==0.5 in /usr/local/lib/python3.6/dist-packages (from datascience) (0.5)\n",
            "Requirement already satisfied: sphinx in /usr/local/lib/python3.6/dist-packages (from datascience) (1.8.1)\n",
            "Requirement already satisfied: Jinja2 in /usr/local/lib/python3.6/dist-packages (from folium==0.2.1->datascience) (2.10)\n",
            "Requirement already satisfied: six>=1.10.0 in /usr/local/lib/python3.6/dist-packages (from pytest->datascience) (1.11.0)\n",
            "Requirement already satisfied: atomicwrites>=1.0 in /usr/local/lib/python3.6/dist-packages (from pytest->datascience) (1.2.1)\n",
            "Requirement already satisfied: more-itertools>=4.0.0 in /usr/local/lib/python3.6/dist-packages (from pytest->datascience) (4.3.0)\n",
            "Requirement already satisfied: pluggy>=0.7 in /usr/local/lib/python3.6/dist-packages (from pytest->datascience) (0.7.1)\n",
            "Requirement already satisfied: py>=1.5.0 in /usr/local/lib/python3.6/dist-packages (from pytest->datascience) (1.6.0)\n",
            "Requirement already satisfied: attrs>=17.4.0 in /usr/local/lib/python3.6/dist-packages (from pytest->datascience) (18.2.0)\n",
            "Requirement already satisfied: PyYAML>=3.10 in /usr/local/lib/python3.6/dist-packages (from coveralls==0.5->datascience) (3.13)\n",
            "Requirement already satisfied: docopt>=0.6.1 in /usr/local/lib/python3.6/dist-packages (from coveralls==0.5->datascience) (0.6.2)\n",
            "Requirement already satisfied: requests>=1.0.0 in /usr/local/lib/python3.6/dist-packages (from coveralls==0.5->datascience) (2.18.4)\n",
            "Requirement already satisfied: babel!=2.0,>=1.3 in /usr/local/lib/python3.6/dist-packages (from sphinx->datascience) (2.6.0)\n",
            "Requirement already satisfied: imagesize in /usr/local/lib/python3.6/dist-packages (from sphinx->datascience) (1.1.0)\n",
            "Requirement already satisfied: sphinxcontrib-websupport in /usr/local/lib/python3.6/dist-packages (from sphinx->datascience) (1.1.0)\n",
            "Requirement already satisfied: packaging in /usr/local/lib/python3.6/dist-packages (from sphinx->datascience) (17.1)\n",
            "Requirement already satisfied: snowballstemmer>=1.1 in /usr/local/lib/python3.6/dist-packages (from sphinx->datascience) (1.2.1)\n",
            "Requirement already satisfied: Pygments>=2.0 in /usr/local/lib/python3.6/dist-packages (from sphinx->datascience) (2.1.3)\n",
            "Requirement already satisfied: docutils>=0.11 in /usr/local/lib/python3.6/dist-packages (from sphinx->datascience) (0.14)\n",
            "Requirement already satisfied: alabaster<0.8,>=0.7 in /usr/local/lib/python3.6/dist-packages (from sphinx->datascience) (0.7.11)\n",
            "Requirement already satisfied: MarkupSafe>=0.23 in /usr/local/lib/python3.6/dist-packages (from Jinja2->folium==0.2.1->datascience) (1.0)\n",
            "Requirement already satisfied: idna<2.7,>=2.5 in /usr/local/lib/python3.6/dist-packages (from requests>=1.0.0->coveralls==0.5->datascience) (2.6)\n",
            "Requirement already satisfied: chardet<3.1.0,>=3.0.2 in /usr/local/lib/python3.6/dist-packages (from requests>=1.0.0->coveralls==0.5->datascience) (3.0.4)\n",
            "Requirement already satisfied: certifi>=2017.4.17 in /usr/local/lib/python3.6/dist-packages (from requests>=1.0.0->coveralls==0.5->datascience) (2018.8.24)\n",
            "Requirement already satisfied: urllib3<1.23,>=1.21.1 in /usr/local/lib/python3.6/dist-packages (from requests>=1.0.0->coveralls==0.5->datascience) (1.22)\n",
            "Requirement already satisfied: pytz>=0a in /usr/local/lib/python3.6/dist-packages (from babel!=2.0,>=1.3->sphinx->datascience) (2018.5)\n",
            "Requirement already satisfied: pyparsing>=2.0.2 in /usr/local/lib/python3.6/dist-packages (from packaging->sphinx->datascience) (2.2.1)\n",
            "Requirement already satisfied: okgrade in /usr/local/lib/python3.6/dist-packages (0.4.3)\n"
          ],
          "name": "stdout"
        }
      ]
    },
    {
      "metadata": {
        "id": "TlFjPxHwU68S",
        "colab_type": "text"
      },
      "cell_type": "markdown",
      "source": [
        "## 1. Differences between Universities, Part II\n"
      ]
    },
    {
      "metadata": {
        "id": "qD1-3jz9U68U",
        "colab_type": "text"
      },
      "cell_type": "markdown",
      "source": [
        "**Question 1.** Suppose you're choosing a university to attend, and you'd like to *quantify* how *dissimilar* any two universities are.  You rate each university you're considering on several numerical traits.  You decide on a very detailed list of 1000 traits, and you measure all of them!  Some examples:\n",
        "\n",
        "* The cost to attend (per year)\n",
        "* The average Yelp review of nearby Thai restaurants\n",
        "* The USA Today ranking of the Medical school\n",
        "* The USA Today ranking of the Engineering school\n",
        "\n",
        "You decide that the dissimilarity between two universities is the *total* of the differences in their traits.  That is, the dissimilarity is:\n",
        "\n",
        "* the **sum** of\n",
        "* the absolute values of\n",
        "* the 1000 differences in their trait values.\n",
        "\n",
        "In the next cell, we've loaded arrays containing the 1000 trait values for Stanford and Berkeley.  Compute the dissimilarity (according to the above method) between Stanford and Berkeley.  Call your answer `dissimilarity`.  Use a single line of code to compute the answer.\n",
        "\n",
        "*Note:* The data we're using aren't real -- we made them up for this exercise, except for the cost-of-attendance numbers, which were found online."
      ]
    },
    {
      "metadata": {
        "id": "kz8fYdL5U68V",
        "colab_type": "code",
        "colab": {}
      },
      "cell_type": "code",
      "source": [
        "stanford = Table.read_table(\"stanford.csv\").column(\"Trait value\")\n",
        "berkeley = Table.read_table(\"berkeley.csv\").column(\"Trait value\")\n",
        "\n",
        "dissimilarity = ...\n",
        "dissimilarity"
      ],
      "execution_count": 0,
      "outputs": []
    },
    {
      "metadata": {
        "id": "usdKSrexU68a",
        "colab_type": "code",
        "colab": {}
      },
      "cell_type": "code",
      "source": [
        "grade('q1_1.ok')"
      ],
      "execution_count": 0,
      "outputs": []
    },
    {
      "metadata": {
        "id": "v7K4aVpjU68f",
        "colab_type": "text"
      },
      "cell_type": "markdown",
      "source": [
        "**Question 2.** Why do we sum up the absolute values of the differences in trait values, rather than just summing up the differences?"
      ]
    },
    {
      "metadata": {
        "id": "6j9dXil6U68g",
        "colab_type": "text"
      },
      "cell_type": "markdown",
      "source": [
        "*Write your answer here, replacing this text.*"
      ]
    },
    {
      "metadata": {
        "id": "KU-K6uYfU68h",
        "colab_type": "text"
      },
      "cell_type": "markdown",
      "source": [
        "##### Weighing the traits\n",
        "After computing dissimilarities between several schools, you notice a problem with your method: the scale of the traits matters a lot.\n",
        "\n",
        "Since schools cost tens of thousands of dollars to attend, the cost-to-attend trait is always a much bigger *number* than most other traits.  That makes it affect the dissimilarity a lot more than other traits.  Two schools that differ in cost-to-attend by \\$900, but are otherwise identical, get a dissimilarity of 900.  But two schools that differ in graduation rate by .9 (a huge difference!), but are otherwise identical, get a dissimilarity of only .9.\n",
        "\n",
        "One way to fix this problem is to assign different \"weights\" to different traits.  For example, we could fix the problem above by multiplying the difference in the cost-to-attend traits by .001, so that a difference of \\$900 in cost-to-attend results in a dissimilarity of $900 \\times .001$, or $.9$.\n",
        "\n",
        "Here's a revised method that does that for every trait:\n",
        "\n",
        "1. For each trait, subtract the two schools' trait values.\n",
        "2. Then take the absolute value of that difference.\n",
        "3. *Now multiply that absolute value by a trait-specific number, like .001 or 2.*\n",
        "4. Now sum the 1000 resulting numbers.\n",
        "\n",
        "**Question 3.** Suppose you've already decided on a weight for each trait.  These are loaded into an array called `weights` in the cell below.  `weights.item(0)` is the weight for the first trait, `weights.item(1)` is the weight for the second trait, and so on.  Use the revised method to compute a revised dissimilarity between Berkeley and Stanford.\n",
        "\n",
        "*Hint:* Using array arithmetic, your answer should be almost as short as in question 1."
      ]
    },
    {
      "metadata": {
        "id": "0CtlXXKpU68k",
        "colab_type": "code",
        "colab": {}
      },
      "cell_type": "code",
      "source": [
        "weights = Table.read_table(\"weights.csv\").column(\"Weight\")\n",
        "\n",
        "revised_dissimilarity = ...\n",
        "revised_dissimilarity"
      ],
      "execution_count": 0,
      "outputs": []
    },
    {
      "metadata": {
        "id": "SY6xbeYaU68q",
        "colab_type": "code",
        "colab": {}
      },
      "cell_type": "code",
      "source": [
        "grade('q1_3.ok')"
      ],
      "execution_count": 0,
      "outputs": []
    },
    {
      "metadata": {
        "id": "-xngvzYyU68w",
        "colab_type": "text"
      },
      "cell_type": "markdown",
      "source": [
        "## 2. Unemployment\n"
      ]
    },
    {
      "metadata": {
        "id": "KTZGURR1U68y",
        "colab_type": "text"
      },
      "cell_type": "markdown",
      "source": [
        "The Federal Reserve Bank of St. Louis publishes data about jobs in the US.  Below we've loaded data on unemployment in the United States.  There are many ways of defining unemployment, and our dataset includes two notions of the unemployment rate:\n",
        "\n",
        "1. Among people who are able to work and are looking for a full-time job, the percentage who can't find a job.  This is called the Non-Employment Index, or NEI.\n",
        "2. Among people who are able to work and are looking for a full-time job, the percentage who can't find any job *or* are only working at a part-time job.  The latter group is called \"Part-Time for Economic Reasons\", so the acronym for this index is NEI-PTER.  (Economists are great at marketing.)\n",
        "\n",
        "The source of the data is [here](https://fred.stlouisfed.org/categories/33509)."
      ]
    },
    {
      "metadata": {
        "id": "rxH-q467U68y",
        "colab_type": "text"
      },
      "cell_type": "markdown",
      "source": [
        "**Question 1.** The data are in a CSV file called `unemployment.csv`.  Load that file into a table called `unemployment`."
      ]
    },
    {
      "metadata": {
        "id": "mlhO5u9PU680",
        "colab_type": "code",
        "colab": {}
      },
      "cell_type": "code",
      "source": [
        "unemployment = ...\n",
        "unemployment"
      ],
      "execution_count": 0,
      "outputs": []
    },
    {
      "metadata": {
        "id": "TL7QjHs5U682",
        "colab_type": "code",
        "colab": {}
      },
      "cell_type": "code",
      "source": [
        "grade('q2_1.ok')"
      ],
      "execution_count": 0,
      "outputs": []
    },
    {
      "metadata": {
        "id": "JUf4yfTVU687",
        "colab_type": "text"
      },
      "cell_type": "markdown",
      "source": [
        "**Question 2.** Sort the data in decreasing order by NEI, naming the sorted table `by_nei`.  Create another table called `by_nei_pter` that's sorted in decreasing order by NEI-PTER instead."
      ]
    },
    {
      "metadata": {
        "id": "ewEJDz0yU689",
        "colab_type": "code",
        "colab": {}
      },
      "cell_type": "code",
      "source": [
        "by_nei = ...\n",
        "by_nei_pter = ..."
      ],
      "execution_count": 0,
      "outputs": []
    },
    {
      "metadata": {
        "id": "xHFtjQxkU69C",
        "colab_type": "code",
        "colab": {}
      },
      "cell_type": "code",
      "source": [
        "grade('q2_2.ok')"
      ],
      "execution_count": 0,
      "outputs": []
    },
    {
      "metadata": {
        "id": "z2mYA_L2U69F",
        "colab_type": "text"
      },
      "cell_type": "markdown",
      "source": [
        "**Question 3.** Use `take` to make a table containing the data for the 10 quarters when NEI was greatest.  Call that table `greatest_nei`."
      ]
    },
    {
      "metadata": {
        "id": "1Cv5LM_BU69G",
        "colab_type": "code",
        "colab": {}
      },
      "cell_type": "code",
      "source": [
        "greatest_nei = ...\n",
        "greatest_nei"
      ],
      "execution_count": 0,
      "outputs": []
    },
    {
      "metadata": {
        "id": "-tWXFOzUU69J",
        "colab_type": "code",
        "colab": {}
      },
      "cell_type": "code",
      "source": [
        "grade('q2_3.ok')"
      ],
      "execution_count": 0,
      "outputs": []
    },
    {
      "metadata": {
        "id": "bufe2dKlU69R",
        "colab_type": "text"
      },
      "cell_type": "markdown",
      "source": [
        "**Question 4.** It's believed that many people became PTER (recall: \"Part-Time for Economic Reasons\") in the \"Great Recession\" of 2008-2009.  NEI-PTER is the percentage of people who are unemployed (and counted in the NEI) plus the percentage of people who are PTER.  Compute an array containing the percentage of people who were PTER in each quarter.  (The first element of the array should correspond to the first row of `unemployment`, and so on.)\n",
        "\n",
        "*Note:* Use the original `unemployment` table for this."
      ]
    },
    {
      "metadata": {
        "id": "hQP1e-WxU69V",
        "colab_type": "code",
        "colab": {}
      },
      "cell_type": "code",
      "source": [
        "pter = ...\n",
        "pter"
      ],
      "execution_count": 0,
      "outputs": []
    },
    {
      "metadata": {
        "id": "dPm3vWZJU69b",
        "colab_type": "code",
        "colab": {}
      },
      "cell_type": "code",
      "source": [
        "grade('q2_4.ok')"
      ],
      "execution_count": 0,
      "outputs": []
    },
    {
      "metadata": {
        "id": "_i754A7tU69e",
        "colab_type": "text"
      },
      "cell_type": "markdown",
      "source": [
        "**Question 5.** Add `pter` as a column to `unemployment` (named \"PTER\") and sort the resulting table by that column in decreasing order.  Call the table `by_pter`.\n",
        "\n",
        "Try to do this with a single line of code, if you can."
      ]
    },
    {
      "metadata": {
        "id": "ECsIwZ2iU69f",
        "colab_type": "code",
        "colab": {}
      },
      "cell_type": "code",
      "source": [
        "by_pter = ...\n",
        "by_pter"
      ],
      "execution_count": 0,
      "outputs": []
    },
    {
      "metadata": {
        "id": "cE0Wg_v3U69j",
        "colab_type": "code",
        "colab": {}
      },
      "cell_type": "code",
      "source": [
        "grade('q2_5.ok')"
      ],
      "execution_count": 0,
      "outputs": []
    },
    {
      "metadata": {
        "id": "0o2AF_1EU69n",
        "colab_type": "text"
      },
      "cell_type": "markdown",
      "source": [
        "**Question 6.** Create a line plot of the PTER over time. To do this, first add the `year` array and the `pter` array to the `unemployment` table; label these columns \"Year\" and \"PTER\", respectively. Then, generate a line plot using one of the table methods described in Chapter 7 of the text."
      ]
    },
    {
      "metadata": {
        "id": "I5C2S0XWU69n",
        "colab_type": "code",
        "colab": {}
      },
      "cell_type": "code",
      "source": [
        "year = 1994 + np.arange(by_pter.num_rows)/4\n",
        "unemployment = ...\n",
        "..."
      ],
      "execution_count": 0,
      "outputs": []
    },
    {
      "metadata": {
        "id": "P7lNDFFkU69u",
        "colab_type": "code",
        "colab": {}
      },
      "cell_type": "code",
      "source": [
        "grade('q2_6.ok')"
      ],
      "execution_count": 0,
      "outputs": []
    },
    {
      "metadata": {
        "id": "xeUSLq57U69x",
        "colab_type": "text"
      },
      "cell_type": "markdown",
      "source": [
        "**Question 7.** Were PTER rates high during or directly after the Great Recession (that is to say, were PTER rates particularly high in the years 2008 through 2011 or so)? Assign highPTER to `True` if you think PTER rates were high in this period, and `False` if you think they weren't. "
      ]
    },
    {
      "metadata": {
        "id": "zqMLujqxU69y",
        "colab_type": "code",
        "colab": {}
      },
      "cell_type": "code",
      "source": [
        "highPTER = ..."
      ],
      "execution_count": 0,
      "outputs": []
    },
    {
      "metadata": {
        "id": "9xbhWyc8U694",
        "colab_type": "code",
        "colab": {}
      },
      "cell_type": "code",
      "source": [
        "grade('q2_7.ok')"
      ],
      "execution_count": 0,
      "outputs": []
    },
    {
      "metadata": {
        "id": "S0A0knLTU698",
        "colab_type": "text"
      },
      "cell_type": "markdown",
      "source": [
        "## 3. Birth Rates\n"
      ]
    },
    {
      "metadata": {
        "id": "cAIdsKyBU699",
        "colab_type": "text"
      },
      "cell_type": "markdown",
      "source": [
        "The following table gives census-based population estimates for each state on July 1, 2015 and July 1, 2016. The last four columns describe the components of the estimated change in population during this time interval. *For all questions below, assume that the word \"states\" refers to all 52 rows including Puerto Rico & the District of Columbia.*"
      ]
    },
    {
      "metadata": {
        "id": "FleHDkUXU69-",
        "colab_type": "code",
        "colab": {}
      },
      "cell_type": "code",
      "source": [
        "# Don't change this cell; just run it.\n",
        "# From http://www2.census.gov/programs-surveys/popest/datasets/2010-2016/national/totals/nst-est2016-alldata.csv\n",
        "# See http://www2.census.gov/programs-surveys/popest/datasets/2010-2015/national/totals/nst-est2015-alldata.pdf\n",
        "#     for column descriptions. (As of Feb 2017, no descriptions were posted for 2010-2016.)\n",
        "pop = Table.read_table('nst-est2016-alldata.csv').where('SUMLEV', 40).select([1, 4, 12, 13, 27, 34, 62, 69])\n",
        "pop = pop.relabeled(2, '2015').relabeled(3, '2016')\n",
        "pop = pop.relabeled(4, 'BIRTHS').relabeled(5, 'DEATHS')\n",
        "pop = pop.relabeled(6, 'MIGRATION').relabeled(7, 'OTHER')\n",
        "pop.set_format([2, 3, 4, 5, 6, 7], NumberFormatter(decimals=0)).show(5)"
      ],
      "execution_count": 0,
      "outputs": []
    },
    {
      "metadata": {
        "id": "rset3z0gU6-B",
        "colab_type": "text"
      },
      "cell_type": "markdown",
      "source": [
        "**Question 1.** Assign `us_birth_rate` to the total US annual birth rate during this time interval. The annual birth rate for a year-long period is the number of births in that period as a proportion of the population at the start of the period."
      ]
    },
    {
      "metadata": {
        "id": "nwdqqz7hU6-C",
        "colab_type": "code",
        "colab": {}
      },
      "cell_type": "code",
      "source": [
        "us_birth_rate = ...\n",
        "us_birth_rate"
      ],
      "execution_count": 0,
      "outputs": []
    },
    {
      "metadata": {
        "id": "3YIE9mmYU6-G",
        "colab_type": "code",
        "colab": {}
      },
      "cell_type": "code",
      "source": [
        "grade('q3_1.ok')"
      ],
      "execution_count": 0,
      "outputs": []
    },
    {
      "metadata": {
        "id": "2EpCyjbwU6-J",
        "colab_type": "text"
      },
      "cell_type": "markdown",
      "source": [
        "**Question 2.** Assign `fastest_growth` to an array of the names of the five states with the fastest population growth rates in *descending order of growth rate*. We have first created a new version of the `pop` table, called `growth_rates`, which includes a column with the growth rate of each state. Making intermediate tables can improve the readability of the code and make it easier to follow when revisting at a later time."
      ]
    },
    {
      "metadata": {
        "id": "3yk9Z1RnU6-K",
        "colab_type": "code",
        "colab": {}
      },
      "cell_type": "code",
      "source": [
        "growth_rates = pop.with_column('R', pop.column(3)/pop.column(2)-1)\n",
        "fastest_growth = ...\n",
        "fastest_growth"
      ],
      "execution_count": 0,
      "outputs": []
    },
    {
      "metadata": {
        "id": "hd-yv7E5U6-P",
        "colab_type": "code",
        "colab": {}
      },
      "cell_type": "code",
      "source": [
        "grade('q3_2.ok')"
      ],
      "execution_count": 0,
      "outputs": []
    },
    {
      "metadata": {
        "id": "j0_2_FI3U6-V",
        "colab_type": "text"
      },
      "cell_type": "markdown",
      "source": [
        "**Question 3.** Assign `movers` to the number of states for which the absolute annual rate of migration was higher than 1%. The annual rate of migration for a year-long period is the net number of migrations (in and out) as a proportion of the population at the start of the period. The `MIGRATION` column contains estimated annual net migration counts by state."
      ]
    },
    {
      "metadata": {
        "id": "lFqvLtDFU6-X",
        "colab_type": "code",
        "colab": {}
      },
      "cell_type": "code",
      "source": [
        "migration_rates = ...\n",
        "movers = ...\n",
        "movers"
      ],
      "execution_count": 0,
      "outputs": []
    },
    {
      "metadata": {
        "id": "gqmoMbP1U6-Z",
        "colab_type": "code",
        "colab": {}
      },
      "cell_type": "code",
      "source": [
        "grade('q3_3.ok')"
      ],
      "execution_count": 0,
      "outputs": []
    },
    {
      "metadata": {
        "id": "MCJP3-0sU6-d",
        "colab_type": "text"
      },
      "cell_type": "markdown",
      "source": [
        "**Question 4.** Assign `west_births` to the total number of births that occurred in region 4 (the Western US). *Hint:* Make sure you double check the type of the values in the region column."
      ]
    },
    {
      "metadata": {
        "id": "DoVuFNmBU6-e",
        "colab_type": "code",
        "colab": {}
      },
      "cell_type": "code",
      "source": [
        "west_births = ...\n",
        "west_births"
      ],
      "execution_count": 0,
      "outputs": []
    },
    {
      "metadata": {
        "id": "98w0HgDfU6-g",
        "colab_type": "code",
        "colab": {}
      },
      "cell_type": "code",
      "source": [
        "grade('q3_4.ok')"
      ],
      "execution_count": 0,
      "outputs": []
    },
    {
      "metadata": {
        "id": "27yZQ2VtU6-k",
        "colab_type": "text"
      },
      "cell_type": "markdown",
      "source": [
        "**Question 5.** Assign `less_than_west_births` to the number of states that had a total population in 2016 that was smaller than the *number of babies born in region 4 (the Western US)* during this time interval."
      ]
    },
    {
      "metadata": {
        "id": "Ji5t3msEU6-l",
        "colab_type": "code",
        "colab": {}
      },
      "cell_type": "code",
      "source": [
        "less_than_west_births = ...\n",
        "less_than_west_births"
      ],
      "execution_count": 0,
      "outputs": []
    },
    {
      "metadata": {
        "id": "ofRC0aulU6-o",
        "colab_type": "code",
        "colab": {}
      },
      "cell_type": "code",
      "source": [
        "grade('q3_5.ok')"
      ],
      "execution_count": 0,
      "outputs": []
    },
    {
      "metadata": {
        "id": "NIW8iHQkU6-q",
        "colab_type": "text"
      },
      "cell_type": "markdown",
      "source": [
        "**Question 6.** \n",
        "\n",
        "In the code cell below, create a visualization that will help us determine if there is an association between birth rate and death rate during this time interval. It may be helpful to create an intermediate table here."
      ]
    },
    {
      "metadata": {
        "id": "tyqejpLxU6-r",
        "colab_type": "code",
        "colab": {}
      },
      "cell_type": "code",
      "source": [
        "# Generate your chart in this cell\n",
        "..."
      ],
      "execution_count": 0,
      "outputs": []
    },
    {
      "metadata": {
        "id": "6hEtqLEgU6-v",
        "colab_type": "text"
      },
      "cell_type": "markdown",
      "source": [
        "**Question 7.** `True` or `False`: There is an association between birth rate and death rate during this time interval. \n",
        "\n",
        "Assign `assoc` to `True` or `False` in the cell below. "
      ]
    },
    {
      "metadata": {
        "id": "G5L8G5ZAU6-v",
        "colab_type": "code",
        "colab": {}
      },
      "cell_type": "code",
      "source": [
        "assoc = ..."
      ],
      "execution_count": 0,
      "outputs": []
    },
    {
      "metadata": {
        "id": "8XovYDPtU6-y",
        "colab_type": "code",
        "colab": {}
      },
      "cell_type": "code",
      "source": [
        "grade('q3_7.ok')"
      ],
      "execution_count": 0,
      "outputs": []
    },
    {
      "metadata": {
        "id": "r7pA7BEPU6-5",
        "colab_type": "text"
      },
      "cell_type": "markdown",
      "source": [
        "## 4. Marginal Histograms\n"
      ]
    },
    {
      "metadata": {
        "id": "paCHmit3U6-6",
        "colab_type": "text"
      },
      "cell_type": "markdown",
      "source": [
        "Consider the following scatter plot: \n",
        "\n",
        "![](https://raw.githubusercontent.com/beccaelenzil-teach/materials-su18/master/materials/su18/hw/hw03/scatter.png)\n",
        "\n",
        "The axes of the plot represent values of two variables: $x$ and $y$. "
      ]
    },
    {
      "metadata": {
        "id": "-CnB4pmBU6-7",
        "colab_type": "text"
      },
      "cell_type": "markdown",
      "source": [
        "Suppose we have a table called `t` that has two columns in it:\n",
        "\n",
        "- `x`: a column containing the x-values of the points in the scatter plot\n",
        "- `y`: a column containing the y-values of the points in the scatter plot"
      ]
    },
    {
      "metadata": {
        "id": "Sd8vYxHCU6-8",
        "colab_type": "text"
      },
      "cell_type": "markdown",
      "source": [
        "**Question 1:** Match each of the following histograms to the code that produced them. Explain your reasoning."
      ]
    },
    {
      "metadata": {
        "id": "ziRkbGuiU6_B",
        "colab_type": "text"
      },
      "cell_type": "markdown",
      "source": [
        "**Line 1:** `t.hist('x')`\n",
        "\n",
        "**Histogram for Line 1:**\n",
        "\n",
        "**Explanation:**"
      ]
    },
    {
      "metadata": {
        "id": "_5ycgzDXU6_C",
        "colab_type": "text"
      },
      "cell_type": "markdown",
      "source": [
        "**Line 2:** `t.hist('y')`\n",
        "\n",
        "**Histogram for Line 2:**\n",
        "\n",
        "**Explanation:**"
      ]
    },
    {
      "metadata": {
        "id": "tqZc1zaCU6-8",
        "colab_type": "text"
      },
      "cell_type": "markdown",
      "source": [
        "**Histogram A:** \n",
        "\n",
        "![](https://raw.githubusercontent.com/beccaelenzil-teach/materials-su18/master/materials/su18/hw/hw03/var1.png)\n",
        "\n",
        "**Histogram B:** \n",
        "\n",
        "![](https://raw.githubusercontent.com/beccaelenzil-teach/materials-su18/master/materials/su18/hw/hw03/var2.png)"
      ]
    },
    {
      "metadata": {
        "id": "tDH1QAX6PbXY",
        "colab_type": "text"
      },
      "cell_type": "markdown",
      "source": [
        "# Please rerun all tests."
      ]
    },
    {
      "metadata": {
        "id": "uZ1eFix1Pdpj",
        "colab_type": "code",
        "colab": {}
      },
      "cell_type": "code",
      "source": [
        "grade('q1_1.ok')"
      ],
      "execution_count": 0,
      "outputs": []
    },
    {
      "metadata": {
        "id": "ISHlB1aUPlR3",
        "colab_type": "code",
        "colab": {}
      },
      "cell_type": "code",
      "source": [
        "grade('q1_3.ok')"
      ],
      "execution_count": 0,
      "outputs": []
    },
    {
      "metadata": {
        "id": "taxP2nj3PmBA",
        "colab_type": "code",
        "colab": {}
      },
      "cell_type": "code",
      "source": [
        "grade('q2_1.ok')"
      ],
      "execution_count": 0,
      "outputs": []
    },
    {
      "metadata": {
        "id": "BN784-RZPnIa",
        "colab_type": "code",
        "colab": {}
      },
      "cell_type": "code",
      "source": [
        "grade('q2_2.ok')"
      ],
      "execution_count": 0,
      "outputs": []
    },
    {
      "metadata": {
        "id": "M0YXi2tDPn8b",
        "colab_type": "code",
        "colab": {}
      },
      "cell_type": "code",
      "source": [
        "grade('q2_3.ok')"
      ],
      "execution_count": 0,
      "outputs": []
    },
    {
      "metadata": {
        "id": "tIr98m_1Po79",
        "colab_type": "code",
        "colab": {}
      },
      "cell_type": "code",
      "source": [
        "grade('q2_5.ok')"
      ],
      "execution_count": 0,
      "outputs": []
    },
    {
      "metadata": {
        "id": "R-wXXCa7Ppp1",
        "colab_type": "code",
        "colab": {}
      },
      "cell_type": "code",
      "source": [
        "grade('q2_6.ok')"
      ],
      "execution_count": 0,
      "outputs": []
    },
    {
      "metadata": {
        "id": "zGsRr5kEPqhU",
        "colab_type": "code",
        "colab": {}
      },
      "cell_type": "code",
      "source": [
        "grade('q2_7.ok')"
      ],
      "execution_count": 0,
      "outputs": []
    },
    {
      "metadata": {
        "id": "4TPjw_LVPsYE",
        "colab_type": "code",
        "colab": {}
      },
      "cell_type": "code",
      "source": [
        "grade('q3_1.ok')"
      ],
      "execution_count": 0,
      "outputs": []
    },
    {
      "metadata": {
        "id": "xRc8FCiIPtYo",
        "colab_type": "code",
        "colab": {}
      },
      "cell_type": "code",
      "source": [
        "grade('q3_2.ok')"
      ],
      "execution_count": 0,
      "outputs": []
    },
    {
      "metadata": {
        "id": "cTSqYObvPuZf",
        "colab_type": "code",
        "colab": {}
      },
      "cell_type": "code",
      "source": [
        "grade('q3_3.ok')"
      ],
      "execution_count": 0,
      "outputs": []
    },
    {
      "metadata": {
        "id": "UGuPd_SvPvRb",
        "colab_type": "code",
        "colab": {}
      },
      "cell_type": "code",
      "source": [
        "grade('q3_4.ok')"
      ],
      "execution_count": 0,
      "outputs": []
    },
    {
      "metadata": {
        "id": "LuvSaxsePwFk",
        "colab_type": "code",
        "colab": {}
      },
      "cell_type": "code",
      "source": [
        "grade('q3_5.ok')"
      ],
      "execution_count": 0,
      "outputs": []
    },
    {
      "metadata": {
        "id": "rt6yVsxDPw3R",
        "colab_type": "code",
        "colab": {}
      },
      "cell_type": "code",
      "source": [
        "grade('q3_7.ok')"
      ],
      "execution_count": 0,
      "outputs": []
    },
    {
      "metadata": {
        "id": "kO1C389sPyIC",
        "colab_type": "text"
      },
      "cell_type": "markdown",
      "source": [
        "# Feedback\n",
        "\n",
        "Score: "
      ]
    }
  ]
}