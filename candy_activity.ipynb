{
  "nbformat": 4,
  "nbformat_minor": 0,
  "metadata": {
    "colab": {
      "name": "candy-activity.ipynb",
      "version": "0.3.2",
      "provenance": [],
      "collapsed_sections": [],
      "include_colab_link": true
    },
    "kernelspec": {
      "name": "python3",
      "display_name": "Python 3"
    }
  },
  "cells": [
    {
      "cell_type": "markdown",
      "metadata": {
        "id": "view-in-github",
        "colab_type": "text"
      },
      "source": [
        "[View in Colaboratory](https://colab.research.google.com/github/bushschool/data-science/blob/master/candy_activity.ipynb)"
      ]
    },
    {
      "metadata": {
        "id": "0VtrjCyniaXs",
        "colab_type": "text"
      },
      "cell_type": "markdown",
      "source": [
        "# Halloween Candy Activity\n",
        "\n",
        "Today we will explore a halloween candy preferences data set."
      ]
    },
    {
      "metadata": {
        "id": "qhVOOIt9vT99",
        "colab_type": "text"
      },
      "cell_type": "markdown",
      "source": [
        "# Run this cell first"
      ]
    },
    {
      "metadata": {
        "id": "4mx0U4sfaQMB",
        "colab_type": "code",
        "colab": {
          "base_uri": "https://localhost:8080/",
          "height": 68
        },
        "outputId": "afe996b1-5f07-4590-a965-165d52e9afe1"
      },
      "cell_type": "code",
      "source": [
        "!find . -type f -name '*.csv' -delete\n",
        "!find . -type f -name 'wget-log' -delete\n",
        "!find . -type f -name 'wget-log.*' -delete\n",
        "\n",
        "#538 data\n",
        "!wget https://raw.githubusercontent.com/fivethirtyeight/data/master/candy-power-ranking/candy-data.csv\n",
        "!ls\n",
        "\n",
        "from datascience import *\n",
        "import numpy as np"
      ],
      "execution_count": 0,
      "outputs": [
        {
          "output_type": "stream",
          "text": [
            "\n",
            "Redirecting output to ‘wget-log’.\n",
            "candy-data.csv\tsample_data  wget-log\n"
          ],
          "name": "stdout"
        }
      ]
    },
    {
      "metadata": {
        "id": "IlOjYeDAaJna",
        "colab_type": "code",
        "colab": {
          "base_uri": "https://localhost:8080/",
          "height": 586
        },
        "outputId": "895d6934-7dd4-4f5a-bc28-0bc07a2c4ff5"
      },
      "cell_type": "code",
      "source": [
        "# only run if there was an import error\n",
        "!pip install datascience"
      ],
      "execution_count": 0,
      "outputs": [
        {
          "output_type": "stream",
          "text": [
            "Requirement already satisfied: datascience in /usr/local/lib/python3.6/dist-packages (0.10.6)\n",
            "Requirement already satisfied: pytest in /usr/local/lib/python3.6/dist-packages (from datascience) (3.8.1)\n",
            "Requirement already satisfied: sphinx in /usr/local/lib/python3.6/dist-packages (from datascience) (1.8.1)\n",
            "Requirement already satisfied: coverage==3.7.1 in /usr/local/lib/python3.6/dist-packages (from datascience) (3.7.1)\n",
            "Requirement already satisfied: setuptools in /usr/local/lib/python3.6/dist-packages (from datascience) (39.1.0)\n",
            "Requirement already satisfied: folium==0.2.1 in /usr/local/lib/python3.6/dist-packages (from datascience) (0.2.1)\n",
            "Requirement already satisfied: coveralls==0.5 in /usr/local/lib/python3.6/dist-packages (from datascience) (0.5)\n",
            "Requirement already satisfied: atomicwrites>=1.0 in /usr/local/lib/python3.6/dist-packages (from pytest->datascience) (1.2.1)\n",
            "Requirement already satisfied: py>=1.5.0 in /usr/local/lib/python3.6/dist-packages (from pytest->datascience) (1.6.0)\n",
            "Requirement already satisfied: six>=1.10.0 in /usr/local/lib/python3.6/dist-packages (from pytest->datascience) (1.11.0)\n",
            "Requirement already satisfied: attrs>=17.4.0 in /usr/local/lib/python3.6/dist-packages (from pytest->datascience) (18.2.0)\n",
            "Requirement already satisfied: pluggy>=0.7 in /usr/local/lib/python3.6/dist-packages (from pytest->datascience) (0.7.1)\n",
            "Requirement already satisfied: more-itertools>=4.0.0 in /usr/local/lib/python3.6/dist-packages (from pytest->datascience) (4.3.0)\n",
            "Requirement already satisfied: requests>=2.0.0 in /usr/local/lib/python3.6/dist-packages (from sphinx->datascience) (2.18.4)\n",
            "Requirement already satisfied: snowballstemmer>=1.1 in /usr/local/lib/python3.6/dist-packages (from sphinx->datascience) (1.2.1)\n",
            "Requirement already satisfied: sphinxcontrib-websupport in /usr/local/lib/python3.6/dist-packages (from sphinx->datascience) (1.1.0)\n",
            "Requirement already satisfied: packaging in /usr/local/lib/python3.6/dist-packages (from sphinx->datascience) (18.0)\n",
            "Requirement already satisfied: Pygments>=2.0 in /usr/local/lib/python3.6/dist-packages (from sphinx->datascience) (2.1.3)\n",
            "Requirement already satisfied: docutils>=0.11 in /usr/local/lib/python3.6/dist-packages (from sphinx->datascience) (0.14)\n",
            "Requirement already satisfied: babel!=2.0,>=1.3 in /usr/local/lib/python3.6/dist-packages (from sphinx->datascience) (2.6.0)\n",
            "Requirement already satisfied: imagesize in /usr/local/lib/python3.6/dist-packages (from sphinx->datascience) (1.1.0)\n",
            "Requirement already satisfied: Jinja2>=2.3 in /usr/local/lib/python3.6/dist-packages (from sphinx->datascience) (2.10)\n",
            "Requirement already satisfied: alabaster<0.8,>=0.7 in /usr/local/lib/python3.6/dist-packages (from sphinx->datascience) (0.7.11)\n",
            "Requirement already satisfied: PyYAML>=3.10 in /usr/local/lib/python3.6/dist-packages (from coveralls==0.5->datascience) (3.13)\n",
            "Requirement already satisfied: docopt>=0.6.1 in /usr/local/lib/python3.6/dist-packages (from coveralls==0.5->datascience) (0.6.2)\n",
            "Requirement already satisfied: chardet<3.1.0,>=3.0.2 in /usr/local/lib/python3.6/dist-packages (from requests>=2.0.0->sphinx->datascience) (3.0.4)\n",
            "Requirement already satisfied: certifi>=2017.4.17 in /usr/local/lib/python3.6/dist-packages (from requests>=2.0.0->sphinx->datascience) (2018.8.24)\n",
            "Requirement already satisfied: urllib3<1.23,>=1.21.1 in /usr/local/lib/python3.6/dist-packages (from requests>=2.0.0->sphinx->datascience) (1.22)\n",
            "Requirement already satisfied: idna<2.7,>=2.5 in /usr/local/lib/python3.6/dist-packages (from requests>=2.0.0->sphinx->datascience) (2.6)\n",
            "Requirement already satisfied: pyparsing>=2.0.2 in /usr/local/lib/python3.6/dist-packages (from packaging->sphinx->datascience) (2.2.1)\n",
            "Requirement already satisfied: pytz>=0a in /usr/local/lib/python3.6/dist-packages (from babel!=2.0,>=1.3->sphinx->datascience) (2018.5)\n",
            "Requirement already satisfied: MarkupSafe>=0.23 in /usr/local/lib/python3.6/dist-packages (from Jinja2>=2.3->sphinx->datascience) (1.0)\n"
          ],
          "name": "stdout"
        }
      ]
    },
    {
      "metadata": {
        "id": "Q5J4IIZlvX-T",
        "colab_type": "text"
      },
      "cell_type": "markdown",
      "source": [
        "# Halloween Candy Survey "
      ]
    },
    {
      "metadata": {
        "id": "rNY3Kr6pwBOL",
        "colab_type": "text"
      },
      "cell_type": "markdown",
      "source": [
        "## Read the data\n",
        "\n"
      ]
    },
    {
      "metadata": {
        "id": "8dHdSEGWbAt6",
        "colab_type": "code",
        "colab": {}
      },
      "cell_type": "code",
      "source": [
        "# store the survey data 'candy-data.csv' in a table titled 'survey_candy'\n",
        "\n",
        "survey_candy = ...\n",
        "survey_candy"
      ],
      "execution_count": 0,
      "outputs": []
    },
    {
      "metadata": {
        "id": "tqqjhhWcwFbb",
        "colab_type": "text"
      },
      "cell_type": "markdown",
      "source": [
        "## Sort the data"
      ]
    },
    {
      "metadata": {
        "id": "rhSRiXZFnlUS",
        "colab_type": "code",
        "colab": {}
      },
      "cell_type": "code",
      "source": [
        "# sort by win percent - from highest to lowest win_percent. Store the sorted table in 'sorted_candy'\n",
        "\n",
        "sorted_candy = ...\n",
        "sorted_candy"
      ],
      "execution_count": 0,
      "outputs": []
    },
    {
      "metadata": {
        "id": "rymM3rUOwJPv",
        "colab_type": "text"
      },
      "cell_type": "markdown",
      "source": [
        "## Look at the percentage of the top *n* candies that have each of the features (chocolate, fruity, caramel, etc.)."
      ]
    },
    {
      "metadata": {
        "id": "18bNRqZRcjlw",
        "colab_type": "code",
        "colab": {}
      },
      "cell_type": "code",
      "source": [
        "# make new table called 'top_wins' with top *n* candies and the percent of these candies that have each of the features.\n",
        "# the new table should have two columns -- feature and percentage\n",
        "\n",
        "n = ...\n",
        "\n",
        "top_wins = ...\n",
        "top_wins\n"
      ],
      "execution_count": 0,
      "outputs": []
    },
    {
      "metadata": {
        "id": "AiCa6fKLwXrr",
        "colab_type": "text"
      },
      "cell_type": "markdown",
      "source": [
        "## Graph the percentages"
      ]
    },
    {
      "metadata": {
        "id": "IBGDEsLovNB8",
        "colab_type": "code",
        "colab": {}
      },
      "cell_type": "code",
      "source": [
        "# bar graph\n",
        "\n",
        "# graph top wins unsorted\n",
        "top_wins.barh('feature')\n",
        "\n",
        "# graph sorted by percentage\n",
        "top_wins.sort('percentage',descending = True).barh('feature')\n",
        "\n"
      ],
      "execution_count": 0,
      "outputs": []
    },
    {
      "metadata": {
        "id": "Hgca1-6EvST_",
        "colab_type": "text"
      },
      "cell_type": "markdown",
      "source": [
        "# What other research questions do you have?"
      ]
    },
    {
      "metadata": {
        "id": "Qc1YsBfxiQOo",
        "colab_type": "text"
      },
      "cell_type": "markdown",
      "source": [
        ""
      ]
    },
    {
      "metadata": {
        "id": "pOzaw-jcY2e3",
        "colab_type": "code",
        "colab": {}
      },
      "cell_type": "code",
      "source": [
        ""
      ],
      "execution_count": 0,
      "outputs": []
    }
  ]
}