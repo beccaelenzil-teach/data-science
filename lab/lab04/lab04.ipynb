{
  "nbformat": 4,
  "nbformat_minor": 0,
  "metadata": {
    "colab": {
      "name": "lab04.ipynb",
      "version": "0.3.2",
      "provenance": [],
      "collapsed_sections": [
        "4ma3WXgIElaO"
      ],
      "toc_visible": true,
      "include_colab_link": true
    },
    "kernelspec": {
      "display_name": "Python 3",
      "language": "python",
      "name": "python3"
    }
  },
  "cells": [
    {
      "cell_type": "markdown",
      "metadata": {
        "id": "view-in-github",
        "colab_type": "text"
      },
      "source": [
        "[View in Colaboratory](https://colab.research.google.com/github/bushschool/data-science/blob/master/lab04.ipynb)"
      ]
    },
    {
      "metadata": {
        "id": "ISZkfdlaElZA",
        "colab_type": "text"
      },
      "cell_type": "markdown",
      "source": [
        "# Functions and Visualizations"
      ]
    },
    {
      "metadata": {
        "id": "Wv3n4wshElZB",
        "colab_type": "text"
      },
      "cell_type": "markdown",
      "source": [
        "Welcome to lab 4! This week, we'll learn about functions and the table method `apply` from [Section 8.1](https://www.inferentialthinking.com/chapters/08/1/applying-a-function-to-a-column.html).  We'll also learn about visualization from [Chapter 7](https://www.inferentialthinking.com/chapters/07/visualization.html).\n"
      ]
    },
    {
      "metadata": {
        "id": "aR-IMG9qGCvJ",
        "colab_type": "text"
      },
      "cell_type": "markdown",
      "source": [
        "**Run the cell below the first time you work in this notebook.**"
      ]
    },
    {
      "metadata": {
        "id": "EWpHoZNMF9tR",
        "colab_type": "code",
        "colab": {}
      },
      "cell_type": "code",
      "source": [
        "!pip install datascience\n",
        "!pip install okgrade\n",
        "!pip install ipywidgets"
      ],
      "execution_count": 0,
      "outputs": []
    },
    {
      "metadata": {
        "id": "OfG5YkYugtcZ",
        "colab_type": "text"
      },
      "cell_type": "markdown",
      "source": [
        "**Run the cell below everytime you work in this notebook.**"
      ]
    },
    {
      "metadata": {
        "id": "LZH-C9SJEuwI",
        "colab_type": "code",
        "colab": {}
      },
      "cell_type": "code",
      "source": [
        "# Don't change this cell; just run it. \n",
        "!find . -type f -name '*.ok' -delete\n",
        "!find . -type f -name '*.csv' -delete\n",
        "!find . -type f -name '*wget-log.csv' -delete\n",
        "\n",
        "!wget https://raw.githubusercontent.com/beccaelenzil-teach/materials-su18/master/materials/su18/lab/lab04/tests/q1_1.ok\n",
        "!wget https://raw.githubusercontent.com/beccaelenzil-teach/materials-su18/master/materials/su18/lab/lab04/tests/q1_2.ok\n",
        "!wget https://raw.githubusercontent.com/beccaelenzil-teach/materials-su18/master/materials/su18/lab/lab04/tests/q1_3.ok\n",
        "!wget https://raw.githubusercontent.com/beccaelenzil-teach/materials-su18/master/materials/su18/lab/lab04/tests/q1_4.ok\n",
        "!wget https://raw.githubusercontent.com/beccaelenzil-teach/materials-su18/master/materials/su18/lab/lab04/tests/q2_1.ok\n",
        "!wget https://raw.githubusercontent.com/beccaelenzil-teach/materials-su18/master/materials/su18/lab/lab04/tests/q2_2.ok\n",
        "!wget https://raw.githubusercontent.com/beccaelenzil-teach/materials-su18/master/materials/su18/lab/lab04/tests/q2_3.ok\n",
        "!wget https://raw.githubusercontent.com/beccaelenzil-teach/materials-su18/master/materials/su18/lab/lab04/tests/q2_4.ok\n",
        "!wget https://raw.githubusercontent.com/beccaelenzil-teach/materials-su18/master/materials/su18/lab/lab04/tests/q2_5.ok\n",
        "!wget https://raw.githubusercontent.com/beccaelenzil-teach/materials-su18/master/materials/su18/lab/lab04/tests/q3_1.ok\n",
        "!wget https://raw.githubusercontent.com/beccaelenzil-teach/materials-su18/master/materials/su18/lab/lab04/tests/q3_2.ok\n",
        "!wget https://raw.githubusercontent.com/beccaelenzil-teach/materials-su18/master/materials/su18/lab/lab04/tests/q3_3.ok\n",
        "!wget https://raw.githubusercontent.com/beccaelenzil-teach/materials-su18/master/materials/su18/lab/lab04/tests/q3_4.ok\n",
        "!wget https://raw.githubusercontent.com/beccaelenzil-teach/materials-su18/master/materials/su18/lab/lab04/tests/q3_5.ok\n",
        "!wget https://raw.githubusercontent.com/beccaelenzil-teach/materials-su18/master/materials/su18/lab/lab04/tests/q3_6.ok\n",
        "!wget https://raw.githubusercontent.com/beccaelenzil-teach/materials-su18/master/materials/su18/lab/lab04/tests/q4_3.ok\n",
        "  \n",
        "!wget https://raw.githubusercontent.com/beccaelenzil-teach/materials-su18/master/materials/su18/lab/lab04/raw_compensation.csv\n",
        "!wget https://raw.githubusercontent.com/beccaelenzil-teach/materials-su18/master/materials/su18/lab/lab04/movies_by_year.csv\n",
        "\n",
        "from okgrade import *\n",
        "from datascience import *\n",
        "import numpy as np\n",
        "\n",
        "# These lines set up graphing capabilities.\n",
        "import matplotlib\n",
        "%matplotlib inline\n",
        "import matplotlib.pyplot as plt\n",
        "plt.style.use('fivethirtyeight')\n",
        "import warnings\n",
        "warnings.simplefilter('ignore', FutureWarning)\n",
        "\n",
        "from ipywidgets import interact, interactive, fixed, interact_manual\n",
        "import ipywidgets as widgets\n",
        "\n",
        "!ls"
      ],
      "execution_count": 0,
      "outputs": []
    },
    {
      "metadata": {
        "id": "yK0tU_HpElZJ",
        "colab_type": "text"
      },
      "cell_type": "markdown",
      "source": [
        "## 1. Functions and CEO Incomes\n",
        "\n",
        "Let's start with a real data analysis task.  We'll look at the 2015 compensation of CEOs at the 100 largest companies in California.  The data were compiled for a Los Angeles Times analysis [here](http://spreadsheets.latimes.com/california-ceo-compensation/), and ultimately came from [filings](https://www.sec.gov/answers/proxyhtf.htm) mandated by the SEC from all publicly-traded companies.  Two companies have two CEOs, so there are 102 CEOs in the dataset.\n",
        "\n",
        "We've copied the data in raw form from the LA Times page into a file called `raw_compensation.csv`.  (The page notes that all dollar amounts are in millions of dollars.)"
      ]
    },
    {
      "metadata": {
        "id": "KpravM85ElZK",
        "colab_type": "code",
        "colab": {}
      },
      "cell_type": "code",
      "source": [
        "raw_compensation = Table.read_table('raw_compensation.csv')\n",
        "raw_compensation"
      ],
      "execution_count": 0,
      "outputs": []
    },
    {
      "metadata": {
        "id": "e_HGleviElZN",
        "colab_type": "text"
      },
      "cell_type": "markdown",
      "source": [
        "**Question 1.** We want to compute the average of the CEOs' pay. Try running the cell below."
      ]
    },
    {
      "metadata": {
        "id": "igNFDnDkElZO",
        "colab_type": "code",
        "colab": {}
      },
      "cell_type": "code",
      "source": [
        "np.average(raw_compensation.column(\"Total Pay\"))"
      ],
      "execution_count": 0,
      "outputs": []
    },
    {
      "metadata": {
        "id": "0DXkajxjElZS",
        "colab_type": "text"
      },
      "cell_type": "markdown",
      "source": [
        "You should see an error. Let's examine why this error occured by looking at the values in the \"Total Pay\" column. Use the `type` function and set `total_pay_type` to the type of the first value in the \"Total Pay\" column."
      ]
    },
    {
      "metadata": {
        "id": "vwE5sAoNElZS",
        "colab_type": "code",
        "colab": {}
      },
      "cell_type": "code",
      "source": [
        "total_pay_type = ...\n",
        "total_pay_type"
      ],
      "execution_count": 0,
      "outputs": []
    },
    {
      "metadata": {
        "id": "cRL5xgIEElZX",
        "colab_type": "code",
        "colab": {}
      },
      "cell_type": "code",
      "source": [
        "grade('q1_1.ok')"
      ],
      "execution_count": 0,
      "outputs": []
    },
    {
      "metadata": {
        "id": "n4TdMbH8ElZa",
        "colab_type": "text"
      },
      "cell_type": "markdown",
      "source": [
        "**Question 2.** You should have found that the values in \"Total Pay\" column are strings (text). It doesn't make sense to take the average of the text values, so we need to convert them to numbers if we want to do this. Extract the first value in the \"Total Pay\" column.  It's Mark Hurd's pay in 2015, in *millions* of dollars.  Call it `mark_hurd_pay_string`."
      ]
    },
    {
      "metadata": {
        "id": "k9BZv9fJElZa",
        "colab_type": "code",
        "colab": {}
      },
      "cell_type": "code",
      "source": [
        "mark_hurd_pay_string = ...\n",
        "mark_hurd_pay_string"
      ],
      "execution_count": 0,
      "outputs": []
    },
    {
      "metadata": {
        "id": "keI3u6IEElZe",
        "colab_type": "code",
        "colab": {}
      },
      "cell_type": "code",
      "source": [
        "grade('q1_2.ok')"
      ],
      "execution_count": 0,
      "outputs": []
    },
    {
      "metadata": {
        "id": "vM5F11DWElZg",
        "colab_type": "text"
      },
      "cell_type": "markdown",
      "source": [
        "**Question 3.** Convert `mark_hurd_pay_string` to a number of *dollars*.  The string method `strip` will be useful for removing the dollar sign; it removes a specified character from the start or end of a string.  For example, the value of `\"100%\".strip(\"%\")` is the string `\"100\"`.  You'll also need the function `float`, which converts a string that looks like a number to an actual number.  Last, remember that the answer should be in dollars, not millions of dollars."
      ]
    },
    {
      "metadata": {
        "id": "j_LRJa0zElZj",
        "colab_type": "code",
        "colab": {}
      },
      "cell_type": "code",
      "source": [
        "mark_hurd_pay = ...\n",
        "mark_hurd_pay"
      ],
      "execution_count": 0,
      "outputs": []
    },
    {
      "metadata": {
        "id": "Hq8WgZ4dElZo",
        "colab_type": "code",
        "colab": {}
      },
      "cell_type": "code",
      "source": [
        "grade('q1_3.ok')"
      ],
      "execution_count": 0,
      "outputs": []
    },
    {
      "metadata": {
        "id": "iK-dHXm8ElZr",
        "colab_type": "text"
      },
      "cell_type": "markdown",
      "source": [
        "To compute the average pay, we need to do this for every CEO.  But that looks like it would involve copying this code 102 times.\n",
        "\n",
        "This is where functions come in.  First, we'll define a new function, giving a name to the expression that converts \"total pay\" strings to numeric values.  Later in this lab we'll see the payoff: we can call that function on every pay string in the dataset at once.\n",
        "\n",
        "**Question 4.** Copy the expression you used to compute `mark_hurd_pay` as the `return` expression of the function below, but replace the specific `mark_hurd_pay_string` with the generic `pay_string` name specified in the first line of the `def` statement.\n",
        "\n",
        "*Hint*: When dealing with functions, you should generally not be referencing any variable outside of the function. Usually, you want to be working with the arguments that are passed into it, such as `pay_string` for this function. "
      ]
    },
    {
      "metadata": {
        "id": "9Kr3IWmuElZs",
        "colab_type": "code",
        "colab": {}
      },
      "cell_type": "code",
      "source": [
        "def convert_pay_string_to_number(pay_string):\n",
        "    \"\"\"Converts a pay string like '$100' (in millions) to a number of dollars.\"\"\"\n",
        "    return ..."
      ],
      "execution_count": 0,
      "outputs": []
    },
    {
      "metadata": {
        "id": "oamYYXCuElZw",
        "colab_type": "code",
        "colab": {}
      },
      "cell_type": "code",
      "source": [
        "grade('q1_4.ok')"
      ],
      "execution_count": 0,
      "outputs": []
    },
    {
      "metadata": {
        "id": "h_UqYNrPElZ0",
        "colab_type": "text"
      },
      "cell_type": "markdown",
      "source": [
        "Running that cell doesn't convert any particular pay string. Instead, it creates a function called `convert_pay_string_to_number` that can convert any string with the right format to a number representing millions of dollars.\n",
        "\n",
        "We can call our function just like we call the built-in functions we've seen. It takes one argument, a string, and it returns a number."
      ]
    },
    {
      "metadata": {
        "id": "Gkdm_9z6ElZ2",
        "colab_type": "code",
        "colab": {}
      },
      "cell_type": "code",
      "source": [
        "convert_pay_string_to_number('$42')"
      ],
      "execution_count": 0,
      "outputs": []
    },
    {
      "metadata": {
        "id": "4EtmoTXjElZ7",
        "colab_type": "code",
        "colab": {}
      },
      "cell_type": "code",
      "source": [
        "convert_pay_string_to_number(mark_hurd_pay_string)"
      ],
      "execution_count": 0,
      "outputs": []
    },
    {
      "metadata": {
        "id": "omu8Y-RhElaA",
        "colab_type": "code",
        "colab": {}
      },
      "cell_type": "code",
      "source": [
        "# We can also compute Safra Catz's pay in the same way:\n",
        "convert_pay_string_to_number(raw_compensation.where(\"Name\", are.containing(\"Safra\")).column(\"Total Pay\").item(0))"
      ],
      "execution_count": 0,
      "outputs": []
    },
    {
      "metadata": {
        "id": "Gs1g5lJDElaI",
        "colab_type": "text"
      },
      "cell_type": "markdown",
      "source": [
        "So, what have we gained by defining the `convert_pay_string_to_number` function? \n",
        "Well, without it, we'd have to copy that `10**6 * float(pay_string.strip(\"$\"))` stuff each time we wanted to convert a pay string.  Now we just call a function whose name says exactly what it's doing.\n",
        "\n",
        "Soon, we'll see how to apply this function to every pay string in a single expression. First, let's take a brief detour and introduce `interact`."
      ]
    },
    {
      "metadata": {
        "id": "xYMEJFNDElaJ",
        "colab_type": "text"
      },
      "cell_type": "markdown",
      "source": [
        "### Using `interact`\n",
        "\n",
        "We've included a nifty function called `interact` that allows you to\n",
        "call a function with different arguments.\n",
        "\n",
        "To use it, call `interact` with the function you want to interact with as the\n",
        "first argument, then specify a default value for each argument of the original\n",
        "function like so:"
      ]
    },
    {
      "metadata": {
        "id": "nwkRPPBTElaK",
        "colab_type": "code",
        "colab": {}
      },
      "cell_type": "code",
      "source": [
        "_ = interact(convert_pay_string_to_number, pay_string='$42')"
      ],
      "execution_count": 0,
      "outputs": []
    },
    {
      "metadata": {
        "id": "Pw6ZI1fGElaN",
        "colab_type": "text"
      },
      "cell_type": "markdown",
      "source": [
        "You can now change the value in the textbox to automatically call\n",
        "`convert_pay_string_to_number` with the argument you enter in the `pay_string`\n",
        "textbox. For example, entering in `'$49'` in the textbox will display the result of\n",
        "running `convert_pay_string_to_number('$49')`. Neat!\n",
        "\n",
        "Note that we'll never ask you to write the `interact` function calls yourself as\n",
        "part of a question. However, we'll include it here and there where it's helpful\n",
        "and you'll probably find it useful to use yourself.\n",
        "\n",
        "Now, let's continue on and write more functions."
      ]
    },
    {
      "metadata": {
        "id": "4ma3WXgIElaO",
        "colab_type": "text"
      },
      "cell_type": "markdown",
      "source": [
        "## 2. Defining functions\n",
        "\n",
        "Let's write a very simple function that converts a proportion to a percentage by multiplying it by 100.  For example, the value of `to_percentage(.5)` should be the number 50.  (No percent sign.)\n",
        "\n",
        "A function definition has a few parts.\n",
        "\n",
        "##### `def`\n",
        "It always starts with `def` (short for **def**ine):\n",
        "\n",
        "    def\n",
        "\n",
        "##### Name\n",
        "Next comes the name of the function.  Let's call our function `to_percentage`.\n",
        "    \n",
        "    def to_percentage\n",
        "\n",
        "##### Signature\n",
        "Next comes something called the *signature* of the function.  This tells Python how many arguments your function should have, and what names you'll use to refer to those arguments in the function's code.  `to_percentage` should take one argument, and we'll call that argument `proportion` since it should be a proportion.\n",
        "\n",
        "    def to_percentage(proportion)\n",
        "\n",
        "We put a colon after the signature to tell Python it's over.\n",
        "\n",
        "    def to_percentage(proportion):\n",
        "\n",
        "##### Documentation\n",
        "Functions can do complicated things, so you should write an explanation of what your function does.  For small functions, this is less important, but it's a good habit to learn from the start.  Conventionally, Python functions are documented by writing a triple-quoted string:\n",
        "\n",
        "    def to_percentage(proportion):\n",
        "        \"\"\"Converts a proportion to a percentage.\"\"\"\n",
        "    \n",
        "    \n",
        "##### Body\n",
        "Now we start writing code that runs when the function is called.  This is called the *body* of the function.  We can write anything we could write anywhere else.  First let's give a name to the number we multiply a proportion by to get a percentage.\n",
        "\n",
        "    def to_percentage(proportion):\n",
        "        \"\"\"Converts a proportion to a percentage.\"\"\"\n",
        "        factor = 100\n",
        "\n",
        "##### `return`\n",
        "The special instruction `return` in a function's body tells Python to make the value of the function call equal to whatever comes right after `return`.  We want the value of `to_percentage(.5)` to be the proportion .5 times the factor 100, so we write:\n",
        "\n",
        "    def to_percentage(proportion):\n",
        "        \"\"\"Converts a proportion to a percentage.\"\"\"\n",
        "        factor = 100\n",
        "        return proportion * factor\n",
        "Note that `return` inside a function gives the function a value, while `print`, which we have used before, is a function which has no `return` value and just prints a certain value out to the console. The two are very different. "
      ]
    },
    {
      "metadata": {
        "id": "o1BpX1gqElaQ",
        "colab_type": "text"
      },
      "cell_type": "markdown",
      "source": [
        "**Question 1.** Define `to_percentage` in the cell below.  Call your function to convert the proportion .2 to a percentage.  Name that percentage `twenty_percent`."
      ]
    },
    {
      "metadata": {
        "id": "VpGzK84LElaR",
        "colab_type": "code",
        "colab": {}
      },
      "cell_type": "code",
      "source": [
        "def ...\n",
        "    \"\"\" ... \"\"\"\n",
        "    ... = ...\n",
        "    return ...\n",
        "\n",
        "twenty_percent = ...\n",
        "twenty_percent"
      ],
      "execution_count": 0,
      "outputs": []
    },
    {
      "metadata": {
        "id": "1OpcyDDuElaW",
        "colab_type": "code",
        "colab": {}
      },
      "cell_type": "code",
      "source": [
        "grade('q2_1.ok')"
      ],
      "execution_count": 0,
      "outputs": []
    },
    {
      "metadata": {
        "id": "TT0kN6iuElaY",
        "colab_type": "text"
      },
      "cell_type": "markdown",
      "source": [
        "Like the built-in functions, you can use named values as arguments to your function.\n",
        "\n",
        "**Question 2.** Use `to_percentage` again to convert the proportion named `a_proportion` (defined below) to a percentage called `a_percentage`.\n",
        "\n",
        "*Note:* You don't need to define `to_percentage` again!  Just like other named things, functions stick around after you define them."
      ]
    },
    {
      "metadata": {
        "id": "O03vtoQ9ElaY",
        "colab_type": "code",
        "colab": {}
      },
      "cell_type": "code",
      "source": [
        "a_proportion = 2**(.5) / 2\n",
        "a_percentage = ...\n",
        "a_percentage"
      ],
      "execution_count": 0,
      "outputs": []
    },
    {
      "metadata": {
        "id": "h7v1s7ugElac",
        "colab_type": "code",
        "colab": {}
      },
      "cell_type": "code",
      "source": [
        "grade('q2_2.ok')"
      ],
      "execution_count": 0,
      "outputs": []
    },
    {
      "metadata": {
        "id": "kLOFS48sElah",
        "colab_type": "text"
      },
      "cell_type": "markdown",
      "source": [
        "Here's something important about functions: the names assigned within a function body are only accessible within the function body. Once the function has returned, those names are gone.  So even though you defined `factor = 100` inside `to_percentage` above and then called `to_percentage`, you cannot refer to `factor` anywhere except inside the body of `to_percentage`:"
      ]
    },
    {
      "metadata": {
        "id": "XUvdO2f8Elaj",
        "colab_type": "code",
        "colab": {}
      },
      "cell_type": "code",
      "source": [
        "# You should see an error when you run this.  (If you don't, you might\n",
        "# have defined factor somewhere above.)\n",
        "factor"
      ],
      "execution_count": 0,
      "outputs": []
    },
    {
      "metadata": {
        "id": "55stIlvUElam",
        "colab_type": "text"
      },
      "cell_type": "markdown",
      "source": [
        "As we've seen with the built-in functions, functions can also take strings (or arrays, or tables) as arguments, and they can return those things, too.\n",
        "\n",
        "**Question 3.** Define a function called `disemvowel`.  It should take a single string as its argument.  (You can call that argument whatever you want.)  It should return a copy of that string, but with all the characters that are vowels removed.  (In English, the vowels are the characters \"a\", \"e\", \"i\", \"o\", and \"u\".)\n",
        "\n",
        "*Hint:* To remove all the \"a\"s from a string, you can use `that_string.replace(\"a\", \"\")`.  The `.replace` method for strings returns another string, so you can call `replace` multiple times, one after the other. "
      ]
    },
    {
      "metadata": {
        "id": "zQrbglqBElan",
        "colab_type": "code",
        "colab": {}
      },
      "cell_type": "code",
      "source": [
        "def disemvowel(a_string):\n",
        "    ...\n",
        "    ...\n",
        "\n",
        "# An example call to your function.  (It's often helpful to run\n",
        "# an example call from time to time while you're writing a function,\n",
        "# to see how it currently works.)\n",
        "disemvowel(\"Can you read this without vowels?\")"
      ],
      "execution_count": 0,
      "outputs": []
    },
    {
      "metadata": {
        "id": "eKt9QG9yElas",
        "colab_type": "code",
        "colab": {}
      },
      "cell_type": "code",
      "source": [
        "# Alternatively, you can use interact to call your function\n",
        "_ = interact(disemvowel, a_string='Hello world')"
      ],
      "execution_count": 0,
      "outputs": []
    },
    {
      "metadata": {
        "id": "CH7pZdD2Elau",
        "colab_type": "code",
        "colab": {}
      },
      "cell_type": "code",
      "source": [
        "grade('q2_3.ok')"
      ],
      "execution_count": 0,
      "outputs": []
    },
    {
      "metadata": {
        "id": "DiCk7dGjElay",
        "colab_type": "text"
      },
      "cell_type": "markdown",
      "source": [
        "##### Calls on calls on calls\n",
        "Just as you write a series of lines to build up a complex computation, it's useful to define a series of small functions that build on each other.  Since you can write any code inside a function's body, you can call other functions you've written.\n",
        "\n",
        "If a function is a like a recipe, defining a function in terms of other functions is like having a recipe for cake telling you to follow another recipe to make the frosting, and another to make the sprinkles.  This makes the cake recipe shorter and clearer, and it avoids having a bunch of duplicated frosting recipes.  It's a foundation of productive programming.\n",
        "\n",
        "For example, suppose you want to count the number of characters *that aren't vowels* in a piece of text.  One way to do that is this to remove all the vowels and count the size of the remaining string.\n",
        "\n",
        "**Question 4.** Write a function called `num_non_vowels`.  It should take a string as its argument and return a number.  The number should be the number of characters in the argument string that aren't vowels.\n",
        "\n",
        "*Hint:* The function `len` takes a string as its argument and returns the number of characters in it."
      ]
    },
    {
      "metadata": {
        "id": "x2Wi1qB4Ela0",
        "colab_type": "code",
        "colab": {}
      },
      "cell_type": "code",
      "source": [
        "def num_non_vowels(a_string):\n",
        "    \"\"\"The number of characters in a string, minus the vowels.\"\"\"\n",
        "    ...\n",
        "\n",
        "# Try calling your function yourself to make sure the output is what\n",
        "# you expect. You can also use the interact function if you'd like."
      ],
      "execution_count": 0,
      "outputs": []
    },
    {
      "metadata": {
        "id": "lRull2RvEla2",
        "colab_type": "code",
        "colab": {}
      },
      "cell_type": "code",
      "source": [
        "grade('q2_4.ok')"
      ],
      "execution_count": 0,
      "outputs": []
    },
    {
      "metadata": {
        "id": "eIwUFYbuEla5",
        "colab_type": "text"
      },
      "cell_type": "markdown",
      "source": [
        "Functions can also encapsulate code that *does things* rather than just computing values.  For example, if you call `print` inside a function, and then call that function, something will get printed.\n",
        "\n",
        "The `movies_by_year` dataset in the textbook has information about movie sales in recent years.  Suppose you'd like to display the year with the 5th-highest total gross movie sales, printed in a human-readable way.  You might do this:"
      ]
    },
    {
      "metadata": {
        "id": "IMbnNKH6Ela7",
        "colab_type": "code",
        "colab": {}
      },
      "cell_type": "code",
      "source": [
        "movies_by_year = Table.read_table(\"movies_by_year.csv\")\n",
        "rank = 5\n",
        "fifth_from_top_movie_year = movies_by_year.sort(\"Total Gross\", descending=True).column(\"Year\").item(rank-1)\n",
        "print(\"Year number\", rank, \"for total gross movie sales was:\", fifth_from_top_movie_year)"
      ],
      "execution_count": 0,
      "outputs": []
    },
    {
      "metadata": {
        "id": "ySEa3C22Ela_",
        "colab_type": "text"
      },
      "cell_type": "markdown",
      "source": [
        "After writing this, you realize you also wanted to print out the 2nd and 3rd-highest years.  Instead of copying your code, you decide to put it in a function.  Since the rank varies, you make that an argument to your function.\n",
        "\n",
        "**Question 5.** Write a function called `print_kth_top_movie_year`.  It should take a single argument, the rank of the year (like 2, 3, or 5 in the above examples).  It should print out a message like the one above.  It shouldn't have a `return` statement."
      ]
    },
    {
      "metadata": {
        "id": "TG5q-wW-ElbC",
        "colab_type": "code",
        "colab": {}
      },
      "cell_type": "code",
      "source": [
        "def print_kth_top_movie_year(k):\n",
        "    # Our solution used 2 lines.\n",
        "    ...\n",
        "    ...\n",
        "\n",
        "# Example calls to your function:\n",
        "print_kth_top_movie_year(2)\n",
        "print_kth_top_movie_year(3)"
      ],
      "execution_count": 0,
      "outputs": []
    },
    {
      "metadata": {
        "id": "UmPVxRIBElbG",
        "colab_type": "code",
        "colab": {}
      },
      "cell_type": "code",
      "source": [
        "# interact also allows you to pass in an array for a function argument. It will\n",
        "# then present a dropdown menu of options.\n",
        "_ = interact(print_kth_top_movie_year, k=np.arange(1, 10))"
      ],
      "execution_count": 0,
      "outputs": []
    },
    {
      "metadata": {
        "id": "wL7zwfWPElbK",
        "colab_type": "code",
        "colab": {}
      },
      "cell_type": "code",
      "source": [
        "grade('q2_5.ok')"
      ],
      "execution_count": 0,
      "outputs": []
    },
    {
      "metadata": {
        "id": "4EOb9JN-ElbN",
        "colab_type": "text"
      },
      "cell_type": "markdown",
      "source": [
        "## 3. `apply`ing functions\n",
        "\n",
        "Defining a function is a lot like giving a name to a value with `=`.  In fact, a function is a value just like the number 1 or the text \"the\"!\n",
        "\n",
        "For example, we can make a new name for the built-in function `max` if we want:"
      ]
    },
    {
      "metadata": {
        "id": "O5yQPuaOElbN",
        "colab_type": "code",
        "colab": {}
      },
      "cell_type": "code",
      "source": [
        "our_name_for_max = max\n",
        "our_name_for_max(2, 6)"
      ],
      "execution_count": 0,
      "outputs": []
    },
    {
      "metadata": {
        "id": "a9Gs1y8bElbR",
        "colab_type": "text"
      },
      "cell_type": "markdown",
      "source": [
        "The old name for `max` is still around:"
      ]
    },
    {
      "metadata": {
        "id": "fvER5E5JElbS",
        "colab_type": "code",
        "colab": {}
      },
      "cell_type": "code",
      "source": [
        "max(2, 6)"
      ],
      "execution_count": 0,
      "outputs": []
    },
    {
      "metadata": {
        "id": "tQl5MBz0ElbV",
        "colab_type": "text"
      },
      "cell_type": "markdown",
      "source": [
        "Try just writing `max` or `our_name_for_max` (or the name of any other function) in a cell, and run that cell.  Python will print out a (very brief) description of the function."
      ]
    },
    {
      "metadata": {
        "id": "DThIASjDElbW",
        "colab_type": "code",
        "colab": {}
      },
      "cell_type": "code",
      "source": [
        "max"
      ],
      "execution_count": 0,
      "outputs": []
    },
    {
      "metadata": {
        "id": "Atco51A1ElbY",
        "colab_type": "text"
      },
      "cell_type": "markdown",
      "source": [
        "Why is this useful?  Since functions are just values, it's possible to pass them as arguments to other functions.  Here's a simple but not-so-practical example: we can make an array of functions."
      ]
    },
    {
      "metadata": {
        "id": "Uux0nqiFElbZ",
        "colab_type": "code",
        "colab": {}
      },
      "cell_type": "code",
      "source": [
        "make_array(max, np.average, are.equal_to)"
      ],
      "execution_count": 0,
      "outputs": []
    },
    {
      "metadata": {
        "id": "2h8I-85IElbc",
        "colab_type": "text"
      },
      "cell_type": "markdown",
      "source": [
        "**Question 1.** Make an array containing any 3 other functions you've seen.  Call it `some_functions`."
      ]
    },
    {
      "metadata": {
        "id": "9RrqJ89ZElbd",
        "colab_type": "code",
        "colab": {}
      },
      "cell_type": "code",
      "source": [
        "some_functions = ...\n",
        "some_functions"
      ],
      "execution_count": 0,
      "outputs": []
    },
    {
      "metadata": {
        "id": "f8llcszcElbi",
        "colab_type": "code",
        "colab": {}
      },
      "cell_type": "code",
      "source": [
        "grade('q3_1.ok')"
      ],
      "execution_count": 0,
      "outputs": []
    },
    {
      "metadata": {
        "id": "c6viY3ZnElbk",
        "colab_type": "text"
      },
      "cell_type": "markdown",
      "source": [
        "Working with functions as values can lead to some funny-looking code.  For example, see if you can figure out why this works:"
      ]
    },
    {
      "metadata": {
        "id": "G5A34yukElbk",
        "colab_type": "code",
        "colab": {}
      },
      "cell_type": "code",
      "source": [
        "make_array(max, np.average, are.equal_to).item(0)(4, -2, 7)"
      ],
      "execution_count": 0,
      "outputs": []
    },
    {
      "metadata": {
        "id": "mdYExuGnElbm",
        "colab_type": "text"
      },
      "cell_type": "markdown",
      "source": [
        "Here's a simpler example that's actually useful: the table method `apply`.\n",
        "\n",
        "`apply` calls a function many times, once on *each* element in a column of a table.  It produces an array of the results.  Here we use `apply` to convert every CEO's pay to a number, using the function you defined:"
      ]
    },
    {
      "metadata": {
        "id": "3eaCv059Elbn",
        "colab_type": "code",
        "colab": {}
      },
      "cell_type": "code",
      "source": [
        "raw_compensation.apply(convert_pay_string_to_number, \"Total Pay\")"
      ],
      "execution_count": 0,
      "outputs": []
    },
    {
      "metadata": {
        "id": "9pJgemIHElbr",
        "colab_type": "text"
      },
      "cell_type": "markdown",
      "source": [
        "Here's an illustration of what that did:\n",
        "\n",
        "<img src=\"https://raw.githubusercontent.com/beccaelenzil-teach/materials-su18/master/materials/su18/lab/lab04/apply.png\"/>\n",
        "\n",
        "Note that we didn't write something like `convert_pay_string_to_number()` or `convert_pay_string_to_number(\"Total Pay\")`.  The job of `apply` is to call the function we give it, so instead of calling `convert_pay_string_to_number` ourselves, we just write its name as an argument to `apply`.\n",
        "\n",
        "**Question 2.** Using `apply`, make a table that's a copy of `raw_compensation` with one more column called \"Total Pay (\\$)\".  It should be the result of applying `convert_pay_string_to_number` to the \"Total Pay\" column, as we did above, and creating a new table which is the old one, but with the \"Total Pay\" column redone.  Call the new table `compensation`."
      ]
    },
    {
      "metadata": {
        "id": "0nRzqX5lElbr",
        "colab_type": "code",
        "colab": {}
      },
      "cell_type": "code",
      "source": [
        "compensation = raw_compensation.with_column(\n",
        "    \"Total Pay ($)\",\n",
        "    ...\n",
        "compensation"
      ],
      "execution_count": 0,
      "outputs": []
    },
    {
      "metadata": {
        "id": "xM-BVfwPElbu",
        "colab_type": "code",
        "colab": {}
      },
      "cell_type": "code",
      "source": [
        "grade('q3_2.ok')"
      ],
      "execution_count": 0,
      "outputs": []
    },
    {
      "metadata": {
        "id": "ATtS4k0NElbx",
        "colab_type": "text"
      },
      "cell_type": "markdown",
      "source": [
        "Now that we have the pay in numbers, we can compute things about them.\n",
        "\n",
        "**Question 3.** Compute the average total pay of the CEOs in the dataset."
      ]
    },
    {
      "metadata": {
        "id": "qok2kToQElby",
        "colab_type": "code",
        "colab": {}
      },
      "cell_type": "code",
      "source": [
        "average_total_pay = ...\n",
        "average_total_pay"
      ],
      "execution_count": 0,
      "outputs": []
    },
    {
      "metadata": {
        "id": "fueOA5S5Elbz",
        "colab_type": "code",
        "colab": {}
      },
      "cell_type": "code",
      "source": [
        "grade('q3_3.ok')"
      ],
      "execution_count": 0,
      "outputs": []
    },
    {
      "metadata": {
        "id": "HDHQZaUHElb6",
        "colab_type": "text"
      },
      "cell_type": "markdown",
      "source": [
        "**Question 4.** Companies pay executives in a variety of ways: directly in cash; by granting stock or other \"equity\" in the company; or with ancillary benefits (like private jets).  Compute the proportion of each CEO's pay that was cash.  (Your answer should be an array of numbers, one for each CEO in the dataset.)"
      ]
    },
    {
      "metadata": {
        "id": "LXD86zjLElb7",
        "colab_type": "code",
        "colab": {}
      },
      "cell_type": "code",
      "source": [
        "cash_proportion = ...\n",
        "cash_proportion"
      ],
      "execution_count": 0,
      "outputs": []
    },
    {
      "metadata": {
        "id": "NschDDmZElcA",
        "colab_type": "code",
        "colab": {}
      },
      "cell_type": "code",
      "source": [
        "grade('q3_4.ok')"
      ],
      "execution_count": 0,
      "outputs": []
    },
    {
      "metadata": {
        "id": "doq_4P4AElcG",
        "colab_type": "text"
      },
      "cell_type": "markdown",
      "source": [
        "Check out the \"% Change\" column in `compensation`.  It shows the percentage increase in the CEO's pay from the previous year.  For CEOs with no previous year on record, it instead says \"(No previous year)\".  The values in this column are *strings*, not numbers, so like the \"Total Pay\" column, it's not usable without a bit of extra work.\n",
        "\n",
        "Given your current pay and the percentage increase from the previous year, you can compute your previous year's pay.  For example, if your pay is \\$100 this year, and that's an increase of 50% from the previous year, then your previous year's pay was $\\frac{\\$100}{1 + \\frac{50}{100}}$, or around \\$66.66.\n",
        "\n",
        "**Question 5.** Create a new table called `with_previous_compensation`.  It should be a copy of `compensation`, but with the \"(No previous year)\" CEOs filtered out, and with an extra column called \"2014 Total Pay ($)\".  That column should have each CEO's pay in 2014.\n",
        "\n",
        "*Hint:* This question takes several steps, but each one is still something you've seen before.  Take it one step at a time, using as many lines as you need.  You can print out your results after each step to make sure you're on the right track.\n",
        "\n",
        "*Hint 2:* You'll need to define a function.  You can do that just above your other code."
      ]
    },
    {
      "metadata": {
        "id": "Y-ZoPOWSElcH",
        "colab_type": "code",
        "colab": {}
      },
      "cell_type": "code",
      "source": [
        "#Definition to turn percent to number\n",
        "def percent_string_to_num(percent_string):\n",
        "    return ...\n",
        "\n",
        "#Compensation table where there is a previous year\n",
        "having_previous_year = ...\n",
        "\n",
        "#Get the percent changes as numbers instead of strings\n",
        "percent_changes = ...\n",
        "\n",
        "#Calculate the previous years pay\n",
        "previous_pay = ...\n",
        "\n",
        "#Put the previous pay column into the compensation table\n",
        "with_previous_compensation = ...\n",
        "\n",
        "with_previous_compensation"
      ],
      "execution_count": 0,
      "outputs": []
    },
    {
      "metadata": {
        "id": "G_oLLDyBElcJ",
        "colab_type": "code",
        "colab": {}
      },
      "cell_type": "code",
      "source": [
        "grade('q3_5.ok')"
      ],
      "execution_count": 0,
      "outputs": []
    },
    {
      "metadata": {
        "id": "aONpkW19ElcM",
        "colab_type": "text"
      },
      "cell_type": "markdown",
      "source": [
        "**Question 6.** What was the average pay of these CEOs in 2014?"
      ]
    },
    {
      "metadata": {
        "id": "ByDy1OC2ElcM",
        "colab_type": "code",
        "colab": {}
      },
      "cell_type": "code",
      "source": [
        "average_pay_2014 = ...\n",
        "average_pay_2014"
      ],
      "execution_count": 0,
      "outputs": []
    },
    {
      "metadata": {
        "id": "qzTxom3_ElcO",
        "colab_type": "code",
        "colab": {}
      },
      "cell_type": "code",
      "source": [
        "grade('q3_6.ok')"
      ],
      "execution_count": 0,
      "outputs": []
    },
    {
      "metadata": {
        "id": "8g9ijXctElcW",
        "colab_type": "text"
      },
      "cell_type": "markdown",
      "source": [
        "## 4. Histograms\n",
        "Earlier, we computed the average pay among the CEOs in our 102-CEO dataset.  The average doesn't tell us everything about the amounts CEOs are paid, though.  Maybe just a few CEOs make the bulk of the money, even among these 102.\n",
        "\n",
        "We can use a *histogram* to display more information about a set of numbers.  The table method `hist` takes a single argument, the name of a column of numbers.  It produces a histogram of the numbers in that column.\n",
        "\n",
        "**Question 1.** Make a histogram of the pay of the CEOs in `compensation`."
      ]
    },
    {
      "metadata": {
        "id": "EBBLDbE9ElcX",
        "colab_type": "code",
        "colab": {}
      },
      "cell_type": "code",
      "source": [
        "..."
      ],
      "execution_count": 0,
      "outputs": []
    },
    {
      "metadata": {
        "id": "oVKs4LsSElcc",
        "colab_type": "text"
      },
      "cell_type": "markdown",
      "source": [
        "**Question 2.** Looking at the histogram, how many CEOs made more than \\$30 million?  (Answer the question by filling in your answer manually.  You'll have to do a bit of arithmetic; feel free to use Python as a calculator.)"
      ]
    },
    {
      "metadata": {
        "id": "fWgYnUkfElcd",
        "colab_type": "code",
        "colab": {}
      },
      "cell_type": "code",
      "source": [
        "num_ceos_more_than_30_million = ..."
      ],
      "execution_count": 0,
      "outputs": []
    },
    {
      "metadata": {
        "id": "nHR2LwfXElcm",
        "colab_type": "text"
      },
      "cell_type": "markdown",
      "source": [
        "**Question 3.** Answer the same question with code.  *Hint:* Use the table method `where` and the property `num_rows`."
      ]
    },
    {
      "metadata": {
        "id": "M_rw8ttDElcm",
        "colab_type": "code",
        "colab": {}
      },
      "cell_type": "code",
      "source": [
        "num_ceos_more_than_30_million_2 = ...\n",
        "num_ceos_more_than_30_million_2"
      ],
      "execution_count": 0,
      "outputs": []
    },
    {
      "metadata": {
        "id": "hfnT-q5KElco",
        "colab_type": "code",
        "colab": {}
      },
      "cell_type": "code",
      "source": [
        "grade('q4_3.ok')"
      ],
      "execution_count": 0,
      "outputs": []
    },
    {
      "metadata": {
        "id": "Wb_6hE4aElcr",
        "colab_type": "text"
      },
      "cell_type": "markdown",
      "source": [
        "# Please rereun all the tests.\n",
        "\n"
      ]
    },
    {
      "metadata": {
        "id": "E1H8uy7HN-so",
        "colab_type": "code",
        "colab": {}
      },
      "cell_type": "code",
      "source": [
        "grade('q1_1.ok')"
      ],
      "execution_count": 0,
      "outputs": []
    },
    {
      "metadata": {
        "id": "tXkcnbnfOEeq",
        "colab_type": "code",
        "colab": {}
      },
      "cell_type": "code",
      "source": [
        "grade('q1_2.ok')"
      ],
      "execution_count": 0,
      "outputs": []
    },
    {
      "metadata": {
        "id": "I2gQpv-POF3P",
        "colab_type": "code",
        "colab": {}
      },
      "cell_type": "code",
      "source": [
        "grade('q1_3.ok')"
      ],
      "execution_count": 0,
      "outputs": []
    },
    {
      "metadata": {
        "id": "41Y9t7uXOGg7",
        "colab_type": "code",
        "colab": {}
      },
      "cell_type": "code",
      "source": [
        "grade('q1_4.ok')"
      ],
      "execution_count": 0,
      "outputs": []
    },
    {
      "metadata": {
        "id": "pftmRvgMOHIT",
        "colab_type": "code",
        "colab": {}
      },
      "cell_type": "code",
      "source": [
        "grade('q2_1.ok')"
      ],
      "execution_count": 0,
      "outputs": []
    },
    {
      "metadata": {
        "id": "ON-1sgf0OJNX",
        "colab_type": "code",
        "colab": {}
      },
      "cell_type": "code",
      "source": [
        "grade('q2_2.ok')"
      ],
      "execution_count": 0,
      "outputs": []
    },
    {
      "metadata": {
        "id": "tEQURk5xOJ5k",
        "colab_type": "code",
        "colab": {}
      },
      "cell_type": "code",
      "source": [
        "grade('q2_3.ok')"
      ],
      "execution_count": 0,
      "outputs": []
    },
    {
      "metadata": {
        "id": "MeT8dhFXOK0x",
        "colab_type": "code",
        "colab": {}
      },
      "cell_type": "code",
      "source": [
        "grade('q2_4.ok')"
      ],
      "execution_count": 0,
      "outputs": []
    },
    {
      "metadata": {
        "id": "-GnNZUiVOLlm",
        "colab_type": "code",
        "colab": {}
      },
      "cell_type": "code",
      "source": [
        "grade('q2_5.ok')"
      ],
      "execution_count": 0,
      "outputs": []
    },
    {
      "metadata": {
        "id": "S-FhamlSOMfW",
        "colab_type": "code",
        "colab": {}
      },
      "cell_type": "code",
      "source": [
        "grade('q3_1.ok')"
      ],
      "execution_count": 0,
      "outputs": []
    },
    {
      "metadata": {
        "id": "AwTZ6ugdONoe",
        "colab_type": "code",
        "colab": {}
      },
      "cell_type": "code",
      "source": [
        "grade('q3_2.ok')"
      ],
      "execution_count": 0,
      "outputs": []
    },
    {
      "metadata": {
        "id": "JtywisHTOOoI",
        "colab_type": "code",
        "colab": {}
      },
      "cell_type": "code",
      "source": [
        "grade('q3_3.ok')"
      ],
      "execution_count": 0,
      "outputs": []
    },
    {
      "metadata": {
        "id": "ZZ9cuXNROPrd",
        "colab_type": "code",
        "colab": {}
      },
      "cell_type": "code",
      "source": [
        "grade('q3_4.ok')"
      ],
      "execution_count": 0,
      "outputs": []
    },
    {
      "metadata": {
        "id": "PTBMCvaTOQgV",
        "colab_type": "code",
        "colab": {}
      },
      "cell_type": "code",
      "source": [
        "grade('q3_5.ok')"
      ],
      "execution_count": 0,
      "outputs": []
    },
    {
      "metadata": {
        "id": "DTnF-7OoORa4",
        "colab_type": "code",
        "colab": {}
      },
      "cell_type": "code",
      "source": [
        "grade('q3_6.ok')"
      ],
      "execution_count": 0,
      "outputs": []
    },
    {
      "metadata": {
        "id": "3GdOuL6pOSWV",
        "colab_type": "code",
        "colab": {}
      },
      "cell_type": "code",
      "source": [
        "grade('q4_3.ok')"
      ],
      "execution_count": 0,
      "outputs": []
    },
    {
      "metadata": {
        "id": "JkET96G1OZg-",
        "colab_type": "text"
      },
      "cell_type": "markdown",
      "source": [
        "Great job! :D You're finished with lab 4! "
      ]
    },
    {
      "metadata": {
        "id": "k1z2DIUbNhle",
        "colab_type": "text"
      },
      "cell_type": "markdown",
      "source": [
        "# Feedback\n",
        "\n",
        "Score: "
      ]
    }
  ]
}