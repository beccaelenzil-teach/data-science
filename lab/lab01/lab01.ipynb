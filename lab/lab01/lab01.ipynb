{
  "nbformat": 4,
  "nbformat_minor": 0,
  "metadata": {
    "colab": {
      "name": "lab01.ipynb",
      "version": "0.3.2",
      "provenance": [],
      "private_outputs": true,
      "collapsed_sections": [
        "hC8_si0rBm_I"
      ],
      "toc_visible": true,
      "include_colab_link": true
    },
    "kernelspec": {
      "display_name": "Python 3",
      "language": "python",
      "name": "python3"
    }
  },
  "cells": [
    {
      "cell_type": "markdown",
      "metadata": {
        "id": "view-in-github",
        "colab_type": "text"
      },
      "source": [
        "[View in Colaboratory](https://colab.research.google.com/github/bushschool/data-science/blob/master/lab01.ipynb)"
      ]
    },
    {
      "metadata": {
        "id": "-jz2IzhcBm8x",
        "colab_type": "text"
      },
      "cell_type": "markdown",
      "source": [
        "# Lab 1: Expressions\n",
        "\n",
        "#### Today's lab\n",
        "\n",
        "In today's lab, you'll learn how to:\n",
        "\n",
        "1. navigate Jupyter notebooks (like this one);\n",
        "2. write and evaluate some basic *expressions* in Python, the computer language of the course;\n",
        "3. call *functions* to use code other people have written; and\n",
        "4. break down Python code into smaller parts to understand it.\n",
        "\n",
        "This lab covers parts of [Chapter 3](http://www.inferentialthinking.com/chapters/03/programming-in-python.html) of the online textbook. You should read the book, but not right now. Instead, let's get started!"
      ]
    },
    {
      "metadata": {
        "id": "dqJTHig2Bm8z",
        "colab_type": "text"
      },
      "cell_type": "markdown",
      "source": [
        "# 1. Jupyter notebooks\n",
        "This webpage is called a Jupyter notebook. A notebook is a place to write programs and view their results.\n",
        "\n",
        "## 1.0. Installing packages and uploading files\n",
        "At the beginning of each Jupyter notebook there will be a code block that's 10-20 lines long. This code block is to install and import all necessary packages. In addition, it uploads all files necessary to test your solutions. Run the code block below before you continue by pressing the play button in the [   ]."
      ]
    },
    {
      "metadata": {
        "id": "9phH4lZ3xnRn",
        "colab_type": "code",
        "colab": {}
      },
      "cell_type": "code",
      "source": [
        "!find . -type f -name '*.ok' -delete\n",
        "!ls\n",
        "\n",
        "!pip install datascience\n",
        "!pip install okgrade\n",
        "\n",
        "!wget https://raw.githubusercontent.com/beccaelenzil-teach/materials-su18/master/materials/su18/lab/lab01/tests/q32.ok\n",
        "!wget https://raw.githubusercontent.com/beccaelenzil-teach/materials-su18/master/materials/su18/lab/lab01/tests/q331.ok\n",
        "!wget https://raw.githubusercontent.com/beccaelenzil-teach/materials-su18/master/materials/su18/lab/lab01/tests/q332.ok\n",
        "!wget https://raw.githubusercontent.com/beccaelenzil-teach/materials-su18/master/materials/su18/lab/lab01/tests/q411.ok\n",
        "!wget https://raw.githubusercontent.com/beccaelenzil-teach/materials-su18/master/materials/su18/lab/lab01/tests/q421.ok\n",
        "!wget https://raw.githubusercontent.com/beccaelenzil-teach/materials-su18/master/materials/su18/lab/lab01/tests/q51.ok\n",
        "!wget https://raw.githubusercontent.com/beccaelenzil-teach/materials-su18/master/materials/su18/lab/lab01/tests/q511.ok\n",
        "  \n",
        "from okgrade import *\n",
        "from datascience import *"
      ],
      "execution_count": 0,
      "outputs": []
    },
    {
      "metadata": {
        "id": "9XkjzRNqxKip",
        "colab_type": "text"
      },
      "cell_type": "markdown",
      "source": [
        "## 1.1. Text cells\n",
        "In a notebook, each rectangle containing text or code is called a cell.\n",
        "\n",
        "Text cells (like this one) can be edited by double-clicking on them. They're written in a simple format called Markdown to add formatting and section headings. You don't need to learn Markdown, but you might want to.\n",
        "\n",
        "After you edit a text cell, click the \"run cell\" button at the top that looks like ▶| to confirm any changes. (Try not to delete the instructions of the lab.)"
      ]
    },
    {
      "metadata": {
        "id": "7cCUTV1qBm80",
        "colab_type": "text"
      },
      "cell_type": "markdown",
      "source": [
        "**Question 1.1.1.** This paragraph is in its own text cell.  Try editing it so that this sentence is the last sentence in the paragraph, and then click the \"run cell\" ▶| button .  This sentence, for example, should be deleted.  So should this one."
      ]
    },
    {
      "metadata": {
        "id": "ZOw55EihBm81",
        "colab_type": "text"
      },
      "cell_type": "markdown",
      "source": [
        "## 1.2. Code cells\n",
        "Other cells contain code in the Python 3 language. Running a code cell will execute all of the code it contains.\n",
        "\n",
        "To run the code in a code cell, first click on that cell to activate it.  It'll be highlighted with a little green or blue rectangle.  Next, either press ▶| or hold down the `shift` key and press `return` or `enter`.\n",
        "\n",
        "Try running this cell:"
      ]
    },
    {
      "metadata": {
        "id": "9jos-aO8Bm83",
        "colab_type": "code",
        "colab": {}
      },
      "cell_type": "code",
      "source": [
        "print(\"Hello, World!\")"
      ],
      "execution_count": 0,
      "outputs": []
    },
    {
      "metadata": {
        "id": "W_WqFnVcBm87",
        "colab_type": "text"
      },
      "cell_type": "markdown",
      "source": [
        "And this one:"
      ]
    },
    {
      "metadata": {
        "id": "_RwAtw6rBm9U",
        "colab_type": "code",
        "colab": {}
      },
      "cell_type": "code",
      "source": [
        "print(\"\\N{WAVING HAND SIGN}, \\N{EARTH GLOBE ASIA-AUSTRALIA}!\")"
      ],
      "execution_count": 0,
      "outputs": []
    },
    {
      "metadata": {
        "id": "JvgPPH1yBm9Z",
        "colab_type": "text"
      },
      "cell_type": "markdown",
      "source": [
        "The fundamental building block of Python code is an expression. Cells can contain multiple lines with multiple expressions. When you run a cell, the lines of code are executed in the order in which they appear. Every `print` expression prints a line. Run the next cell and notice the order of the output."
      ]
    },
    {
      "metadata": {
        "id": "Wxa2DnVCBm9a",
        "colab_type": "code",
        "colab": {}
      },
      "cell_type": "code",
      "source": [
        "print(\"First this line is printed,\")\n",
        "print(\"and then this one.\")"
      ],
      "execution_count": 0,
      "outputs": []
    },
    {
      "metadata": {
        "id": "60BBvfn_Bm9f",
        "colab_type": "text"
      },
      "cell_type": "markdown",
      "source": [
        "**Question 1.2.1.** Change the cell above so that it prints out:\n",
        "\n",
        "    First this line,\n",
        "    then the whole 🌏,\n",
        "    and then this one.\n",
        "\n",
        "*Hint:* If you're stuck on the Earth symbol for more than a few minutes, try talking to a neighbor or a TA.  That's a good idea for any lab problem.\n"
      ]
    },
    {
      "metadata": {
        "id": "G18G31bIBm9h",
        "colab_type": "text"
      },
      "cell_type": "markdown",
      "source": [
        "## 1.3. Writing Jupyter notebooks\n",
        "You can use Jupyter notebooks for your own projects or documents.  When you make your own notebook, you'll need to create your own cells for text and code.\n",
        "\n",
        "To add a cell, click the + button in the menu bar.  It'll start out as a text cell.  You can change it to a code cell by clicking inside it so it's highlighted, clicking the drop-down box next to the restart (⟳) button in the menu bar, and choosing \"Code\".\n",
        "\n",
        "**Question 1.3.1.** Add a code cell below this one.  Write code in it that prints out:\n",
        "   \n",
        "    A whole new cell! ♪🌏♪\n",
        "\n",
        "(That musical note symbol is like the Earth symbol.  Its long-form name is `\\N{EIGHTH NOTE}`.)\n",
        "\n",
        "Run your cell to verify that it works."
      ]
    },
    {
      "metadata": {
        "id": "R1rE9yTgBm9i",
        "colab_type": "text"
      },
      "cell_type": "markdown",
      "source": [
        "## 1.4. Errors\n",
        "Python is a language, and like natural human languages, it has rules.  It differs from natural language in two important ways:\n",
        "1. The rules are *simple*.  You can learn most of them in a few weeks and gain reasonable proficiency with the language in a semester.\n",
        "2. The rules are *rigid*.  If you're proficient in a natural language, you can understand a non-proficient speaker, glossing over small mistakes.  A computer running Python code is not smart enough to do that.\n",
        "\n",
        "Whenever you write code, you'll make mistakes.  When you run a code cell that has errors, Python will sometimes produce error messages to tell you what you did wrong.\n",
        "\n",
        "Errors are okay; even experienced programmers make many errors.  When you make an error, you just have to find the source of the problem, fix it, and move on.\n",
        "\n",
        "We have made an error in the next cell.  Run it and see what happens."
      ]
    },
    {
      "metadata": {
        "id": "COKYjMWkBm9j",
        "colab_type": "code",
        "colab": {}
      },
      "cell_type": "code",
      "source": [
        "print(\"This line is missing something.\""
      ],
      "execution_count": 0,
      "outputs": []
    },
    {
      "metadata": {
        "id": "v9d7UlRYBm9o",
        "colab_type": "text"
      },
      "cell_type": "markdown",
      "source": [
        "You should see something like this (minus our annotations):\n",
        "\n",
        "<img src=\"https://raw.githubusercontent.com/beccaelenzil-teach/materials-su18/master/materials/su18/lab/lab01/error.jpg\"/>\n",
        "\n",
        "The last line of the error output attempts to tell you what went wrong.  The *syntax* of a language is its structure, and this `SyntaxError` tells you that you have created an illegal structure.  \"`EOF`\" means \"end of file,\" so the message is saying Python expected you to write something more (in this case, a right parenthesis) before finishing the cell.\n",
        "\n",
        "There's a lot of terminology in programming languages, but you don't need to know it all in order to program effectively. If you see a cryptic message like this, you can often get by without deciphering it.  (Of course, if you're frustrated, ask a neighbor or a TA for help.)\n",
        "\n",
        "Try to fix the code above so that you can run the cell and see the intended message instead of an error."
      ]
    },
    {
      "metadata": {
        "id": "zw88Xi8iBm95",
        "colab_type": "text"
      },
      "cell_type": "markdown",
      "source": [
        "# 2. Numbers\n",
        "\n",
        "Quantitative information arises everywhere in data science. In addition to representing commands to print out lines, expressions can represent numbers and methods of combining numbers. The expression `3.2500` evaluates to the number 3.25. (Run the cell and see.)"
      ]
    },
    {
      "metadata": {
        "id": "XC6BmvSrBm96",
        "colab_type": "code",
        "colab": {}
      },
      "cell_type": "code",
      "source": [
        "3.2500"
      ],
      "execution_count": 0,
      "outputs": []
    },
    {
      "metadata": {
        "id": "o7q_toVaBm9_",
        "colab_type": "text"
      },
      "cell_type": "markdown",
      "source": [
        "Notice that we didn't have to `print`. When you run a notebook cell, if the last line has a value, then Jupyter helpfully prints out that value for you. However, it won't print out prior lines automatically."
      ]
    },
    {
      "metadata": {
        "id": "Jh24VmjuBm-A",
        "colab_type": "code",
        "colab": {}
      },
      "cell_type": "code",
      "source": [
        "print(2)\n",
        "3\n",
        "4"
      ],
      "execution_count": 0,
      "outputs": []
    },
    {
      "metadata": {
        "id": "paqPRQ4IBm-G",
        "colab_type": "text"
      },
      "cell_type": "markdown",
      "source": [
        "Above, you should see that 4 is the value of the last expression, 2 is printed, but 3 is lost forever because it was neither printed nor last.\n",
        "\n",
        "You don't want to print everything all the time anyway.  But if you feel sorry for 3, change the cell above to print it."
      ]
    },
    {
      "metadata": {
        "id": "ph76CgWpBm-H",
        "colab_type": "text"
      },
      "cell_type": "markdown",
      "source": [
        "## 2.1. Arithmetic\n",
        "The line in the next cell subtracts.  Its value is what you'd expect.  Run it."
      ]
    },
    {
      "metadata": {
        "id": "wLTnKcbXBm-K",
        "colab_type": "code",
        "colab": {}
      },
      "cell_type": "code",
      "source": [
        "3.25 - 1.5"
      ],
      "execution_count": 0,
      "outputs": []
    },
    {
      "metadata": {
        "id": "su_lWtQuBm-M",
        "colab_type": "text"
      },
      "cell_type": "markdown",
      "source": [
        "Many basic arithmetic operations are built in to Python.  The textbook section on [Expressions](http://www.inferentialthinking.com/chapters/03/1/expressions.html) describes all the arithmetic operators used in the course.  The common operator that differs from typical math notation is `**`, which raises one number to the power of the other. So, `2**3` stands for $2^3$ and evaluates to 8. \n",
        "\n",
        "The order of operations is what you learned in elementary school, and Python also has parentheses.  For example, compare the outputs of the cells below. Use parentheses for a happy new year!"
      ]
    },
    {
      "metadata": {
        "id": "XmxOMk8tBm-Q",
        "colab_type": "code",
        "colab": {}
      },
      "cell_type": "code",
      "source": [
        "1+6*5-6*3**2*2**3/4*7"
      ],
      "execution_count": 0,
      "outputs": []
    },
    {
      "metadata": {
        "id": "kc1AdNZhBm-Y",
        "colab_type": "code",
        "colab": {}
      },
      "cell_type": "code",
      "source": [
        "2+(6*5-(6*3))**2*((2**3)/4*7)"
      ],
      "execution_count": 0,
      "outputs": []
    },
    {
      "metadata": {
        "id": "tqN9eY5pBm-c",
        "colab_type": "text"
      },
      "cell_type": "markdown",
      "source": [
        "In standard math notation, the first expression is\n",
        "\n",
        "$$1 + 6 \\times 5 - 6 \\times 3^2 \\times \\frac{2^3}{4} \\times 7,$$\n",
        "\n",
        "while the second expression is\n",
        "\n",
        "$$1 + (6 \\times 5 - (6 \\times 3))^2 \\times (\\frac{(2^3)}{4} \\times 7).$$\n",
        "\n",
        "**Question 2.1.1.** Write a Python expression in this next cell that's equal to $5 \\times (3 \\frac{10}{11}) - 50 \\frac{1}{3} + 2^{.5 \\times 22} - \\frac{7}{33} + 1$.  That's five times three and ten elevenths, minus fifty and a third, plus two to the power of half 22, minus 7 33rds plus 1.  By \"$3 \\frac{10}{11}$\" we mean $3+\\frac{10}{11}$, not $3 \\times \\frac{10}{11}$.\n",
        "\n",
        "Replace the ellipses (`...`) with your expression.  Try to use parentheses only when necessary.\n",
        "\n",
        "*Hint:* The correct output should start with a familiar number."
      ]
    },
    {
      "metadata": {
        "id": "iX5jmItNBm-g",
        "colab_type": "code",
        "colab": {}
      },
      "cell_type": "code",
      "source": [
        "..."
      ],
      "execution_count": 0,
      "outputs": []
    },
    {
      "metadata": {
        "id": "EIk12-8DBm-m",
        "colab_type": "text"
      },
      "cell_type": "markdown",
      "source": [
        "# 3. Names\n",
        "In natural language, we have terminology that lets us quickly reference very complicated concepts.  We don't say, \"That's a large mammal with brown fur and sharp teeth!\"  Instead, we just say, \"Bear!\"\n",
        "\n",
        "Similarly, an effective strategy for writing code is to define names for data as we compute it, like a lawyer would define terms for complex ideas at the start of a legal document to simplify the rest of the writing.\n",
        "\n",
        "In Python, we do this with *assignment statements*. An assignment statement has a name on the left side of an `=` sign and an expression to be evaluated on the right."
      ]
    },
    {
      "metadata": {
        "id": "pIuGKc4JBm-n",
        "colab_type": "code",
        "colab": {}
      },
      "cell_type": "code",
      "source": [
        "ten = 3 * 2 + 4"
      ],
      "execution_count": 0,
      "outputs": []
    },
    {
      "metadata": {
        "id": "ydfiO8O3Bm-r",
        "colab_type": "text"
      },
      "cell_type": "markdown",
      "source": [
        "When you run that cell, Python first evaluates the first line.  It computes the value of the expression `3 * 2 + 4`, which is the number 10.  Then it gives that value the name `ten`.  At that point, the code in the cell is done running.\n",
        "\n",
        "After you run that cell, the value 10 is bound to the name `ten`:"
      ]
    },
    {
      "metadata": {
        "id": "HX5SAsuIBm-s",
        "colab_type": "code",
        "colab": {}
      },
      "cell_type": "code",
      "source": [
        "ten"
      ],
      "execution_count": 0,
      "outputs": []
    },
    {
      "metadata": {
        "id": "QxtDP3ErBm-u",
        "colab_type": "text"
      },
      "cell_type": "markdown",
      "source": [
        "The statement `ten = 3 * 2 + 4` is not asserting that `ten` is already equal to `3 * 2 + 4`, as we might expect by analogy with math notation.  Rather, that line of code changes what `ten` means; it now refers to the value 10, whereas before it meant nothing at all.\n",
        "\n",
        "If the designers of Python had been ruthlessly pedantic, they might have made us write\n",
        "\n",
        "    define the name ten to hereafter have the value of 3 * 2 + 4 \n",
        "\n",
        "instead.  You will probably appreciate the brevity of \"`=`\"!  But keep in mind that this is the real meaning.\n",
        "\n",
        "**Question 3.1.** Try writing code that uses a name (like `eleven`) that hasn't been assigned to anything.  You'll see an error!"
      ]
    },
    {
      "metadata": {
        "id": "RLzpA97tBm-v",
        "colab_type": "code",
        "colab": {}
      },
      "cell_type": "code",
      "source": [
        ""
      ],
      "execution_count": 0,
      "outputs": []
    },
    {
      "metadata": {
        "id": "IQqYJ6rWBm-y",
        "colab_type": "text"
      },
      "cell_type": "markdown",
      "source": [
        "A common pattern in Jupyter notebooks is to assign a value to a name and then immediately evaluate the name in the last line in the cell so that the value is displayed as output. "
      ]
    },
    {
      "metadata": {
        "id": "2Kjb7_SbBm-z",
        "colab_type": "code",
        "colab": {}
      },
      "cell_type": "code",
      "source": [
        "close_to_pi = 355/113\n",
        "close_to_pi"
      ],
      "execution_count": 0,
      "outputs": []
    },
    {
      "metadata": {
        "id": "oZfKOkQiBm-4",
        "colab_type": "text"
      },
      "cell_type": "markdown",
      "source": [
        "Another common pattern is that a series of lines in a single cell will build up a complex computation in stages, naming the intermediate results."
      ]
    },
    {
      "metadata": {
        "id": "J51fBdhdBm-5",
        "colab_type": "code",
        "colab": {}
      },
      "cell_type": "code",
      "source": [
        "bimonthly_salary = 840\n",
        "monthly_salary = 2 * bimonthly_salary\n",
        "number_of_months_in_a_year = 12\n",
        "yearly_salary = number_of_months_in_a_year * monthly_salary\n",
        "yearly_salary"
      ],
      "execution_count": 0,
      "outputs": []
    },
    {
      "metadata": {
        "id": "VJ-g4n8FBm-8",
        "colab_type": "text"
      },
      "cell_type": "markdown",
      "source": [
        "Names in Python can have letters (upper- and lower-case letters are both okay and count as different letters), underscores, and numbers.  The first character can't be a number (otherwise a name might look like a number).  And names can't contain spaces, since spaces are used to separate pieces of code from each other.\n",
        "\n",
        "Other than those rules, what you name something doesn't matter *to Python*.  For example, this cell does the same thing as the above cell, except everything has a different name:"
      ]
    },
    {
      "metadata": {
        "id": "NT0Y9zPYBm-8",
        "colab_type": "code",
        "colab": {}
      },
      "cell_type": "code",
      "source": [
        "a = 840\n",
        "b = 2 * a\n",
        "c = 12\n",
        "d = c * b\n",
        "d"
      ],
      "execution_count": 0,
      "outputs": []
    },
    {
      "metadata": {
        "id": "TNRZKdv9Bm-_",
        "colab_type": "text"
      },
      "cell_type": "markdown",
      "source": [
        "**However**, names are very important for making your code *readable* to yourself and others.  The cell above is shorter, but it's totally useless without an explanation of what it does.\n",
        "\n",
        "According to a famous joke among computer scientists, naming things is one of the three hardest problems in computer science.  (The other two are cache invalidation and \"off-by-one\" errors.  And people say computer scientists have an odd sense of humor...)"
      ]
    },
    {
      "metadata": {
        "id": "97w4H4UoBm_A",
        "colab_type": "text"
      },
      "cell_type": "markdown",
      "source": [
        "**Question 3.2.** Assign the name `seconds_in_a_decade` to the number of seconds between midnight January 1, 2010 and midnight January 1, 2020. Note that there are two leap years in this span of a decade. \n",
        "\n",
        "*Hint:* If you're stuck, the next section shows you how to get hints."
      ]
    },
    {
      "metadata": {
        "id": "3Vf3pg13Bm_B",
        "colab_type": "code",
        "colab": {}
      },
      "cell_type": "code",
      "source": [
        "# Change the next line so that it computes the number of\n",
        "# seconds in a decade and assigns that number the name\n",
        "# seconds_in_a_decade.\n",
        "seconds_in_a_decade = ...\n",
        "\n",
        "# We've put this line in this cell so that it will print\n",
        "# the value you've given to seconds_in_a_decade when you\n",
        "# run it.  You don't need to change this.\n",
        "seconds_in_a_decade"
      ],
      "execution_count": 0,
      "outputs": []
    },
    {
      "metadata": {
        "id": "eZV66ZO4wIph",
        "colab_type": "text"
      },
      "cell_type": "markdown",
      "source": [
        "Now that you know how to name things, you can start using the built-in *tests* to check whether your work is correct. Try not to change the contents of the test cells. Running the following cell will test whether you have assigned `seconds_in_a_decade` correctly in Question 3.2. If you haven't, this test will tell you the correct answer. Resist the urge to just copy it, and instead try to adjust your expression. (Sometimes the tests will give hints about what went wrong...)"
      ]
    },
    {
      "metadata": {
        "id": "l2gmsvT_Bm_E",
        "colab_type": "code",
        "colab": {}
      },
      "cell_type": "code",
      "source": [
        "# Test cell; please do not change!\n",
        "\n",
        "grade('q32.ok')"
      ],
      "execution_count": 0,
      "outputs": []
    },
    {
      "metadata": {
        "id": "hC8_si0rBm_I",
        "colab_type": "text"
      },
      "cell_type": "markdown",
      "source": [
        "## 3.2. Comments\n",
        "You may have noticed this line in the cell above:\n",
        "\n",
        "    # Test cell; please do not change!\n",
        "\n",
        "That is called a *comment*.  It doesn't make anything happen in Python; Python ignores anything on a line after a #.  Instead, it's there to communicate something about the code to you, the human reader.  Comments are extremely useful.\n",
        "\n",
        "<img src=\"http://imgs.xkcd.com/comics/future_self.png\">"
      ]
    },
    {
      "metadata": {
        "id": "XtoZdRMlBm_I",
        "colab_type": "text"
      },
      "cell_type": "markdown",
      "source": [
        "## 3.3. Application: A physics experiment\n",
        "\n",
        "On the Apollo 15 mission to the Moon, astronaut David Scott famously replicated Galileo's physics experiment in which he showed that gravity accelerates objects of different mass at the same rate. Because there is no air resistance for a falling object on the surface of the Moon, even two objects with very different masses and densities should fall at the same rate. David Scott compared a feather and a hammer.\n",
        "\n",
        "You can run the following cell to watch a video of the experiment."
      ]
    },
    {
      "metadata": {
        "id": "BeH84YNHBm_J",
        "colab_type": "code",
        "colab": {}
      },
      "cell_type": "code",
      "source": [
        "from IPython.display import YouTubeVideo\n",
        "# The original URL is:\n",
        "#   https://www.youtube.com/watch?v=U7db6ZeLR5s\n",
        "YouTubeVideo(\"U7db6ZeLR5s\")"
      ],
      "execution_count": 0,
      "outputs": []
    },
    {
      "metadata": {
        "id": "1uxyHtvFBm_O",
        "colab_type": "text"
      },
      "cell_type": "markdown",
      "source": [
        "Here's the transcript of the video:\n",
        "\n",
        "**167:22:06 Scott**: Well, in my left hand, I have a feather; in my right hand, a hammer. And I guess one of the reasons we got here today was because of a gentleman named Galileo, a long time ago, who made a rather significant discovery about falling objects in gravity fields. And we thought where would be a better place to confirm his findings than on the Moon. And so we thought we'd try it here for you. The feather happens to be, appropriately, a falcon feather for our Falcon. And I'll drop the two of them here and, hopefully, they'll hit the ground at the same time. \n",
        "\n",
        "**167:22:43 Scott**: How about that!\n",
        "\n",
        "**167:22:45 Allen**: How about that! (Applause in Houston)\n",
        "\n",
        "**167:22:46 Scott**: Which proves that Mr. Galileo was correct in his findings."
      ]
    },
    {
      "metadata": {
        "id": "dKYBD7XZBm_P",
        "colab_type": "text"
      },
      "cell_type": "markdown",
      "source": [
        "**Newton's Law.** Using this footage, we can also attempt to confirm another famous bit of physics: Newton's law of universal gravitation. Newton's laws predict that any object dropped near the surface of the Moon should fall\n",
        "\n",
        "$$\\frac{1}{2} G \\frac{M}{R^2} t^2 \\text{ meters}$$\n",
        "\n",
        "after $t$ seconds, where $G$ is a universal constant, $M$ is the moon's mass in kilograms, and $R$ is the moon's radius in meters.  So if we know $G$, $M$, and $R$, then Newton's laws let us predict how far an object will fall over any amount of time.\n",
        "\n",
        "To verify the accuracy of this law, we will calculate the difference between the predicted distance the hammer drops and the actual distance.  (If they are different, it might be because Newton's laws are wrong, or because our measurements are imprecise, or because there are other factors affecting the hammer for which we haven't accounted.)\n",
        "\n",
        "Someone studied the video and estimated that the hammer was dropped 113 cm from the surface. Counting frames in the video, the hammer falls for 1.2 seconds (36 frames)."
      ]
    },
    {
      "metadata": {
        "id": "p1zpdvhPBm_Q",
        "colab_type": "text"
      },
      "cell_type": "markdown",
      "source": [
        "**Question 3.3.1.** Complete the code in the next cell to fill in the *data* from the experiment."
      ]
    },
    {
      "metadata": {
        "id": "YOSpC5QdBm_S",
        "colab_type": "code",
        "colab": {}
      },
      "cell_type": "code",
      "source": [
        "# t, the duration of the fall in the experiment, in seconds.\n",
        "# Fill this in.\n",
        "time = ...\n",
        "\n",
        "# The estimated distance the hammer actually fell, in meters.\n",
        "# Fill this in.\n",
        "estimated_distance_m = ..."
      ],
      "execution_count": 0,
      "outputs": []
    },
    {
      "metadata": {
        "id": "Jt1s_cgHBm_V",
        "colab_type": "code",
        "colab": {}
      },
      "cell_type": "code",
      "source": [
        "grade('q331.ok')"
      ],
      "execution_count": 0,
      "outputs": []
    },
    {
      "metadata": {
        "id": "X9KvVXOqBm_Z",
        "colab_type": "text"
      },
      "cell_type": "markdown",
      "source": [
        "**Question 3.3.2.** Now, complete the code in the next cell to compute the difference between the predicted and estimated distances (in meters) that the hammer fell in this experiment.\n",
        "\n",
        "This just means translating the formula above ($\\frac{1}{2}G\\frac{M}{R^2}t^2$) into Python code.  You'll have to replace each variable in the math formula with the name we gave that number in Python code."
      ]
    },
    {
      "metadata": {
        "id": "aLO6xeNVBm_a",
        "colab_type": "code",
        "colab": {}
      },
      "cell_type": "code",
      "source": [
        "# First, we've written down the values of the 3 universal\n",
        "# constants that show up in Newton's formula.\n",
        "\n",
        "# G, the universal constant measuring the strength of gravity.\n",
        "gravity_constant = 6.674 * 10**-11\n",
        "\n",
        "# M, the moon's mass, in kilograms.\n",
        "moon_mass_kg = 7.34767309 * 10**22\n",
        "\n",
        "# R, the radius of the moon, in meters.\n",
        "moon_radius_m = 1.737 * 10**6\n",
        "\n",
        "# The distance the hammer should have fallen over the\n",
        "# duration of the fall, in meters, according to Newton's\n",
        "# law of gravity.  The text above describes the formula\n",
        "# for this distance given by Newton's law.\n",
        "# **YOU FILL THIS PART IN.**\n",
        "predicted_distance_m = ...\n",
        "\n",
        "# Here we've computed the difference between the predicted\n",
        "# fall distance and the distance we actually measured.\n",
        "# If you've filled in the above code, this should just work.\n",
        "difference = predicted_distance_m - estimated_distance_m\n",
        "difference"
      ],
      "execution_count": 0,
      "outputs": []
    },
    {
      "metadata": {
        "id": "tlbknMM-Bm_e",
        "colab_type": "code",
        "colab": {}
      },
      "cell_type": "code",
      "source": [
        "grade('q332.ok')"
      ],
      "execution_count": 0,
      "outputs": []
    },
    {
      "metadata": {
        "id": "Qgz-vXucBm_i",
        "colab_type": "text"
      },
      "cell_type": "markdown",
      "source": [
        "## 4. Calling functions\n",
        "\n",
        "The most common way to combine or manipulate values in Python is by calling functions. Python comes with many built-in functions that perform common operations.\n",
        "\n",
        "For example, the `abs` function takes a single number as its argument and returns the absolute value of that number.  The absolute value of a number is its distance from 0 on the number line, so `abs(5)` is 5 and `abs(-5)` is also 5."
      ]
    },
    {
      "metadata": {
        "id": "x42pBWjWBm_k",
        "colab_type": "code",
        "colab": {}
      },
      "cell_type": "code",
      "source": [
        "abs(5)"
      ],
      "execution_count": 0,
      "outputs": []
    },
    {
      "metadata": {
        "id": "ezXl8xfSBm_q",
        "colab_type": "code",
        "colab": {}
      },
      "cell_type": "code",
      "source": [
        "abs(-5)"
      ],
      "execution_count": 0,
      "outputs": []
    },
    {
      "metadata": {
        "id": "0vO9zw-OBm_v",
        "colab_type": "text"
      },
      "cell_type": "markdown",
      "source": [
        "## 4.1. Application: Computing walking distances\n",
        "Chunhua is on the corner of 7th Avenue and 42nd Street in Midtown Manhattan, and she wants to know far she'd have to walk to get to Gramercy School on the corner of 10th Avenue and 34th Street.\n",
        "\n",
        "She can't cut across blocks diagonally, since there are buildings in the way.  She has to walk along the sidewalks.  Using the map below, she sees she'd have to walk 3 avenues (long blocks) and 8 streets (short blocks).  In terms of the given numbers, she computed 3 as the difference between 7 and 10, *in absolute value*, and 8 similarly.  \n",
        "\n",
        "Chunhua also knows that blocks in Manhattan are all about 80m by 274m (avenues are farther apart than streets).  So in total, she'd have to walk $(80 \\times |42 - 34| + 274 \\times |7 - 10|)$ meters to get to the park.\n",
        "\n",
        "<img src=\"https://raw.githubusercontent.com/beccaelenzil-teach/materials-su18/master/materials/su18/lab/lab01/map.jpg\"/>\n",
        "\n",
        "**Question 4.1.1.** Finish the line `num_avenues_away = ...` in the next cell so that the cell calculates the distance Chunhua must walk and gives it the name `manhattan_distance`.  Everything else has been filled in for you.  **Use the `abs` function.**"
      ]
    },
    {
      "metadata": {
        "id": "CohEVgBQBm_x",
        "colab_type": "code",
        "colab": {}
      },
      "cell_type": "code",
      "source": [
        "# Here's the number of streets away:\n",
        "num_streets_away = abs(42-34)\n",
        "\n",
        "# Compute the number of avenues away in a similar way:\n",
        "num_avenues_away = ...\n",
        "\n",
        "street_length_m = 80\n",
        "avenue_length_m = 274\n",
        "\n",
        "# Now we compute the total distance Chunhua must walk.\n",
        "manhattan_distance = street_length_m*num_streets_away + avenue_length_m*num_avenues_away\n",
        "\n",
        "# We've included this line so that you see the distance\n",
        "# you've computed when you run this cell.  You don't need\n",
        "# to change it, but you can if you want.\n",
        "manhattan_distance"
      ],
      "execution_count": 0,
      "outputs": []
    },
    {
      "metadata": {
        "id": "0djJ5lS6Bm_0",
        "colab_type": "text"
      },
      "cell_type": "markdown",
      "source": [
        "Be sure to run the next cell to test your code."
      ]
    },
    {
      "metadata": {
        "id": "-ve3UDWaBm_1",
        "colab_type": "code",
        "colab": {}
      },
      "cell_type": "code",
      "source": [
        "grade('q411.ok')"
      ],
      "execution_count": 0,
      "outputs": []
    },
    {
      "metadata": {
        "id": "SFPcQlXoBm_2",
        "colab_type": "text"
      },
      "cell_type": "markdown",
      "source": [
        "##### Multiple arguments\n",
        "Some functions take multiple arguments, separated by commas. For example, the built-in `max` function returns the maximum argument passed to it."
      ]
    },
    {
      "metadata": {
        "id": "Cke9_VzwBm_9",
        "colab_type": "code",
        "colab": {}
      },
      "cell_type": "code",
      "source": [
        "max(2, -3, 4, -5)"
      ],
      "execution_count": 0,
      "outputs": []
    },
    {
      "metadata": {
        "id": "QNkZ9efOBnAC",
        "colab_type": "text"
      },
      "cell_type": "markdown",
      "source": [
        "# 5. Understanding nested expressions\n",
        "Function calls and arithmetic expressions can themselves contain expressions.  You saw an example in the last question:\n",
        "\n",
        "    abs(42-34)\n",
        "\n",
        "has 2 number expressions in a subtraction expression in a function call expression.  And you probably wrote something like `abs(7-10)` to compute `num_avenues_away`.\n",
        "\n",
        "Nested expressions can turn into complicated-looking code. However, the way in which complicated expressions break down is very regular.\n",
        "\n",
        "Suppose we are interested in heights that are very unusual.  We'll say that a height is unusual to the extent that it's far away on the number line from the average human height.  [An estimate](http://press.endocrine.org/doi/full/10.1210/jcem.86.9.7875?ck=nck&) of the average adult human height (averaging, we hope, over all humans on Earth today) is 1.688 meters.\n",
        "\n",
        "So if Aditya is 1.21 meters tall, then his height is $|1.21 - 1.688|$, or $.478$, meters away from the average.  Here's a picture of that:\n",
        "\n",
        "<img src=\"https://raw.githubusercontent.com/beccaelenzil-teach/materials-su18/master/materials/su18/lab/lab01/numberline_0.png\">\n",
        "\n",
        "And here's how we'd write that in one line of Python code:"
      ]
    },
    {
      "metadata": {
        "id": "4GYTAcfJBnAE",
        "colab_type": "code",
        "colab": {}
      },
      "cell_type": "code",
      "source": [
        "abs(1.21 - 1.688)"
      ],
      "execution_count": 0,
      "outputs": []
    },
    {
      "metadata": {
        "id": "pfUtj7h9BnAI",
        "colab_type": "text"
      },
      "cell_type": "markdown",
      "source": [
        "What's going on here?  `abs` takes just one argument, so the stuff inside the parentheses is all part of that *single argument*.  Specifically, the argument is the value of the expression `1.21 - 1.688`.  The value of that expression is `-.478`.  That value is the argument to `abs`.  The absolute value of that is `.478`, so `.478` is the value of the full expression `abs(1.21 - 1.688)`.\n",
        "\n",
        "Picture simplifying the expression in several steps:\n",
        "\n",
        "1. `abs(1.21 - 1.688)`\n",
        "2. `abs(-.478)`\n",
        "3. `.478`\n",
        "\n",
        "In fact, that's basically what Python does to compute the value of the expression."
      ]
    },
    {
      "metadata": {
        "id": "EsP6R9nmBnAK",
        "colab_type": "text"
      },
      "cell_type": "markdown",
      "source": [
        "**Question 5.1.** Say that Botan's height is 1.85 meters.  In the next cell, use `abs` to compute the absolute value of the difference between Botan's height and the average human height.  Give that value the name `botan_distance_from_average_m`.\n",
        "\n",
        "<img src=\"https://raw.githubusercontent.com/beccaelenzil-teach/materials-su18/master/materials/su18/lab/lab01/numberline_1.png\">"
      ]
    },
    {
      "metadata": {
        "id": "6sgBD70fBnAK",
        "colab_type": "code",
        "colab": {}
      },
      "cell_type": "code",
      "source": [
        "# Replace the ... with an expression to compute the absolute\n",
        "# value of the difference between Botan's height (1.85m) and\n",
        "# the average human height.\n",
        "botan_distance_from_average_m = ...\n",
        "\n",
        "# Again, we've written this here so that the distance you\n",
        "# compute will get printed when you run this cell.\n",
        "botan_distance_from_average_m"
      ],
      "execution_count": 0,
      "outputs": []
    },
    {
      "metadata": {
        "id": "5uaZT_MCBnAP",
        "colab_type": "code",
        "colab": {}
      },
      "cell_type": "code",
      "source": [
        "grade('q51.ok')"
      ],
      "execution_count": 0,
      "outputs": []
    },
    {
      "metadata": {
        "id": "hUobBlTABnAR",
        "colab_type": "text"
      },
      "cell_type": "markdown",
      "source": [
        "## 5.1. More nesting\n",
        "Now say that we want to compute the most unusual height among Aditya's and Botan's heights.  We'll use the function `max`, which (again) takes two numbers as arguments and returns the larger of the two arguments.  Combining that with the `abs` function, we can compute the biggest distance from the average among the two heights:"
      ]
    },
    {
      "metadata": {
        "id": "QetUURRyBnAS",
        "colab_type": "code",
        "colab": {}
      },
      "cell_type": "code",
      "source": [
        "# Just read and run this cell.\n",
        "\n",
        "aditya_height_m = 1.21\n",
        "botan_height_m = 1.85\n",
        "average_adult_human_height_m = 1.688\n",
        "\n",
        "# The biggest distance from the average human height, among the two heights:\n",
        "biggest_distance_m = max(abs(aditya_height_m - average_adult_human_height_m), abs(botan_height_m - average_adult_human_height_m))\n",
        "\n",
        "# Print out our results in a nice readable format:\n",
        "print(\"The biggest distance from the average height among these two people is\", biggest_distance_m, \"meters.\")"
      ],
      "execution_count": 0,
      "outputs": []
    },
    {
      "metadata": {
        "id": "GsyUY5UuBnAW",
        "colab_type": "text"
      },
      "cell_type": "markdown",
      "source": [
        "The line where `biggest_distance_m` is computed looks complicated, but we can break it down into simpler components just like we did before.\n",
        "\n",
        "The basic recipe is repeated simplification of small parts of the expression:\n",
        "* We start with the simplest components whose values we know, like plain names or numbers.  (Examples: `aditya_height_m` or `5`.)\n",
        "* **Find a simple-enough group of expressions:** We look for a group of simple expressions that are directly connected to each other in the code, for example by arithmetic or as arguments to a function call.\n",
        "* **Evaluate that group:** We evaluate the arithmetic expressions or function calls they're part of, and replace the whole group with whatever we compute.  (Example: `aditya_height_m - average_adult_human_height_m` becomes `-.478`.)\n",
        "* **Repeat:** We continue this process, using the values of the glommed-together stuff as our new basic components.  (Example: `abs(-.478)` becomes `.478`, and `max(.478, .162)` later becomes `.478`.)\n",
        "* We keep doing that until we've evaluated the whole expression.\n",
        "\n",
        "You can run the next cell to see a slideshow of that process."
      ]
    },
    {
      "metadata": {
        "id": "x1rHDQxxBnAW",
        "colab_type": "code",
        "colab": {}
      },
      "cell_type": "code",
      "source": [
        "from IPython.display import IFrame\n",
        "IFrame('https://docs.google.com/presentation/d/1urkX-nRsD8VJvcOnJsjmCy0Jpv752Ssn5Pphg2sMC-0/embed?start=false&loop=false&delayms=3000', 800, 600)"
      ],
      "execution_count": 0,
      "outputs": []
    },
    {
      "metadata": {
        "id": "nhPC4NdRBnAZ",
        "colab_type": "text"
      },
      "cell_type": "markdown",
      "source": [
        "Ok, your turn. \n",
        "\n",
        "**Question 5.1.1.** Given the heights of the Splash Triplets from the Golden State Warriors, write an expression that computes the smallest difference between any of the three heights. Your expression shouldn't have any numbers in it, only function calls and the names `klay`, `steph`, and `kevin`. Give the value of your expression the name `min_height_difference`."
      ]
    },
    {
      "metadata": {
        "id": "8PFi-CHiBnAZ",
        "colab_type": "code",
        "colab": {}
      },
      "cell_type": "code",
      "source": [
        "# The three players' heights, in meters:\n",
        "klay =  2.01 # Klay Thompson is 6'7\"\n",
        "steph = 1.91 # Steph Curry is 6'3\"\n",
        "kevin = 2.06 # Kevin Durant is officially 6'9\", but many suspect that he is taller.\n",
        "             # (Further complicating matters, membership of the \"Splash Triplets\" \n",
        "             #  is disputed, since it was originally used in reference to \n",
        "             #  Klay Thompson, Steph Curry, and Draymond Green.)\n",
        "\n",
        "# We'd like to look at all 3 pairs of heights, compute the absolute\n",
        "# difference between each pair, and then find the smallest of those\n",
        "# 3 absolute differences.  This is left to you!  If you're stuck,\n",
        "# try computing the value for each step of the process (like the\n",
        "# difference between Klay's heigh and Steph's height) on a separate\n",
        "# line and giving it a name (like klay_steph_height_diff).\n",
        "min_height_difference = ..."
      ],
      "execution_count": 0,
      "outputs": []
    },
    {
      "metadata": {
        "id": "eG6iYhjABnAf",
        "colab_type": "code",
        "colab": {}
      },
      "cell_type": "code",
      "source": [
        "grade('q511.ok')"
      ],
      "execution_count": 0,
      "outputs": []
    },
    {
      "metadata": {
        "id": "ntDGF-zxBnA3",
        "colab_type": "text"
      },
      "cell_type": "markdown",
      "source": [
        "You're done with Lab 1!  Be sure to run the tests and verify that they all pass. Make sure to save your work."
      ]
    }
  ]
}