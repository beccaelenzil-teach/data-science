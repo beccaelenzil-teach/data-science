{
  "nbformat": 4,
  "nbformat_minor": 0,
  "metadata": {
    "colab": {
      "name": "histogram-boxplots-lesson.ipynb",
      "version": "0.3.2",
      "provenance": [],
      "collapsed_sections": [],
      "toc_visible": true,
      "include_colab_link": true
    },
    "kernelspec": {
      "name": "python3",
      "display_name": "Python 3"
    }
  },
  "cells": [
    {
      "cell_type": "markdown",
      "metadata": {
        "id": "view-in-github",
        "colab_type": "text"
      },
      "source": [
        "[View in Colaboratory](https://colab.research.google.com/github/bushschool/data-science/blob/master/histogram_boxplots_lesson.ipynb)"
      ]
    },
    {
      "metadata": {
        "id": "S5kKZ0cKVKHB",
        "colab_type": "text"
      },
      "cell_type": "markdown",
      "source": [
        "# Run this cell first"
      ]
    },
    {
      "metadata": {
        "id": "xlpZaQ8tE4A2",
        "colab_type": "text"
      },
      "cell_type": "markdown",
      "source": [
        "Creating Histograms and Boxplots\n",
        "This worksheet will help you work with histograms and boxplots. You will work with changing bin sizes, changing y-axis, and changing styles."
      ]
    },
    {
      "metadata": {
        "id": "iwQUWMAqrAZn",
        "colab_type": "code",
        "colab": {}
      },
      "cell_type": "code",
      "source": [
        "# Don't change this cell; just run it. \n",
        "!find . -type f -name '*.csv' -delete\n",
        "!find . -type f -name 'wget-log.*' -delete\n",
        "\n",
        "!pip install datascience\n",
        "\n",
        "# HIDDEN\n",
        "from datascience import *\n",
        "import matplotlib.pyplot as plt\n",
        "import numpy as np\n",
        "\n",
        "#get the data\n",
        "!wget https://raw.githubusercontent.com/beccaelenzil-teach/materials-su18/master/lec/top_movies.csv\n",
        "\n",
        "%matplotlib inline\n",
        "import matplotlib.pyplot as plt\n",
        "plt.style.use('fivethirtyeight')\n",
        "\n",
        "import matplotlib as mpl \n",
        "\n",
        "## agg backend is used to create plot as a .png file\n",
        "mpl.use('agg')\n",
        "\n",
        "\n",
        "\n"
      ],
      "execution_count": 0,
      "outputs": []
    },
    {
      "metadata": {
        "id": "Rwleo8SlVYkv",
        "colab_type": "text"
      },
      "cell_type": "markdown",
      "source": [
        "# Import table of Top Movies"
      ]
    },
    {
      "metadata": {
        "id": "x4KqefgDtBy_",
        "colab_type": "code",
        "colab": {}
      },
      "cell_type": "code",
      "source": [
        "top = Table.read_table('top_movies.csv')\n",
        "# Make the numbers in the Gross and Gross (Adjusted) columns look nicer:\n",
        "top.set_format([2, 3], NumberFormatter)"
      ],
      "execution_count": 0,
      "outputs": []
    },
    {
      "metadata": {
        "id": "mB8ZMr0XsWuC",
        "colab_type": "code",
        "colab": {}
      },
      "cell_type": "code",
      "source": [
        "millions = top.select(0).with_column('Adjusted Gross', \n",
        "                                     np.round(top.column(3)/1e6, 2))\n",
        "millions"
      ],
      "execution_count": 0,
      "outputs": []
    },
    {
      "metadata": {
        "id": "UncIU9-fVbVj",
        "colab_type": "text"
      },
      "cell_type": "markdown",
      "source": [
        "## Question 1"
      ]
    },
    {
      "metadata": {
        "id": "sC6aGjFatnH8",
        "colab_type": "text"
      },
      "cell_type": "markdown",
      "source": [
        "Question 1: \n",
        "\n",
        "```\n",
        "# This is formatted as code\n",
        "```\n",
        "\n",
        "How are the two Adjusted Gross Income columns different? (Look closely at the table and the math happening in the code). "
      ]
    },
    {
      "metadata": {
        "id": "v3jOReU3V2E4",
        "colab_type": "text"
      },
      "cell_type": "markdown",
      "source": [
        "**Question 1 answer:** ..."
      ]
    },
    {
      "metadata": {
        "id": "xkv_0Pc-WBx8",
        "colab_type": "text"
      },
      "cell_type": "markdown",
      "source": [
        "# Histograms"
      ]
    },
    {
      "metadata": {
        "id": "AOBKWAPHWDWI",
        "colab_type": "text"
      },
      "cell_type": "markdown",
      "source": [
        "## Question 2\n",
        "\n",
        "Run each of the following. In the empty cell below these histograms, state the differences among them. What is each histogram measuring on the y-axis? \n"
      ]
    },
    {
      "metadata": {
        "id": "LB0CS2ROtlnT",
        "colab_type": "code",
        "colab": {
          "base_uri": "https://localhost:8080/",
          "height": 300
        },
        "outputId": "291bf5e3-270a-4fa6-8fc6-ae82f154ca25"
      },
      "cell_type": "code",
      "source": [
        "millions.hist('Adjusted Gross', unit=\"Million Dollars\")"
      ],
      "execution_count": 7,
      "outputs": [
        {
          "output_type": "display_data",
          "data": {
            "image/png": "[encoded data removed]",
            "text/plain": [
              "<matplotlib.figure.Figure at 0x7fb01672ca90>"
            ]
          },
          "metadata": {
            "tags": []
          }
        }
      ]
    },
    {
      "metadata": {
        "id": "12gbNzr2uDOr",
        "colab_type": "code",
        "colab": {
          "base_uri": "https://localhost:8080/",
          "height": 300
        },
        "outputId": "9aa2b929-1690-4f69-80ac-99ad7507ba7a"
      },
      "cell_type": "code",
      "source": [
        "millions.hist('Adjusted Gross', bins=np.arange(300,2001,100), unit=\"Million Dollars\")"
      ],
      "execution_count": 8,
      "outputs": [
        {
          "output_type": "display_data",
          "data": {
            "image/png": "[encoded data removed]",
            "text/plain": [
              "<matplotlib.figure.Figure at 0x7fb01665b320>"
            ]
          },
          "metadata": {
            "tags": []
          }
        }
      ]
    },
    {
      "metadata": {
        "id": "v3Ci74B5uJ5C",
        "colab_type": "code",
        "colab": {
          "base_uri": "https://localhost:8080/",
          "height": 300
        },
        "outputId": "f32eecd5-871c-419e-deda-03570e743208"
      },
      "cell_type": "code",
      "source": [
        "millions.hist('Adjusted Gross', bins=np.arange(300,2001,100), normed=False)"
      ],
      "execution_count": 9,
      "outputs": [
        {
          "output_type": "display_data",
          "data": {
            "image/png": "[encoded data removed]",
            "text/plain": [
              "<matplotlib.figure.Figure at 0x7fb013d982b0>"
            ]
          },
          "metadata": {
            "tags": []
          }
        }
      ]
    },
    {
      "metadata": {
        "id": "TGnTl24ewJIi",
        "colab_type": "text"
      },
      "cell_type": "markdown",
      "source": [
        "**Notes from Question 2:** ..."
      ]
    },
    {
      "metadata": {
        "id": "GYIe6UDowNci",
        "colab_type": "text"
      },
      "cell_type": "markdown",
      "source": [
        "## Question 3\n",
        "\n",
        "How do I set the bin size for a histogram?"
      ]
    },
    {
      "metadata": {
        "id": "ACDmosHqXEy-",
        "colab_type": "text"
      },
      "cell_type": "markdown",
      "source": [
        "**Question 3 answer:** ..."
      ]
    },
    {
      "metadata": {
        "id": "VTAGGuGtXknX",
        "colab_type": "text"
      },
      "cell_type": "markdown",
      "source": [
        "# Boxplots"
      ]
    },
    {
      "metadata": {
        "id": "9ICIVLL0DnyV",
        "colab_type": "text"
      },
      "cell_type": "markdown",
      "source": [
        "## Question 4\n",
        "\n",
        "You can also create boxplots in Python. Run the code below. \n",
        "\n",
        "**Does this data have outliers? If so, are they marked?**"
      ]
    },
    {
      "metadata": {
        "id": "4pEx90jnXe8j",
        "colab_type": "text"
      },
      "cell_type": "markdown",
      "source": [
        "**Question 4 answer:** ..."
      ]
    },
    {
      "metadata": {
        "id": "7gU20sLiZ7h1",
        "colab_type": "code",
        "colab": {
          "base_uri": "https://localhost:8080/",
          "height": 281
        },
        "outputId": "609c4a37-c6a6-4870-bc42-a5cfeda32939"
      },
      "cell_type": "code",
      "source": [
        "data_to_plot = make_array(120,111,100,80,90,80,90,95)\n",
        "\n",
        "red_square = dict(markerfacecolor='r', marker='s')\n",
        "black_diamond = dict(markerfacecolor='k', marker='d')\n",
        "\n",
        "plt.boxplot(data_to_plot,flierprops=red_square)\n",
        "\n",
        "plt.show()\n"
      ],
      "execution_count": 36,
      "outputs": [
        {
          "output_type": "display_data",
          "data": {
            "image/png": "[encoded data removed]",
            "text/plain": [
              "<matplotlib.figure.Figure at 0x7f253c44f7f0>"
            ]
          },
          "metadata": {
            "tags": []
          }
        }
      ]
    },
    {
      "metadata": {
        "id": "uYhjshwpbcoY",
        "colab_type": "text"
      },
      "cell_type": "markdown",
      "source": [
        "## Question 5\n",
        "\n",
        "\n",
        "Go back to the code and add 300 to your data. Should that be an outlier? Is it shown on the graph?"
      ]
    },
    {
      "metadata": {
        "id": "IxkeNmOkb0cT",
        "colab_type": "text"
      },
      "cell_type": "markdown",
      "source": [
        "**Question 5 answer...**"
      ]
    },
    {
      "metadata": {
        "id": "3ZUYP8mxEMl3",
        "colab_type": "text"
      },
      "cell_type": "markdown",
      "source": [
        "You can change the style of boxplots as well. [Check out the documentation on different styles](https://matplotlib.org/gallery/style_sheets/style_sheets_reference.html)."
      ]
    },
    {
      "metadata": {
        "id": "tRSV2OJrX63T",
        "colab_type": "text"
      },
      "cell_type": "markdown",
      "source": [
        "# Plotting Exercises"
      ]
    },
    {
      "metadata": {
        "id": "5xgMpEOjFebx",
        "colab_type": "text"
      },
      "cell_type": "markdown",
      "source": [
        "## Histrogram\n",
        "\n",
        "Below this, create a histrogram of the homework times from the data we collected. Create a histrogram with counts on the y-axis and one with a density scale."
      ]
    },
    {
      "metadata": {
        "id": "Td_cEc9yF-PN",
        "colab_type": "code",
        "colab": {}
      },
      "cell_type": "code",
      "source": [
        ""
      ],
      "execution_count": 0,
      "outputs": []
    },
    {
      "metadata": {
        "id": "BOVEzd44F8mP",
        "colab_type": "text"
      },
      "cell_type": "markdown",
      "source": [
        "## Boxplot\n",
        "\n",
        "Below this create a boxplot of Adjusted Gross Income of movies. Use the rounded values to make the boxplot more readable. Challenge: Are there outliers in the data set?Can you make them appear as blue squares on the graph?"
      ]
    },
    {
      "metadata": {
        "id": "Xfoj23R3GhNl",
        "colab_type": "code",
        "colab": {}
      },
      "cell_type": "code",
      "source": [
        ""
      ],
      "execution_count": 0,
      "outputs": []
    }
  ]
}