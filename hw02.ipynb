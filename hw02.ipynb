{
  "nbformat": 4,
  "nbformat_minor": 0,
  "metadata": {
    "colab": {
      "name": "hw02.ipynb",
      "version": "0.3.2",
      "provenance": [],
      "collapsed_sections": [],
      "include_colab_link": true
    },
    "kernelspec": {
      "display_name": "Python 3",
      "language": "python",
      "name": "python3"
    }
  },
  "cells": [
    {
      "cell_type": "markdown",
      "metadata": {
        "id": "view-in-github",
        "colab_type": "text"
      },
      "source": [
        "[View in Colaboratory](https://colab.research.google.com/github/bushschool/data-science/blob/master/hw02.ipynb)"
      ]
    },
    {
      "metadata": {
        "id": "6koLLsQ2YJ2I",
        "colab_type": "text"
      },
      "cell_type": "markdown",
      "source": [
        "# Homework 2: Arrays and Tables"
      ]
    },
    {
      "metadata": {
        "id": "1KrF9OPUYJ2Q",
        "colab_type": "text"
      },
      "cell_type": "markdown",
      "source": [
        "**Reading**: Textbook chapters [4](https://www.inferentialthinking.com/chapters/04/data-types.html), [5](https://www.inferentialthinking.com/chapters/05/sequences.html), and [6](https://www.inferentialthinking.com/chapters/06/tables.html)."
      ]
    },
    {
      "metadata": {
        "id": "lqOcZO6DYJ2W",
        "colab_type": "text"
      },
      "cell_type": "markdown",
      "source": [
        "Please complete this notebook by filling in the cells provided. Before you begin, execute the following cell to load the provided tests. Each time you start your server, you will need to execute this cell again to load the tests.\n",
        "\n",
        "Throughout this homework and all future ones, please be sure to not re-assign variables throughout the notebook! For example, if you use `max_temperature` in your answer to one question, do not reassign it later on. "
      ]
    },
    {
      "metadata": {
        "id": "Gwd3lEG4YjMc",
        "colab_type": "code",
        "colab": {
          "base_uri": "https://localhost:8080/",
          "height": 5564
        },
        "outputId": "ba585014-00a0-4a7f-c61b-949546904d2e"
      },
      "cell_type": "code",
      "source": [
        "# Don't change this cell; just run it. \n",
        "!find . -type f -name '*.ok' -delete\n",
        "!find . -type f -name '*.csv' -delete\n",
        "\n",
        "!pip install datascience\n",
        "!pip install okgrade\n",
        "\n",
        "!wget https://raw.githubusercontent.com/beccaelenzil-teach/materials-su18/master/materials/su18/hw/hw02/tests/q1_1.ok\n",
        "!wget https://raw.githubusercontent.com/beccaelenzil-teach/materials-su18/master/materials/su18/hw/hw02/tests/q1_2.ok\n",
        "!wget https://raw.githubusercontent.com/beccaelenzil-teach/materials-su18/master/materials/su18/hw/hw02/tests/q1_3.ok\n",
        "!wget https://raw.githubusercontent.com/beccaelenzil-teach/materials-su18/master/materials/su18/hw/hw02/tests/q2_1.ok\n",
        "!wget https://raw.githubusercontent.com/beccaelenzil-teach/materials-su18/master/materials/su18/hw/hw02/tests/q2_2.ok\n",
        "!wget https://raw.githubusercontent.com/beccaelenzil-teach/materials-su18/master/materials/su18/hw/hw02/tests/q2_3.ok\n",
        "!wget https://raw.githubusercontent.com/beccaelenzil-teach/materials-su18/master/materials/su18/hw/hw02/tests/q2_4.ok\n",
        "!wget https://raw.githubusercontent.com/beccaelenzil-teach/materials-su18/master/materials/su18/hw/hw02/tests/q3_1.ok\n",
        "!wget https://raw.githubusercontent.com/beccaelenzil-teach/materials-su18/master/materials/su18/hw/hw02/tests/q3_2.ok\n",
        "!wget https://raw.githubusercontent.com/beccaelenzil-teach/materials-su18/master/materials/su18/hw/hw02/tests/q3_3.ok\n",
        "!wget https://raw.githubusercontent.com/beccaelenzil-teach/materials-su18/master/materials/su18/hw/hw02/tests/q3_4.ok\n",
        "!wget https://raw.githubusercontent.com/beccaelenzil-teach/materials-su18/master/materials/su18/hw/hw02/tests/q3_5.ok\n",
        "!wget https://raw.githubusercontent.com/beccaelenzil-teach/materials-su18/master/materials/su18/hw/hw02/tests/q4_1.ok\n",
        "!wget https://raw.githubusercontent.com/beccaelenzil-teach/materials-su18/master/materials/su18/hw/hw02/tests/q4_2.ok\n",
        "!wget https://raw.githubusercontent.com/beccaelenzil-teach/materials-su18/master/materials/su18/hw/hw02/tests/q5_1.ok\n",
        "!wget https://raw.githubusercontent.com/beccaelenzil-teach/materials-su18/master/materials/su18/hw/hw02/tests/q5_2.ok\n",
        "!wget https://raw.githubusercontent.com/beccaelenzil-teach/materials-su18/master/materials/su18/hw/hw02/tests/q5_3.ok\n",
        "!wget https://raw.githubusercontent.com/beccaelenzil-teach/materials-su18/master/materials/su18/hw/hw02/tests/q5_4.ok\n",
        "!wget https://raw.githubusercontent.com/beccaelenzil-teach/materials-su18/master/materials/su18/hw/hw02/tests/q6_1.ok\n",
        "!wget https://raw.githubusercontent.com/beccaelenzil-teach/materials-su18/master/materials/su18/hw/hw02/tests/q6_2.ok\n",
        "!wget https://raw.githubusercontent.com/beccaelenzil-teach/materials-su18/master/materials/su18/hw/hw02/tests/q6_3.ok\n",
        "!wget https://raw.githubusercontent.com/beccaelenzil-teach/materials-su18/master/materials/su18/hw/hw02/tests/q6_4.ok\n",
        "!wget https://raw.githubusercontent.com/beccaelenzil-teach/materials-su18/master/materials/su18/hw/hw02/tests/q6_5.ok\n",
        "!wget https://raw.githubusercontent.com/beccaelenzil-teach/materials-su18/master/materials/su18/hw/hw02/tests/q6_6.ok\n",
        "!wget https://raw.githubusercontent.com/beccaelenzil-teach/materials-su18/master/materials/su18/hw/hw02/tests/q6_7.ok\n",
        "  \n",
        "!wget https://raw.githubusercontent.com/beccaelenzil-teach/materials-su18/master/materials/su18/hw/hw02/inventory.csv\n",
        "!wget https://raw.githubusercontent.com/beccaelenzil-teach/materials-su18/master/materials/su18/hw/hw02/old_faithful.csv\n",
        "!wget https://raw.githubusercontent.com/beccaelenzil-teach/materials-su18/master/materials/su18/hw/hw02/president_births.csv\n",
        "!wget https://raw.githubusercontent.com/beccaelenzil-teach/materials-su18/master/materials/su18/hw/hw02/sales.csv\n",
        "!wget https://raw.githubusercontent.com/beccaelenzil-teach/materials-su18/master/materials/su18/hw/hw02/temperatures.csv\n",
        "!wget https://raw.githubusercontent.com/beccaelenzil-teach/materials-su18/master/materials/su18/hw/hw02/world_population.csv\n",
        "\n",
        "from okgrade import *\n",
        "from datascience import *\n",
        "import numpy as np\n",
        "\n",
        "!ls"
      ],
      "execution_count": 0,
      "outputs": [
        {
          "output_type": "stream",
          "text": [
            "Collecting datascience\n",
            "\u001b[?25l  Downloading https://files.pythonhosted.org/packages/35/77/c536ef2618b79264f24ad143f0ec061e21a25485261e81f3736c8c8dda42/datascience-0.10.5.tar.gz (40kB)\n",
            "\u001b[K    100% |████████████████████████████████| 40kB 2.1MB/s \n",
            "\u001b[?25hCollecting folium==0.2.1 (from datascience)\n",
            "\u001b[?25l  Downloading https://files.pythonhosted.org/packages/72/dd/75ced7437bfa7cb9a88b96ee0177953062803c3b4cde411a97d98c35adaf/folium-0.2.1.tar.gz (69kB)\n",
            "\u001b[K    100% |████████████████████████████████| 71kB 5.3MB/s \n",
            "\u001b[?25hCollecting sphinx (from datascience)\n",
            "\u001b[?25l  Downloading https://files.pythonhosted.org/packages/2b/c8/7bd4a29ad5c6ccfd80195c4960d67601302998bbb3287373c4d309f4399e/Sphinx-1.7.8-py2.py3-none-any.whl (1.9MB)\n",
            "\u001b[K    100% |████████████████████████████████| 1.9MB 7.0MB/s \n",
            "\u001b[?25hRequirement already satisfied: setuptools in /usr/local/lib/python3.6/dist-packages (from datascience) (39.1.0)\n",
            "Collecting pytest (from datascience)\n",
            "\u001b[?25l  Downloading https://files.pythonhosted.org/packages/0e/8c/673d56ebe1c9362ff829acf7e67fd4aba09377d44d80fc7435f1369bfe3a/pytest-3.7.4-py2.py3-none-any.whl (204kB)\n",
            "\u001b[K    100% |████████████████████████████████| 204kB 8.3MB/s \n",
            "\u001b[?25hCollecting coverage==3.7.1 (from datascience)\n",
            "\u001b[?25l  Downloading https://files.pythonhosted.org/packages/09/4f/89b06c7fdc09687bca507dc411c342556ef9c5a3b26756137a4878ff19bf/coverage-3.7.1.tar.gz (284kB)\n",
            "\u001b[K    100% |████████████████████████████████| 286kB 11.3MB/s \n",
            "\u001b[?25hCollecting coveralls==0.5 (from datascience)\n",
            "  Downloading https://files.pythonhosted.org/packages/7d/16/db9bcd676fea5cc45980e24ce66c77f348cf3c750d9c2c7bebd8b8792bf1/coveralls-0.5.zip\n",
            "Requirement already satisfied: Jinja2 in /usr/local/lib/python3.6/dist-packages (from folium==0.2.1->datascience) (2.10)\n",
            "Requirement already satisfied: six>=1.5 in /usr/local/lib/python3.6/dist-packages (from sphinx->datascience) (1.11.0)\n",
            "Requirement already satisfied: Pygments>=2.0 in /usr/local/lib/python3.6/dist-packages (from sphinx->datascience) (2.1.3)\n",
            "Collecting alabaster<0.8,>=0.7 (from sphinx->datascience)\n",
            "  Downloading https://files.pythonhosted.org/packages/6e/71/c3648cc2f675063dbe2d669004a59e4a5120172713a1de3c3b14144d4b31/alabaster-0.7.11-py2.py3-none-any.whl\n",
            "Collecting docutils>=0.11 (from sphinx->datascience)\n",
            "\u001b[?25l  Downloading https://files.pythonhosted.org/packages/36/fa/08e9e6e0e3cbd1d362c3bbee8d01d0aedb2155c4ac112b19ef3cae8eed8d/docutils-0.14-py3-none-any.whl (543kB)\n",
            "\u001b[K    100% |████████████████████████████████| 552kB 11.3MB/s \n",
            "\u001b[?25hCollecting babel!=2.0,>=1.3 (from sphinx->datascience)\n",
            "\u001b[?25l  Downloading https://files.pythonhosted.org/packages/b8/ad/c6f60602d3ee3d92fbed87675b6fb6a6f9a38c223343ababdb44ba201f10/Babel-2.6.0-py2.py3-none-any.whl (8.1MB)\n",
            "\u001b[K    100% |████████████████████████████████| 8.1MB 3.0MB/s \n",
            "\u001b[?25hCollecting snowballstemmer>=1.1 (from sphinx->datascience)\n",
            "\u001b[?25l  Downloading https://files.pythonhosted.org/packages/d4/6c/8a935e2c7b54a37714656d753e4187ee0631988184ed50c0cf6476858566/snowballstemmer-1.2.1-py2.py3-none-any.whl (64kB)\n",
            "\u001b[K    100% |████████████████████████████████| 71kB 23.0MB/s \n",
            "\u001b[?25hCollecting sphinxcontrib-websupport (from sphinx->datascience)\n",
            "  Downloading https://files.pythonhosted.org/packages/52/69/3c2fbdc3702358c5b34ee25e387b24838597ef099761fc9a42c166796e8f/sphinxcontrib_websupport-1.1.0-py2.py3-none-any.whl\n",
            "Requirement already satisfied: requests>=2.0.0 in /usr/local/lib/python3.6/dist-packages (from sphinx->datascience) (2.18.4)\n",
            "Collecting imagesize (from sphinx->datascience)\n",
            "  Downloading https://files.pythonhosted.org/packages/e9/79/31cc1c2e0daf575f8fd2b581e2975e6a6938bd439581f766b79c50479521/imagesize-1.0.0-py2.py3-none-any.whl\n",
            "Collecting packaging (from sphinx->datascience)\n",
            "  Downloading https://files.pythonhosted.org/packages/ad/c2/b500ea05d5f9f361a562f089fc91f77ed3b4783e13a08a3daf82069b1224/packaging-17.1-py2.py3-none-any.whl\n",
            "Collecting attrs>=17.4.0 (from pytest->datascience)\n",
            "  Downloading https://files.pythonhosted.org/packages/3a/e1/5f9023cc983f1a628a8c2fd051ad19e76ff7b142a0faf329336f9a62a514/attrs-18.2.0-py2.py3-none-any.whl\n",
            "Collecting more-itertools>=4.0.0 (from pytest->datascience)\n",
            "\u001b[?25l  Downloading https://files.pythonhosted.org/packages/79/b1/eace304ef66bd7d3d8b2f78cc374b73ca03bc53664d78151e9df3b3996cc/more_itertools-4.3.0-py3-none-any.whl (48kB)\n",
            "\u001b[K    100% |████████████████████████████████| 51kB 18.0MB/s \n",
            "\u001b[?25hCollecting atomicwrites>=1.0 (from pytest->datascience)\n",
            "  Downloading https://files.pythonhosted.org/packages/3a/9a/9d878f8d885706e2530402de6417141129a943802c084238914fa6798d97/atomicwrites-1.2.1-py2.py3-none-any.whl\n",
            "Requirement already satisfied: py>=1.5.0 in /usr/local/lib/python3.6/dist-packages (from pytest->datascience) (1.6.0)\n",
            "Requirement already satisfied: pluggy>=0.7 in /usr/local/lib/python3.6/dist-packages (from pytest->datascience) (0.7.1)\n",
            "Requirement already satisfied: PyYAML>=3.10 in /usr/local/lib/python3.6/dist-packages (from coveralls==0.5->datascience) (3.13)\n",
            "Collecting docopt>=0.6.1 (from coveralls==0.5->datascience)\n",
            "  Downloading https://files.pythonhosted.org/packages/a2/55/8f8cab2afd404cf578136ef2cc5dfb50baa1761b68c9da1fb1e4eed343c9/docopt-0.6.2.tar.gz\n",
            "Requirement already satisfied: MarkupSafe>=0.23 in /usr/local/lib/python3.6/dist-packages (from Jinja2->folium==0.2.1->datascience) (1.0)\n",
            "Requirement already satisfied: pytz>=0a in /usr/local/lib/python3.6/dist-packages (from babel!=2.0,>=1.3->sphinx->datascience) (2018.5)\n",
            "Requirement already satisfied: urllib3<1.23,>=1.21.1 in /usr/local/lib/python3.6/dist-packages (from requests>=2.0.0->sphinx->datascience) (1.22)\n",
            "Requirement already satisfied: idna<2.7,>=2.5 in /usr/local/lib/python3.6/dist-packages (from requests>=2.0.0->sphinx->datascience) (2.6)\n",
            "Requirement already satisfied: certifi>=2017.4.17 in /usr/local/lib/python3.6/dist-packages (from requests>=2.0.0->sphinx->datascience) (2018.8.24)\n",
            "Requirement already satisfied: chardet<3.1.0,>=3.0.2 in /usr/local/lib/python3.6/dist-packages (from requests>=2.0.0->sphinx->datascience) (3.0.4)\n",
            "Requirement already satisfied: pyparsing>=2.0.2 in /usr/local/lib/python3.6/dist-packages (from packaging->sphinx->datascience) (2.2.0)\n",
            "Building wheels for collected packages: datascience, folium, coverage, coveralls, docopt\n",
            "  Running setup.py bdist_wheel for datascience ... \u001b[?25l-\b \bdone\n",
            "\u001b[?25h  Stored in directory: /root/.cache/pip/wheels/30/ef/47/60a5019f851898fac2556369ee03ca0384627f5125e1f7b083\n",
            "  Running setup.py bdist_wheel for folium ... \u001b[?25l-\b \b\\\b \bdone\n",
            "\u001b[?25h  Stored in directory: /root/.cache/pip/wheels/b8/09/f0/52d2ef419c2aaf4fb149f92a33e0008bdce7ae816f0dd8f0c5\n",
            "  Running setup.py bdist_wheel for coverage ... \u001b[?25l-\b \b\\\b \b|\b \bdone\n",
            "\u001b[?25h  Stored in directory: /root/.cache/pip/wheels/68/58/66/f1fc9afad272df0df0fa38cdef34ee2d5d8d6a85f4eb5acab5\n",
            "  Running setup.py bdist_wheel for coveralls ... \u001b[?25l-\b \bdone\n",
            "\u001b[?25h  Stored in directory: /root/.cache/pip/wheels/50/54/3b/b62b1288fa80808256abccca3b8fff97ed694404c4f5fe2646\n",
            "  Running setup.py bdist_wheel for docopt ... \u001b[?25l-\b \bdone\n",
            "\u001b[?25h  Stored in directory: /root/.cache/pip/wheels/9b/04/dd/7daf4150b6d9b12949298737de9431a324d4b797ffd63f526e\n",
            "Successfully built datascience folium coverage coveralls docopt\n",
            "Installing collected packages: folium, alabaster, docutils, babel, snowballstemmer, sphinxcontrib-websupport, imagesize, packaging, sphinx, attrs, more-itertools, atomicwrites, pytest, coverage, docopt, coveralls, datascience\n",
            "Successfully installed alabaster-0.7.11 atomicwrites-1.2.1 attrs-18.2.0 babel-2.6.0 coverage-3.7.1 coveralls-0.5 datascience-0.10.5 docopt-0.6.2 docutils-0.14 folium-0.2.1 imagesize-1.0.0 more-itertools-4.3.0 packaging-17.1 pytest-3.7.4 snowballstemmer-1.2.1 sphinx-1.7.8 sphinxcontrib-websupport-1.1.0\n",
            "Collecting okgrade\n",
            "  Downloading https://files.pythonhosted.org/packages/4b/fe/6fc99214632314f49f50915b05662ac392d671f08529df69263640c4c80d/okgrade-0.4.3-py3-none-any.whl\n",
            "Installing collected packages: okgrade\n",
            "Successfully installed okgrade-0.4.3\n",
            "--2018-09-01 15:30:44--  https://raw.githubusercontent.com/beccaelenzil-teach/materials-su18/master/materials/su18/hw/hw02/tests/q1_1.ok\n",
            "Resolving raw.githubusercontent.com (raw.githubusercontent.com)... 151.101.0.133, 151.101.64.133, 151.101.128.133, ...\n",
            "Connecting to raw.githubusercontent.com (raw.githubusercontent.com)|151.101.0.133|:443... connected.\n",
            "HTTP request sent, awaiting response... 200 OK\n",
            "Length: 434 [text/plain]\n",
            "Saving to: ‘q1_1.ok’\n",
            "\n",
            "q1_1.ok             100%[===================>]     434  --.-KB/s    in 0s      \n",
            "\n",
            "2018-09-01 15:30:44 (19.1 MB/s) - ‘q1_1.ok’ saved [434/434]\n",
            "\n",
            "--2018-09-01 15:30:45--  https://raw.githubusercontent.com/beccaelenzil-teach/materials-su18/master/materials/su18/hw/hw02/tests/q1_2.ok\n",
            "Resolving raw.githubusercontent.com (raw.githubusercontent.com)... 151.101.0.133, 151.101.64.133, 151.101.128.133, ...\n",
            "Connecting to raw.githubusercontent.com (raw.githubusercontent.com)|151.101.0.133|:443... connected.\n",
            "HTTP request sent, awaiting response... 200 OK\n",
            "Length: 1904 (1.9K) [text/plain]\n",
            "Saving to: ‘q1_2.ok’\n",
            "\n",
            "q1_2.ok             100%[===================>]   1.86K  --.-KB/s    in 0s      \n",
            "\n",
            "2018-09-01 15:30:45 (155 MB/s) - ‘q1_2.ok’ saved [1904/1904]\n",
            "\n",
            "--2018-09-01 15:30:46--  https://raw.githubusercontent.com/beccaelenzil-teach/materials-su18/master/materials/su18/hw/hw02/tests/q1_3.ok\n",
            "Resolving raw.githubusercontent.com (raw.githubusercontent.com)... 151.101.0.133, 151.101.64.133, 151.101.128.133, ...\n",
            "Connecting to raw.githubusercontent.com (raw.githubusercontent.com)|151.101.0.133|:443... connected.\n",
            "HTTP request sent, awaiting response... 200 OK\n",
            "Length: 433 [text/plain]\n",
            "Saving to: ‘q1_3.ok’\n",
            "\n",
            "q1_3.ok             100%[===================>]     433  --.-KB/s    in 0s      \n",
            "\n",
            "2018-09-01 15:30:46 (30.8 MB/s) - ‘q1_3.ok’ saved [433/433]\n",
            "\n",
            "--2018-09-01 15:30:47--  https://raw.githubusercontent.com/beccaelenzil-teach/materials-su18/master/materials/su18/hw/hw02/tests/q2_1.ok\n",
            "Resolving raw.githubusercontent.com (raw.githubusercontent.com)... 151.101.0.133, 151.101.64.133, 151.101.128.133, ...\n",
            "Connecting to raw.githubusercontent.com (raw.githubusercontent.com)|151.101.0.133|:443... connected.\n",
            "HTTP request sent, awaiting response... 200 OK\n",
            "Length: 535 [text/plain]\n",
            "Saving to: ‘q2_1.ok’\n",
            "\n",
            "q2_1.ok             100%[===================>]     535  --.-KB/s    in 0s      \n",
            "\n",
            "2018-09-01 15:30:47 (51.4 MB/s) - ‘q2_1.ok’ saved [535/535]\n",
            "\n",
            "--2018-09-01 15:30:48--  https://raw.githubusercontent.com/beccaelenzil-teach/materials-su18/master/materials/su18/hw/hw02/tests/q2_2.ok\n",
            "Resolving raw.githubusercontent.com (raw.githubusercontent.com)... 151.101.0.133, 151.101.64.133, 151.101.128.133, ...\n",
            "Connecting to raw.githubusercontent.com (raw.githubusercontent.com)|151.101.0.133|:443... connected.\n",
            "HTTP request sent, awaiting response... 200 OK\n",
            "Length: 646 [text/plain]\n",
            "Saving to: ‘q2_2.ok’\n",
            "\n",
            "q2_2.ok             100%[===================>]     646  --.-KB/s    in 0s      \n",
            "\n",
            "2018-09-01 15:30:49 (63.5 MB/s) - ‘q2_2.ok’ saved [646/646]\n",
            "\n",
            "--2018-09-01 15:30:50--  https://raw.githubusercontent.com/beccaelenzil-teach/materials-su18/master/materials/su18/hw/hw02/tests/q2_3.ok\n",
            "Resolving raw.githubusercontent.com (raw.githubusercontent.com)... 151.101.0.133, 151.101.64.133, 151.101.128.133, ...\n",
            "Connecting to raw.githubusercontent.com (raw.githubusercontent.com)|151.101.0.133|:443... connected.\n",
            "HTTP request sent, awaiting response... 200 OK\n",
            "Length: 356 [text/plain]\n",
            "Saving to: ‘q2_3.ok’\n",
            "\n",
            "q2_3.ok             100%[===================>]     356  --.-KB/s    in 0s      \n",
            "\n",
            "2018-09-01 15:30:50 (32.1 MB/s) - ‘q2_3.ok’ saved [356/356]\n",
            "\n",
            "--2018-09-01 15:30:51--  https://raw.githubusercontent.com/beccaelenzil-teach/materials-su18/master/materials/su18/hw/hw02/tests/q2_4.ok\n",
            "Resolving raw.githubusercontent.com (raw.githubusercontent.com)... 151.101.0.133, 151.101.64.133, 151.101.128.133, ...\n",
            "Connecting to raw.githubusercontent.com (raw.githubusercontent.com)|151.101.0.133|:443... connected.\n",
            "HTTP request sent, awaiting response... 200 OK\n",
            "Length: 358 [text/plain]\n",
            "Saving to: ‘q2_4.ok’\n",
            "\n",
            "q2_4.ok             100%[===================>]     358  --.-KB/s    in 0s      \n",
            "\n",
            "2018-09-01 15:30:51 (29.3 MB/s) - ‘q2_4.ok’ saved [358/358]\n",
            "\n",
            "--2018-09-01 15:30:52--  https://raw.githubusercontent.com/beccaelenzil-teach/materials-su18/master/materials/su18/hw/hw02/tests/q3_1.ok\n",
            "Resolving raw.githubusercontent.com (raw.githubusercontent.com)... 151.101.0.133, 151.101.64.133, 151.101.128.133, ...\n",
            "Connecting to raw.githubusercontent.com (raw.githubusercontent.com)|151.101.0.133|:443... connected.\n",
            "HTTP request sent, awaiting response... 200 OK\n",
            "Length: 428 [text/plain]\n",
            "Saving to: ‘q3_1.ok’\n",
            "\n",
            "q3_1.ok             100%[===================>]     428  --.-KB/s    in 0s      \n",
            "\n",
            "2018-09-01 15:30:52 (36.6 MB/s) - ‘q3_1.ok’ saved [428/428]\n",
            "\n",
            "--2018-09-01 15:30:53--  https://raw.githubusercontent.com/beccaelenzil-teach/materials-su18/master/materials/su18/hw/hw02/tests/q3_2.ok\n",
            "Resolving raw.githubusercontent.com (raw.githubusercontent.com)... 151.101.0.133, 151.101.64.133, 151.101.128.133, ...\n",
            "Connecting to raw.githubusercontent.com (raw.githubusercontent.com)|151.101.0.133|:443... connected.\n",
            "HTTP request sent, awaiting response... 200 OK\n",
            "Length: 403 [text/plain]\n",
            "Saving to: ‘q3_2.ok’\n",
            "\n",
            "q3_2.ok             100%[===================>]     403  --.-KB/s    in 0s      \n",
            "\n",
            "2018-09-01 15:30:53 (33.7 MB/s) - ‘q3_2.ok’ saved [403/403]\n",
            "\n",
            "--2018-09-01 15:30:54--  https://raw.githubusercontent.com/beccaelenzil-teach/materials-su18/master/materials/su18/hw/hw02/tests/q3_4.ok\n",
            "Resolving raw.githubusercontent.com (raw.githubusercontent.com)... 151.101.0.133, 151.101.64.133, 151.101.128.133, ...\n",
            "Connecting to raw.githubusercontent.com (raw.githubusercontent.com)|151.101.0.133|:443... connected.\n",
            "HTTP request sent, awaiting response... 200 OK\n",
            "Length: 885 [text/plain]\n",
            "Saving to: ‘q3_4.ok’\n",
            "\n",
            "q3_4.ok             100%[===================>]     885  --.-KB/s    in 0s      \n",
            "\n",
            "2018-09-01 15:30:55 (77.1 MB/s) - ‘q3_4.ok’ saved [885/885]\n",
            "\n",
            "--2018-09-01 15:30:56--  https://raw.githubusercontent.com/beccaelenzil-teach/materials-su18/master/materials/su18/hw/hw02/tests/q3_5.ok\n",
            "Resolving raw.githubusercontent.com (raw.githubusercontent.com)... 151.101.0.133, 151.101.64.133, 151.101.128.133, ...\n",
            "Connecting to raw.githubusercontent.com (raw.githubusercontent.com)|151.101.0.133|:443... connected.\n",
            "HTTP request sent, awaiting response... 200 OK\n",
            "Length: 504 [text/plain]\n",
            "Saving to: ‘q3_5.ok’\n",
            "\n",
            "q3_5.ok             100%[===================>]     504  --.-KB/s    in 0s      \n",
            "\n",
            "2018-09-01 15:30:56 (50.2 MB/s) - ‘q3_5.ok’ saved [504/504]\n",
            "\n",
            "--2018-09-01 15:30:57--  https://raw.githubusercontent.com/beccaelenzil-teach/materials-su18/master/materials/su18/hw/hw02/tests/q4_1.ok\n",
            "Resolving raw.githubusercontent.com (raw.githubusercontent.com)... 151.101.0.133, 151.101.64.133, 151.101.128.133, ...\n",
            "Connecting to raw.githubusercontent.com (raw.githubusercontent.com)|151.101.0.133|:443... connected.\n",
            "HTTP request sent, awaiting response... 200 OK\n",
            "Length: 365 [text/plain]\n",
            "Saving to: ‘q4_1.ok’\n",
            "\n",
            "q4_1.ok             100%[===================>]     365  --.-KB/s    in 0s      \n",
            "\n",
            "2018-09-01 15:30:57 (29.5 MB/s) - ‘q4_1.ok’ saved [365/365]\n",
            "\n",
            "--2018-09-01 15:30:58--  https://raw.githubusercontent.com/beccaelenzil-teach/materials-su18/master/materials/su18/hw/hw02/tests/q4_2.ok\n",
            "Resolving raw.githubusercontent.com (raw.githubusercontent.com)... 151.101.0.133, 151.101.64.133, 151.101.128.133, ...\n",
            "Connecting to raw.githubusercontent.com (raw.githubusercontent.com)|151.101.0.133|:443... connected.\n",
            "HTTP request sent, awaiting response... 200 OK\n",
            "Length: 431 [text/plain]\n",
            "Saving to: ‘q4_2.ok’\n",
            "\n",
            "q4_2.ok             100%[===================>]     431  --.-KB/s    in 0s      \n",
            "\n",
            "2018-09-01 15:30:58 (37.3 MB/s) - ‘q4_2.ok’ saved [431/431]\n",
            "\n",
            "--2018-09-01 15:30:59--  https://raw.githubusercontent.com/beccaelenzil-teach/materials-su18/master/materials/su18/hw/hw02/tests/q5_1.ok\n",
            "Resolving raw.githubusercontent.com (raw.githubusercontent.com)... 151.101.0.133, 151.101.64.133, 151.101.128.133, ...\n",
            "Connecting to raw.githubusercontent.com (raw.githubusercontent.com)|151.101.0.133|:443... connected.\n",
            "HTTP request sent, awaiting response... 200 OK\n",
            "Length: 888 [text/plain]\n",
            "Saving to: ‘q5_1.ok’\n",
            "\n",
            "q5_1.ok             100%[===================>]     888  --.-KB/s    in 0s      \n",
            "\n",
            "2018-09-01 15:31:00 (78.2 MB/s) - ‘q5_1.ok’ saved [888/888]\n",
            "\n",
            "--2018-09-01 15:31:01--  https://raw.githubusercontent.com/beccaelenzil-teach/materials-su18/master/materials/su18/hw/hw02/tests/q5_2.ok\n",
            "Resolving raw.githubusercontent.com (raw.githubusercontent.com)... 151.101.0.133, 151.101.64.133, 151.101.128.133, ...\n",
            "Connecting to raw.githubusercontent.com (raw.githubusercontent.com)|151.101.0.133|:443... connected.\n",
            "HTTP request sent, awaiting response... 200 OK\n",
            "Length: 427 [text/plain]\n",
            "Saving to: ‘q5_2.ok’\n",
            "\n",
            "q5_2.ok             100%[===================>]     427  --.-KB/s    in 0s      \n",
            "\n",
            "2018-09-01 15:31:01 (35.3 MB/s) - ‘q5_2.ok’ saved [427/427]\n",
            "\n",
            "--2018-09-01 15:31:02--  https://raw.githubusercontent.com/beccaelenzil-teach/materials-su18/master/materials/su18/hw/hw02/tests/q5_3.ok\n",
            "Resolving raw.githubusercontent.com (raw.githubusercontent.com)... 151.101.0.133, 151.101.64.133, 151.101.128.133, ...\n",
            "Connecting to raw.githubusercontent.com (raw.githubusercontent.com)|151.101.0.133|:443... connected.\n",
            "HTTP request sent, awaiting response... 200 OK\n",
            "Length: 466 [text/plain]\n",
            "Saving to: ‘q5_3.ok’\n",
            "\n",
            "q5_3.ok             100%[===================>]     466  --.-KB/s    in 0s      \n",
            "\n",
            "2018-09-01 15:31:02 (40.5 MB/s) - ‘q5_3.ok’ saved [466/466]\n",
            "\n",
            "--2018-09-01 15:31:03--  https://raw.githubusercontent.com/beccaelenzil-teach/materials-su18/master/materials/su18/hw/hw02/tests/q5_4.ok\n",
            "Resolving raw.githubusercontent.com (raw.githubusercontent.com)... 151.101.0.133, 151.101.64.133, 151.101.128.133, ...\n",
            "Connecting to raw.githubusercontent.com (raw.githubusercontent.com)|151.101.0.133|:443... connected.\n",
            "HTTP request sent, awaiting response... 200 OK\n",
            "Length: 361 [text/plain]\n",
            "Saving to: ‘q5_4.ok’\n",
            "\n",
            "q5_4.ok             100%[===================>]     361  --.-KB/s    in 0s      \n",
            "\n",
            "2018-09-01 15:31:03 (31.9 MB/s) - ‘q5_4.ok’ saved [361/361]\n",
            "\n",
            "--2018-09-01 15:31:04--  https://raw.githubusercontent.com/beccaelenzil-teach/materials-su18/master/materials/su18/hw/hw02/tests/q6_1.ok\n",
            "Resolving raw.githubusercontent.com (raw.githubusercontent.com)... 151.101.0.133, 151.101.64.133, 151.101.128.133, ...\n",
            "Connecting to raw.githubusercontent.com (raw.githubusercontent.com)|151.101.0.133|:443... connected.\n",
            "HTTP request sent, awaiting response... 200 OK\n",
            "Length: 439 [text/plain]\n",
            "Saving to: ‘q6_1.ok’\n",
            "\n",
            "q6_1.ok             100%[===================>]     439  --.-KB/s    in 0s      \n",
            "\n",
            "2018-09-01 15:31:04 (42.4 MB/s) - ‘q6_1.ok’ saved [439/439]\n",
            "\n",
            "--2018-09-01 15:31:05--  https://raw.githubusercontent.com/beccaelenzil-teach/materials-su18/master/materials/su18/hw/hw02/tests/q6_2.ok\n",
            "Resolving raw.githubusercontent.com (raw.githubusercontent.com)... 151.101.0.133, 151.101.64.133, 151.101.128.133, ...\n",
            "Connecting to raw.githubusercontent.com (raw.githubusercontent.com)|151.101.0.133|:443... connected.\n",
            "HTTP request sent, awaiting response... 200 OK\n",
            "Length: 372 [text/plain]\n",
            "Saving to: ‘q6_2.ok’\n",
            "\n",
            "q6_2.ok             100%[===================>]     372  --.-KB/s    in 0s      \n",
            "\n",
            "2018-09-01 15:31:06 (37.6 MB/s) - ‘q6_2.ok’ saved [372/372]\n",
            "\n",
            "--2018-09-01 15:31:07--  https://raw.githubusercontent.com/beccaelenzil-teach/materials-su18/master/materials/su18/hw/hw02/tests/q6_3.ok\n",
            "Resolving raw.githubusercontent.com (raw.githubusercontent.com)... 151.101.0.133, 151.101.64.133, 151.101.128.133, ...\n",
            "Connecting to raw.githubusercontent.com (raw.githubusercontent.com)|151.101.0.133|:443... connected.\n",
            "HTTP request sent, awaiting response... 200 OK\n",
            "Length: 374 [text/plain]\n",
            "Saving to: ‘q6_3.ok’\n",
            "\n",
            "q6_3.ok             100%[===================>]     374  --.-KB/s    in 0s      \n",
            "\n",
            "2018-09-01 15:31:07 (39.3 MB/s) - ‘q6_3.ok’ saved [374/374]\n",
            "\n",
            "--2018-09-01 15:31:08--  https://raw.githubusercontent.com/beccaelenzil-teach/materials-su18/master/materials/su18/hw/hw02/tests/q6_4.ok\n",
            "Resolving raw.githubusercontent.com (raw.githubusercontent.com)... 151.101.0.133, 151.101.64.133, 151.101.128.133, ...\n",
            "Connecting to raw.githubusercontent.com (raw.githubusercontent.com)|151.101.0.133|:443... connected.\n",
            "HTTP request sent, awaiting response... 200 OK\n",
            "Length: 794 [text/plain]\n",
            "Saving to: ‘q6_4.ok’\n",
            "\n",
            "q6_4.ok             100%[===================>]     794  --.-KB/s    in 0s      \n",
            "\n",
            "2018-09-01 15:31:08 (66.5 MB/s) - ‘q6_4.ok’ saved [794/794]\n",
            "\n",
            "--2018-09-01 15:31:09--  https://raw.githubusercontent.com/beccaelenzil-teach/materials-su18/master/materials/su18/hw/hw02/tests/q6_5.ok\n",
            "Resolving raw.githubusercontent.com (raw.githubusercontent.com)... 151.101.0.133, 151.101.64.133, 151.101.128.133, ...\n",
            "Connecting to raw.githubusercontent.com (raw.githubusercontent.com)|151.101.0.133|:443... connected.\n",
            "HTTP request sent, awaiting response... 200 OK\n",
            "Length: 541 [text/plain]\n",
            "Saving to: ‘q6_5.ok’\n",
            "\n",
            "q6_5.ok             100%[===================>]     541  --.-KB/s    in 0s      \n",
            "\n",
            "2018-09-01 15:31:09 (46.5 MB/s) - ‘q6_5.ok’ saved [541/541]\n",
            "\n",
            "--2018-09-01 15:31:10--  https://raw.githubusercontent.com/beccaelenzil-teach/materials-su18/master/materials/su18/hw/hw02/tests/q6_6.ok\n",
            "Resolving raw.githubusercontent.com (raw.githubusercontent.com)... 151.101.0.133, 151.101.64.133, 151.101.128.133, ...\n",
            "Connecting to raw.githubusercontent.com (raw.githubusercontent.com)|151.101.0.133|:443... connected.\n",
            "HTTP request sent, awaiting response... 200 OK\n",
            "Length: 653 [text/plain]\n",
            "Saving to: ‘q6_6.ok’\n",
            "\n",
            "q6_6.ok             100%[===================>]     653  --.-KB/s    in 0s      \n",
            "\n",
            "2018-09-01 15:31:10 (50.1 MB/s) - ‘q6_6.ok’ saved [653/653]\n",
            "\n"
          ],
          "name": "stdout"
        }
      ]
    },
    {
      "metadata": {
        "id": "WvSKHkm_YJ2y",
        "colab_type": "text"
      },
      "cell_type": "markdown",
      "source": [
        "<font color=\"#E74C3C\">**Important**: In this homework, the `ok` tests will tell you whether your answer is correct, except for Parts 5 & 6. In future homework assignments, correctness tests will typically not be provided.</font>"
      ]
    },
    {
      "metadata": {
        "id": "JpY9LuuSYJ22",
        "colab_type": "text"
      },
      "cell_type": "markdown",
      "source": [
        "## 1. Creating Arrays\n"
      ]
    },
    {
      "metadata": {
        "id": "qfs0qiaYYJ24",
        "colab_type": "text"
      },
      "cell_type": "markdown",
      "source": [
        "**Question 1.** Make an array called `weird_numbers` containing the following numbers (in the given order):\n",
        "\n",
        "1. -2\n",
        "2. the sine of 1.2\n",
        "3. 3\n",
        "4. 5 to the power of the cosine of 1.2\n",
        "\n",
        "*Hint:* `sin` and `cos` are functions in the `math` module."
      ]
    },
    {
      "metadata": {
        "id": "PQJD4U2PYJ28",
        "colab_type": "code",
        "colab": {}
      },
      "cell_type": "code",
      "source": [
        "# Our solution involved one extra line of code before creating\n",
        "# weird_numbers.\n",
        "...\n",
        "weird_numbers = ...\n",
        "weird_numbers"
      ],
      "execution_count": 0,
      "outputs": []
    },
    {
      "metadata": {
        "id": "alVa5cXZYJ3K",
        "colab_type": "code",
        "colab": {}
      },
      "cell_type": "code",
      "source": [
        "grade('q1_1.ok')"
      ],
      "execution_count": 0,
      "outputs": []
    },
    {
      "metadata": {
        "id": "Uk29j3b4YJ3W",
        "colab_type": "text"
      },
      "cell_type": "markdown",
      "source": [
        "**Question 2.** Make an array called `book_title_words` containing the following three strings: \"Eats\", \"Shoots\", and \"and Leaves\"."
      ]
    },
    {
      "metadata": {
        "id": "-w6wmww8YJ3a",
        "colab_type": "code",
        "colab": {}
      },
      "cell_type": "code",
      "source": [
        "book_title_words = ...\n",
        "book_title_words"
      ],
      "execution_count": 0,
      "outputs": []
    },
    {
      "metadata": {
        "id": "I4HcAlG-YJ3i",
        "colab_type": "code",
        "colab": {}
      },
      "cell_type": "code",
      "source": [
        "grade('q1_2.ok')"
      ],
      "execution_count": 0,
      "outputs": []
    },
    {
      "metadata": {
        "id": "lTiMfQvuYJ3s",
        "colab_type": "text"
      },
      "cell_type": "markdown",
      "source": [
        "Strings have a method called `join`.  `join` takes one argument, an array of strings.  It returns a single string.  Specifically, the value of `a_string.join(an_array)` is a single string that's the [concatenation](https://en.wikipedia.org/wiki/Concatenation) (\"putting together\") of all the strings in `an_array`, **except** `a_string` is inserted in between each string\n",
        "\n",
        "**Question 3.** Use the array `book_title_words` and the method `join` to make two strings:\n",
        "\n",
        "1. \"Eats, Shoots, and Leaves\" (call this one `with_commas`)\n",
        "2. \"Eats Shoots and Leaves\" (call this one `without_commas`)\n",
        "\n",
        "*Hint:* If you're not sure what `join` does, first try just calling, for example, `\"foo\".join(book_title_words)` ."
      ]
    },
    {
      "metadata": {
        "id": "A9qfDaJaYJ3u",
        "colab_type": "code",
        "colab": {}
      },
      "cell_type": "code",
      "source": [
        "with_commas = ...\n",
        "without_commas = ...\n",
        "\n",
        "# These lines are provided just to print out your answers.\n",
        "print('with_commas:', with_commas)\n",
        "print('without_commas:', without_commas)"
      ],
      "execution_count": 0,
      "outputs": []
    },
    {
      "metadata": {
        "id": "cDYc3sqIYJ38",
        "colab_type": "code",
        "colab": {}
      },
      "cell_type": "code",
      "source": [
        "grade('q1_3.ok')"
      ],
      "execution_count": 0,
      "outputs": []
    },
    {
      "metadata": {
        "id": "wSMCXz8DYJ4C",
        "colab_type": "text"
      },
      "cell_type": "markdown",
      "source": [
        "## 2. Indexing Arrays\n"
      ]
    },
    {
      "metadata": {
        "id": "eyya2Mk3YJ4G",
        "colab_type": "text"
      },
      "cell_type": "markdown",
      "source": [
        "These exercises give you practice accessing individual elements of arrays.  In Python (and in many programming languages), elements are accessed by *index*, so the first element is the element at index 0.  "
      ]
    },
    {
      "metadata": {
        "id": "H2g4hXhKYJ4Q",
        "colab_type": "text"
      },
      "cell_type": "markdown",
      "source": [
        "**Question 1.** The cell below creates an array of some numbers.  Set `third_element` to the third element of `some_numbers`."
      ]
    },
    {
      "metadata": {
        "id": "WfQGCPQ2YJ4U",
        "colab_type": "code",
        "colab": {}
      },
      "cell_type": "code",
      "source": [
        "some_numbers = make_array(-1, -3, -6, -10, -15)\n",
        "\n",
        "third_element = ...\n",
        "third_element"
      ],
      "execution_count": 0,
      "outputs": []
    },
    {
      "metadata": {
        "id": "eZTN1p2rYJ4a",
        "colab_type": "code",
        "colab": {}
      },
      "cell_type": "code",
      "source": [
        "grade('q2_1.ok')"
      ],
      "execution_count": 0,
      "outputs": []
    },
    {
      "metadata": {
        "id": "iPnB2r6PYJ4i",
        "colab_type": "text"
      },
      "cell_type": "markdown",
      "source": [
        "**Question 2.** The next cell creates a table that displays some information about the elements of `some_numbers` and their order.  Run the cell to see the partially-completed table, then fill in the missing information in the cell (the strings that are currently \"???\") to complete the table."
      ]
    },
    {
      "metadata": {
        "id": "FIz7aT8gYJ4k",
        "colab_type": "code",
        "colab": {}
      },
      "cell_type": "code",
      "source": [
        "elements_of_some_numbers = Table().with_columns(\n",
        "    \"English name for position\", make_array(\"first\", \"second\", \"???\", \"???\", \"fifth\"),\n",
        "    \"Index\",                     make_array(\"???\", \"1\", \"2\", \"???\", \"4\"),\n",
        "    \"Element\",                   some_numbers)\n",
        "elements_of_some_numbers"
      ],
      "execution_count": 0,
      "outputs": []
    },
    {
      "metadata": {
        "id": "nX1VAa8dYJ4o",
        "colab_type": "code",
        "colab": {}
      },
      "cell_type": "code",
      "source": [
        "grade('q2_2.ok')"
      ],
      "execution_count": 0,
      "outputs": []
    },
    {
      "metadata": {
        "id": "61eROGasYJ4w",
        "colab_type": "text"
      },
      "cell_type": "markdown",
      "source": [
        "**Question 3.** You'll sometimes want to find the *last* element of an array.  Suppose an array has 142 elements.  What is the index of its last element?"
      ]
    },
    {
      "metadata": {
        "id": "ZnpbBBnwYJ4w",
        "colab_type": "code",
        "colab": {}
      },
      "cell_type": "code",
      "source": [
        "index_of_last_element = ..."
      ],
      "execution_count": 0,
      "outputs": []
    },
    {
      "metadata": {
        "id": "1F-G8PsmYJ44",
        "colab_type": "code",
        "colab": {}
      },
      "cell_type": "code",
      "source": [
        "grade('q2_3.ok')"
      ],
      "execution_count": 0,
      "outputs": []
    },
    {
      "metadata": {
        "id": "ufP9TolTYJ48",
        "colab_type": "text"
      },
      "cell_type": "markdown",
      "source": [
        "More often, you don't know the number of elements in an array, its *length*.  (For example, it might be a large dataset you found on the Internet.)  The function `len` takes a single argument, an array, and returns the `len`gth of that array (an integer).\n",
        "\n",
        "**Question 4.** The cell below loads an array called `president_birth_years`.  The last element in that array is the most recent birth year of any deceased president. Assign that year to `most_recent_birth_year`."
      ]
    },
    {
      "metadata": {
        "id": "LTq334qCYJ5C",
        "colab_type": "code",
        "colab": {}
      },
      "cell_type": "code",
      "source": [
        "president_birth_years = Table.read_table(\"president_births.csv\").column('Birth Year')\n",
        "\n",
        "most_recent_birth_year = ...\n",
        "most_recent_birth_year"
      ],
      "execution_count": 0,
      "outputs": []
    },
    {
      "metadata": {
        "id": "jJxbu3IrYJ5G",
        "colab_type": "code",
        "colab": {}
      },
      "cell_type": "code",
      "source": [
        "grade('q2_4.ok')"
      ],
      "execution_count": 0,
      "outputs": []
    },
    {
      "metadata": {
        "id": "2ae1HDkmYJ5M",
        "colab_type": "text"
      },
      "cell_type": "markdown",
      "source": [
        "## 3. Basic Array Arithmetic\n"
      ]
    },
    {
      "metadata": {
        "id": "-76GourvYJ5M",
        "colab_type": "text"
      },
      "cell_type": "markdown",
      "source": [
        "**Question 1.** Multiply the numbers 42, 4224, 42422424, and -250 by 157.  For this question, **don't** use arrays."
      ]
    },
    {
      "metadata": {
        "id": "c1LHJcLOYJ5O",
        "colab_type": "code",
        "colab": {}
      },
      "cell_type": "code",
      "source": [
        "first_product = ...\n",
        "second_product = ...\n",
        "third_product = ...\n",
        "fourth_product = ...\n",
        "print(first_product, second_product, third_product, fourth_product)"
      ],
      "execution_count": 0,
      "outputs": []
    },
    {
      "metadata": {
        "id": "xSgHWFzIYJ5S",
        "colab_type": "code",
        "colab": {}
      },
      "cell_type": "code",
      "source": [
        "grade('q3_1.ok')"
      ],
      "execution_count": 0,
      "outputs": []
    },
    {
      "metadata": {
        "id": "EEngtKkJYJ5W",
        "colab_type": "text"
      },
      "cell_type": "markdown",
      "source": [
        "**Question 2.** Now, do the same calculation, but using an array called `numbers` and only a single multiplication (`*`) operator.  Store the 4 results in an array named `products`."
      ]
    },
    {
      "metadata": {
        "id": "L8CAgklkYJ5Y",
        "colab_type": "code",
        "colab": {}
      },
      "cell_type": "code",
      "source": [
        "numbers = ...\n",
        "products = ...\n",
        "products"
      ],
      "execution_count": 0,
      "outputs": []
    },
    {
      "metadata": {
        "id": "OkZ7zry1YJ5c",
        "colab_type": "code",
        "colab": {}
      },
      "cell_type": "code",
      "source": [
        "grade('q3_2.ok')"
      ],
      "execution_count": 0,
      "outputs": []
    },
    {
      "metadata": {
        "id": "L9ZORgFsYJ5g",
        "colab_type": "text"
      },
      "cell_type": "markdown",
      "source": [
        "**Question 3.** Oops, we made a typo!  Instead of 157, we wanted to multiply each number by 1577.  Compute the fixed products in the cell below using array arithmetic.  Notice that your job is really easy if you previously defined an array containing the 4 numbers."
      ]
    },
    {
      "metadata": {
        "id": "pouMYf39YJ5g",
        "colab_type": "code",
        "colab": {}
      },
      "cell_type": "code",
      "source": [
        "fixed_products = ...\n",
        "fixed_products"
      ],
      "execution_count": 0,
      "outputs": []
    },
    {
      "metadata": {
        "id": "QowOv7JrYJ5m",
        "colab_type": "code",
        "colab": {}
      },
      "cell_type": "code",
      "source": [
        "grade('q3_3.ok')"
      ],
      "execution_count": 0,
      "outputs": []
    },
    {
      "metadata": {
        "id": "_svnQV5uYJ5y",
        "colab_type": "text"
      },
      "cell_type": "markdown",
      "source": [
        "**Question 4.** We've loaded an array of temperatures in the next cell.  Each number is the highest temperature observed on a day at a climate observation station, mostly from the US.  Since they're from the US government agency [NOAA](noaa.gov), all the temperatures are in Fahrenheit.  Convert them all to Celsius by first subtracting 32 from them, then multiplying the results by $\\frac{5}{9}$. Round each result to the nearest integer using the `np.round` function."
      ]
    },
    {
      "metadata": {
        "id": "LVessnX3YJ50",
        "colab_type": "code",
        "colab": {}
      },
      "cell_type": "code",
      "source": [
        "max_temperatures = Table.read_table(\"temperatures.csv\").column(\"Daily Max Temperature\")\n",
        "\n",
        "celsius_max_temperatures = ...\n",
        "celsius_max_temperatures"
      ],
      "execution_count": 0,
      "outputs": []
    },
    {
      "metadata": {
        "id": "7XkFoo5xYJ52",
        "colab_type": "code",
        "colab": {}
      },
      "cell_type": "code",
      "source": [
        "grade('q3_4.ok')"
      ],
      "execution_count": 0,
      "outputs": []
    },
    {
      "metadata": {
        "id": "qTXefGsNYJ5-",
        "colab_type": "text"
      },
      "cell_type": "markdown",
      "source": [
        "**Question 5.** The cell below loads all the *lowest* temperatures from each day (in Fahrenheit).  Compute the size of the daily temperature range for each day.  That is, compute the difference between each daily maximum temperature and the corresponding daily minimum temperature.  **Give your answer in Celsius!**"
      ]
    },
    {
      "metadata": {
        "id": "yA7WEmyQYJ6A",
        "colab_type": "code",
        "colab": {}
      },
      "cell_type": "code",
      "source": [
        "min_temperatures = Table.read_table(\"temperatures.csv\").column(\"Daily Min Temperature\")\n",
        "\n",
        "celsius_temperature_ranges = ...\n",
        "celsius_temperature_ranges"
      ],
      "execution_count": 0,
      "outputs": []
    },
    {
      "metadata": {
        "id": "1_FUXmULYJ6C",
        "colab_type": "code",
        "colab": {}
      },
      "cell_type": "code",
      "source": [
        "grade('q3_5.ok')"
      ],
      "execution_count": 0,
      "outputs": []
    },
    {
      "metadata": {
        "id": "Q9cVbowBYJ6I",
        "colab_type": "text"
      },
      "cell_type": "markdown",
      "source": [
        "## 4. World Population\n"
      ]
    },
    {
      "metadata": {
        "id": "Su6hEPQxYJ6M",
        "colab_type": "text"
      },
      "cell_type": "markdown",
      "source": [
        "The cell below loads a table of estimates of the world population for different years, starting in 1950. The estimates come from the [US Census Bureau website](https://www.census.gov/en.html)."
      ]
    },
    {
      "metadata": {
        "id": "K9Ii2aJgYJ6M",
        "colab_type": "code",
        "colab": {}
      },
      "cell_type": "code",
      "source": [
        "world = Table.read_table(\"world_population.csv\").select('Year', 'Population')\n",
        "world.show(4)"
      ],
      "execution_count": 0,
      "outputs": []
    },
    {
      "metadata": {
        "id": "3-4TeMUoYJ6Q",
        "colab_type": "text"
      },
      "cell_type": "markdown",
      "source": [
        "The name `population` is assigned to an array of population estimates."
      ]
    },
    {
      "metadata": {
        "id": "DEgNiXqWYJ6S",
        "colab_type": "code",
        "colab": {}
      },
      "cell_type": "code",
      "source": [
        "population = world.column(1)\n",
        "population"
      ],
      "execution_count": 0,
      "outputs": []
    },
    {
      "metadata": {
        "id": "-EQuobGYYJ6W",
        "colab_type": "text"
      },
      "cell_type": "markdown",
      "source": [
        "In this question, you will apply some built-in Numpy functions to this array."
      ]
    },
    {
      "metadata": {
        "id": "uEVCWHJsYJ6Y",
        "colab_type": "text"
      },
      "cell_type": "markdown",
      "source": [
        "<img src=\"https://raw.githubusercontent.com/beccaelenzil-teach/materials-su18/master/materials/su18/hw/hw02/array_diff.png\" style=\"width: 600px;\"/>\n",
        "\n",
        "The difference function `np.diff` subtracts each element in an array by the element that preceeds it. As a result, the length of the array `np.diff` returns will always be one less than the length of the input array."
      ]
    },
    {
      "metadata": {
        "id": "CVhamPyJYJ6Y",
        "colab_type": "text"
      },
      "cell_type": "markdown",
      "source": [
        "<img src=\"https://raw.githubusercontent.com/beccaelenzil-teach/materials-su18/master/materials/su18/hw/hw02/array_cumsum.png\" style=\"width: 700px;\"/>\n",
        "\n",
        "The cumulative sum function `np.cumsum` outputs an array of partial sums. For example, the third element in the output array corresponds to the sum of the first, second, and third elements."
      ]
    },
    {
      "metadata": {
        "id": "vjWtATNgYJ6a",
        "colab_type": "text"
      },
      "cell_type": "markdown",
      "source": [
        "**Question 1.** Very often in data science, we are interested understanding how values change with time. Use `np.diff` and `np.max` (or just `max`) to calculate the largest annual change in population between any two consecutive years."
      ]
    },
    {
      "metadata": {
        "id": "5U9UHH-aYJ6a",
        "colab_type": "code",
        "colab": {}
      },
      "cell_type": "code",
      "source": [
        "largest_population_change = ...\n",
        "largest_population_change"
      ],
      "execution_count": 0,
      "outputs": []
    },
    {
      "metadata": {
        "id": "iurv4qKxYJ6e",
        "colab_type": "code",
        "colab": {}
      },
      "cell_type": "code",
      "source": [
        "grade('q4_1.ok')"
      ],
      "execution_count": 0,
      "outputs": []
    },
    {
      "metadata": {
        "id": "vsFhjTawYJ6g",
        "colab_type": "text"
      },
      "cell_type": "markdown",
      "source": [
        "**Question 2.** Describe in words the result of the following expression. What do the values in the resulting array represent (choose one)?"
      ]
    },
    {
      "metadata": {
        "id": "xYou1xnMYJ6i",
        "colab_type": "code",
        "colab": {}
      },
      "cell_type": "code",
      "source": [
        "np.cumsum(np.diff(population))"
      ],
      "execution_count": 0,
      "outputs": []
    },
    {
      "metadata": {
        "id": "A6nDDeSkYJ6m",
        "colab_type": "text"
      },
      "cell_type": "markdown",
      "source": [
        "1) The total population change between consecutive years, starting at 1951.\n",
        "\n",
        "2) The total population change between 1950 and each later year, starting at 1951.\n",
        "\n",
        "3) The total population change between consecutive years and 1950, starting at 1951."
      ]
    },
    {
      "metadata": {
        "id": "GvYd5MKCYJ6m",
        "colab_type": "code",
        "colab": {}
      },
      "cell_type": "code",
      "source": [
        "# Assign cumulative_sum_answer to 1, 2, or 3\n",
        "cumulative_sum_answer = ..."
      ],
      "execution_count": 0,
      "outputs": []
    },
    {
      "metadata": {
        "id": "nU2wfwAlYJ6q",
        "colab_type": "code",
        "colab": {}
      },
      "cell_type": "code",
      "source": [
        "grade('q4_2.ok')"
      ],
      "execution_count": 0,
      "outputs": []
    },
    {
      "metadata": {
        "id": "_-52sTo1YJ6w",
        "colab_type": "text"
      },
      "cell_type": "markdown",
      "source": [
        "## 5. Old Faithful\n"
      ]
    },
    {
      "metadata": {
        "id": "m-Cbod_oYJ6y",
        "colab_type": "text"
      },
      "cell_type": "markdown",
      "source": [
        "**Important**: In this question, the `ok` tests don't tell you whether or not your answer is correct. They only check that your answer is close. However, when the question is graded, we will check for the correct answer. Therefore, you should do your best to submit answers that not only pass the tests, but are also correct.\n",
        "\n",
        "Old Faithful is a geyser in Yellowstone that erupts every 44 to 125 minutes (according to [Wikipedia](https://en.wikipedia.org/wiki/Old_Faithful)). People are [often told that the geyser erupts every hour](http://yellowstone.net/geysers/old-faithful/), but in fact the waiting time between eruptions is more variable. Let's take a look."
      ]
    },
    {
      "metadata": {
        "id": "L95VselaYJ60",
        "colab_type": "text"
      },
      "cell_type": "markdown",
      "source": [
        "**Question 1.** The first line below assigns `waiting_times` to an array of 272 consecutive waiting times between eruptions, taken from a classic 1938 dataset. Assign the names `shortest`, `longest`, and `average` so that the `print` statement is correct."
      ]
    },
    {
      "metadata": {
        "id": "sej-jewpYJ60",
        "colab_type": "code",
        "colab": {}
      },
      "cell_type": "code",
      "source": [
        "waiting_times = Table.read_table('old_faithful.csv').column('waiting')\n",
        "\n",
        "shortest = ...\n",
        "longest = ...\n",
        "average = ...\n",
        "\n",
        "print(\"Old Faithful erupts every\", shortest, \"to\", longest, \"minutes and every\", average, \"minutes on average.\")"
      ],
      "execution_count": 0,
      "outputs": []
    },
    {
      "metadata": {
        "id": "-ft41gOAYJ68",
        "colab_type": "code",
        "colab": {}
      },
      "cell_type": "code",
      "source": [
        "grade('q5_1.ok')"
      ],
      "execution_count": 0,
      "outputs": []
    },
    {
      "metadata": {
        "id": "uLVlV9VoYJ7A",
        "colab_type": "text"
      },
      "cell_type": "markdown",
      "source": [
        "**Question 2.** Assign `biggest_decrease` to the biggest decrease in waiting time between two consecutive eruptions. For example, the third eruption occurred after 74 minutes and the fourth after 62 minutes, so the decrease in waiting time was 74 - 62 = 12 minutes. \n",
        "\n",
        "*Hint*: You'll need an array arithmetic function [mentioned in the textbook](https://www.inferentialthinking.com/chapters/05/1/arrays.html#Functions-on-Arrays).\n",
        "\n",
        "*Hint 2*: The biggest decrease could be negative, but in the end, we want to return the absolute value of the biggest decrease"
      ]
    },
    {
      "metadata": {
        "id": "YdmYGdCSYJ7A",
        "colab_type": "code",
        "colab": {}
      },
      "cell_type": "code",
      "source": [
        "biggest_decrease = ...\n",
        "biggest_decrease"
      ],
      "execution_count": 0,
      "outputs": []
    },
    {
      "metadata": {
        "id": "7rzPEIImYJ7G",
        "colab_type": "code",
        "colab": {}
      },
      "cell_type": "code",
      "source": [
        "grade('q5_2.ok')"
      ],
      "execution_count": 0,
      "outputs": []
    },
    {
      "metadata": {
        "id": "Jss95CoPYJ7I",
        "colab_type": "text"
      },
      "cell_type": "markdown",
      "source": [
        "**Question 3.** If you expected Old Faithful to erupt every hour, you would expect to wait a total of `60 * k` minutes to see `k` eruptions. Set `difference_from_expected` to an array with 272 elements, where the element at index `i` is the absolute difference between the expected and actual total amount of waiting time to see the first `i+1` eruptions.  *Hint*: You'll need to compare a cumulative sum to a range.\n",
        "\n",
        "For example, since the first three waiting times are 79, 54, and 74, the total waiting time for 3 eruptions is 79 + 54 + 74 = 207. The expected waiting time for 3 eruptions is 60 * 3 = 180. Therefore, `difference_from_expected.item(2)` should be $|207 - 180| = 27$."
      ]
    },
    {
      "metadata": {
        "id": "IVkU0YOtYJ7K",
        "colab_type": "code",
        "colab": {}
      },
      "cell_type": "code",
      "source": [
        "difference_from_expected = ...\n",
        "difference_from_expected"
      ],
      "execution_count": 0,
      "outputs": []
    },
    {
      "metadata": {
        "id": "fehY5XwUYJ7O",
        "colab_type": "code",
        "colab": {}
      },
      "cell_type": "code",
      "source": [
        "grade('q5_3.ok')"
      ],
      "execution_count": 0,
      "outputs": []
    },
    {
      "metadata": {
        "id": "ka-vm9sqYJ7S",
        "colab_type": "text"
      },
      "cell_type": "markdown",
      "source": [
        "**Question 4.** If instead you guess that each waiting time will be the same as the previous waiting time, how many minutes would your guess differ from the actual time, averaging over every wait time except the first one.\n",
        "\n",
        "For example, since the first three waiting times are 79, 54, and 74, the average difference between your guess and the actual time for just the second and third eruption would be $\\frac{|79-54|+ |54-74|}{2} = 22.5$."
      ]
    },
    {
      "metadata": {
        "id": "E_jhGpDKYJ7S",
        "colab_type": "code",
        "colab": {}
      },
      "cell_type": "code",
      "source": [
        "average_error = ...\n",
        "average_error"
      ],
      "execution_count": 0,
      "outputs": []
    },
    {
      "metadata": {
        "id": "Z-wnQFHIYJ7W",
        "colab_type": "code",
        "colab": {}
      },
      "cell_type": "code",
      "source": [
        "grade('q5_4.ok')"
      ],
      "execution_count": 0,
      "outputs": []
    },
    {
      "metadata": {
        "id": "4G9csjc3YJ7a",
        "colab_type": "text"
      },
      "cell_type": "markdown",
      "source": [
        "## 6. Tables\n"
      ]
    },
    {
      "metadata": {
        "id": "vH8Vb1aiYJ7c",
        "colab_type": "text"
      },
      "cell_type": "markdown",
      "source": [
        "**Question 1.** Suppose you have 4 apples, 3 oranges, and 3 pineapples.  (Perhaps you're using Python to solve a high school Algebra problem.)  Create a table that contains this information.  It should have two columns: \"fruit name\" and \"count\".  Give it the name `fruits`.\n",
        "\n",
        "**Note:** Use lower-case and singular words for the name of each fruit, like `\"apple\"`."
      ]
    },
    {
      "metadata": {
        "id": "Ab11ifP0YJ7c",
        "colab_type": "code",
        "colab": {}
      },
      "cell_type": "code",
      "source": [
        "# Our solution uses 1 statement split over 3 lines.\n",
        "fruits = ...\n",
        "        ...\n",
        "        ...\n",
        "fruits"
      ],
      "execution_count": 0,
      "outputs": []
    },
    {
      "metadata": {
        "id": "lU_Fq7ZsYJ7e",
        "colab_type": "code",
        "colab": {}
      },
      "cell_type": "code",
      "source": [
        "grade('q6_1.ok')"
      ],
      "execution_count": 0,
      "outputs": []
    },
    {
      "metadata": {
        "id": "Gikn7a1UYJ7i",
        "colab_type": "text"
      },
      "cell_type": "markdown",
      "source": [
        "**Question 2.** The file `inventory.csv` contains information about the inventory at a fruit stand.  Each row represents the contents of one box of fruit.  Load it as a table named `inventory`."
      ]
    },
    {
      "metadata": {
        "id": "qXiaq43ZYJ7k",
        "colab_type": "code",
        "colab": {}
      },
      "cell_type": "code",
      "source": [
        "inventory = ...\n",
        "inventory"
      ],
      "execution_count": 0,
      "outputs": []
    },
    {
      "metadata": {
        "id": "nvBsIikuYJ7o",
        "colab_type": "code",
        "colab": {}
      },
      "cell_type": "code",
      "source": [
        "grade('q6_2.ok')"
      ],
      "execution_count": 0,
      "outputs": []
    },
    {
      "metadata": {
        "id": "EgIQ9Bq4YJ7s",
        "colab_type": "text"
      },
      "cell_type": "markdown",
      "source": [
        "**Question 3.** Does each box at the fruit stand contain a different fruit?"
      ]
    },
    {
      "metadata": {
        "id": "lwylXJ9jYJ7u",
        "colab_type": "code",
        "colab": {}
      },
      "cell_type": "code",
      "source": [
        "# Set all_different to \"Yes\" if each box contains a different fruit or to \"No\" if multiple boxes contain the same fruit\n",
        "all_different = ...\n",
        "all_different"
      ],
      "execution_count": 0,
      "outputs": []
    },
    {
      "metadata": {
        "id": "goePz25XYJ7y",
        "colab_type": "code",
        "colab": {}
      },
      "cell_type": "code",
      "source": [
        "grade('q6_3.ok')"
      ],
      "execution_count": 0,
      "outputs": []
    },
    {
      "metadata": {
        "id": "HMyyKJ39YJ72",
        "colab_type": "text"
      },
      "cell_type": "markdown",
      "source": [
        "**Question 4.** The file `sales.csv` contains the number of fruit sold from each box last Saturday.  It has an extra column called \"price per fruit (\\$)\" that's the price *per item of fruit* for fruit in that box.  The rows are in the same order as the `inventory` table.  Load these data into a table called `sales`."
      ]
    },
    {
      "metadata": {
        "id": "Lv552M91YJ74",
        "colab_type": "code",
        "colab": {}
      },
      "cell_type": "code",
      "source": [
        "sales = ...\n",
        "sales"
      ],
      "execution_count": 0,
      "outputs": []
    },
    {
      "metadata": {
        "id": "k57PUKL5YJ76",
        "colab_type": "code",
        "colab": {}
      },
      "cell_type": "code",
      "source": [
        "grade('q6_4.ok')"
      ],
      "execution_count": 0,
      "outputs": []
    },
    {
      "metadata": {
        "id": "msOFq9MaYJ7-",
        "colab_type": "text"
      },
      "cell_type": "markdown",
      "source": [
        "**Question 5.** How many fruits did the store sell in total on that day?"
      ]
    },
    {
      "metadata": {
        "id": "ovlCs8suYJ7-",
        "colab_type": "code",
        "colab": {}
      },
      "cell_type": "code",
      "source": [
        "total_fruits_sold = ...\n",
        "total_fruits_sold"
      ],
      "execution_count": 0,
      "outputs": []
    },
    {
      "metadata": {
        "id": "sqWV5uS5YJ8C",
        "colab_type": "code",
        "colab": {}
      },
      "cell_type": "code",
      "source": [
        "grade('q6_5.ok')"
      ],
      "execution_count": 0,
      "outputs": []
    },
    {
      "metadata": {
        "id": "zwy-_uptYJ8M",
        "colab_type": "text"
      },
      "cell_type": "markdown",
      "source": [
        "**Question 6.** What was the store's total revenue (the total price of all fruits sold) on that day?\n",
        "\n",
        "*Hint:* If you're stuck, think first about how you would compute the total revenue from just the grape sales."
      ]
    },
    {
      "metadata": {
        "id": "ZWtNTH5tYJ8O",
        "colab_type": "code",
        "colab": {}
      },
      "cell_type": "code",
      "source": [
        "total_revenue = ...\n",
        "total_revenue"
      ],
      "execution_count": 0,
      "outputs": []
    },
    {
      "metadata": {
        "id": "5xyat8rgYJ8U",
        "colab_type": "code",
        "colab": {}
      },
      "cell_type": "code",
      "source": [
        "grade('q6_6.ok')"
      ],
      "execution_count": 0,
      "outputs": []
    },
    {
      "metadata": {
        "id": "GCBf5NZsYJ8Y",
        "colab_type": "text"
      },
      "cell_type": "markdown",
      "source": [
        "**Question 7.** Make a new table called `remaining_inventory`.  It should have the same rows and columns as `inventory`, except that the amount of fruit sold from each box should be subtracted from that box's count, so that the \"count\" is the amount of fruit remaining after Saturday."
      ]
    },
    {
      "metadata": {
        "id": "wbtfcn8lYJ8c",
        "colab_type": "code",
        "colab": {}
      },
      "cell_type": "code",
      "source": [
        "remaining_inventory = ...\n",
        "    ...\n",
        "    ...\n",
        "    ...\n",
        "remaining_inventory"
      ],
      "execution_count": 0,
      "outputs": []
    },
    {
      "metadata": {
        "id": "ZDDxzLjwYJ8i",
        "colab_type": "code",
        "colab": {}
      },
      "cell_type": "code",
      "source": [
        "grade('q6_7.ok')"
      ],
      "execution_count": 0,
      "outputs": []
    }
  ]
}