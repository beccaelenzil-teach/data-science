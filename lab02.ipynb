{
  "nbformat": 4,
  "nbformat_minor": 0,
  "metadata": {
    "colab": {
      "name": "lab02.ipynb",
      "version": "0.3.2",
      "provenance": [],
      "collapsed_sections": [],
      "toc_visible": true,
      "include_colab_link": true
    },
    "kernelspec": {
      "display_name": "Python 3",
      "language": "python",
      "name": "python3"
    }
  },
  "cells": [
    {
      "cell_type": "markdown",
      "metadata": {
        "id": "view-in-github",
        "colab_type": "text"
      },
      "source": [
        "[View in Colaboratory](https://colab.research.google.com/github/bushschool/data-science/blob/master/lab02.ipynb)"
      ]
    },
    {
      "metadata": {
        "id": "NJP3CeZEem9m",
        "colab_type": "text"
      },
      "cell_type": "markdown",
      "source": [
        "# Lab 2: Data Types\n",
        "Welcome to Lab 2!\n",
        "\n",
        "Last time, we had our first look at Python and Jupyter notebooks.  So far, we've only used Python to manipulate numbers.  There's a lot more to life than numbers, so Python lets us represent many other types of data in programs.\n",
        "\n",
        "In this lab, you'll first see how to represent and manipulate another fundamental type of data: text.  A piece of text is called a *string* in Python.\n",
        "\n",
        "You'll also see how to invoke *methods*.  A method is very similar to a function.  It just looks a little different because it's tied to a particular piece of data (like a piece of text or a number).\n",
        "\n",
        "Last, you'll see how to work with datasets in Python -- *collections* of data, like the numbers 2 through 5 or the words \"welcome\", \"to\", and \"lab\"."
      ]
    },
    {
      "metadata": {
        "id": "TkG7KRVWem9n",
        "colab_type": "text"
      },
      "cell_type": "markdown",
      "source": [
        "### Run this cell everytime you open this notebook.\n",
        "\n",
        "Load the packages and initialize the OK tests to get started."
      ]
    },
    {
      "metadata": {
        "id": "CYsavPFKem9o",
        "colab_type": "code",
        "colab": {}
      },
      "cell_type": "code",
      "source": [
        "!pip install okgrade\n",
        "!pip install datascience\n",
        "\n",
        "!find . -type f -name '*.ok' -delete\n",
        "!find . -type f -name '*.csv' -delete\n",
        "\n",
        "!wget https://raw.githubusercontent.com/beccaelenzil-teach/materials-su18/master/materials/su18/lab/lab02/tests/q11.ok\n",
        "!wget https://raw.githubusercontent.com/beccaelenzil-teach/materials-su18/master/materials/su18/lab/lab02/tests/q21.ok\n",
        "!wget https://raw.githubusercontent.com/beccaelenzil-teach/materials-su18/master/materials/su18/lab/lab02/tests/q31.ok\n",
        "!wget https://raw.githubusercontent.com/beccaelenzil-teach/materials-su18/master/materials/su18/lab/lab02/tests/q211.ok\n",
        "!wget https://raw.githubusercontent.com/beccaelenzil-teach/materials-su18/master/materials/su18/lab/lab02/tests/q221.ok\n",
        "!wget https://raw.githubusercontent.com/beccaelenzil-teach/materials-su18/master/materials/su18/lab/lab02/tests/q231.ok\n",
        "!wget https://raw.githubusercontent.com/beccaelenzil-teach/materials-su18/master/materials/su18/lab/lab02/tests/q311.ok\n",
        "!wget https://raw.githubusercontent.com/beccaelenzil-teach/materials-su18/master/materials/su18/lab/lab02/tests/q312.ok    \n",
        "!wget https://raw.githubusercontent.com/beccaelenzil-teach/materials-su18/master/materials/su18/lab/lab02/tests/q411.ok\n",
        "!wget https://raw.githubusercontent.com/beccaelenzil-teach/materials-su18/master/materials/su18/lab/lab02/tests/q412.ok\n",
        "!wget https://raw.githubusercontent.com/beccaelenzil-teach/materials-su18/master/materials/su18/lab/lab02/tests/q413.ok\n",
        "!wget https://raw.githubusercontent.com/beccaelenzil-teach/materials-su18/master/materials/su18/lab/lab02/tests/q414.ok\n",
        "!wget https://raw.githubusercontent.com/beccaelenzil-teach/materials-su18/master/materials/su18/lab/lab02/tests/q421.ok\n",
        "!wget https://raw.githubusercontent.com/beccaelenzil-teach/materials-su18/master/materials/su18/lab/lab02/tests/q431.ok\n",
        "!wget https://raw.githubusercontent.com/beccaelenzil-teach/materials-su18/master/materials/su18/lab/lab02/tests/q432.ok\n",
        "!wget https://raw.githubusercontent.com/beccaelenzil-teach/materials-su18/master/materials/su18/lab/lab02/tests/q433.ok\n",
        "!wget https://raw.githubusercontent.com/beccaelenzil-teach/materials-su18/master/materials/su18/lab/lab02/tests/q434.ok\n",
        "!wget https://raw.githubusercontent.com/beccaelenzil-teach/materials-su18/master/materials/su18/lab/lab02/tests/q435.ok\n",
        "!wget https://raw.githubusercontent.com/beccaelenzil-teach/materials-su18/master/materials/su18/lab/lab02/tests/q4111.ok\n",
        "!wget https://raw.githubusercontent.com/beccaelenzil-teach/materials-su18/master/materials/su18/lab/lab02/tests/q4112.ok \n",
        "  \n",
        "!wget https://raw.githubusercontent.com/beccaelenzil-teach/materials-su18/master/materials/su18/lab/lab02/world_population.csv\n",
        "!wget https://raw.githubusercontent.com/beccaelenzil-teach/materials-su18/master/materials/su18/lab/lab02/more_restaurant_bills.csv\n",
        " \n",
        "from okgrade import *\n",
        "from datascience import *"
      ],
      "execution_count": 0,
      "outputs": []
    },
    {
      "metadata": {
        "id": "lbJ1jgeRem9w",
        "colab_type": "text"
      },
      "cell_type": "markdown",
      "source": [
        "# 1. Review: The building blocks of Python code\n",
        "\n",
        "The two building blocks of Python code are *expressions* and *statements*.  An **expression** is a piece of code that\n",
        "\n",
        "* is self-contained, meaning it would make sense to write it on a line by itself, and\n",
        "* usually has a value.\n",
        "\n",
        "\n",
        "Here are two expressions that both evaluate to 3\n",
        "\n",
        "    3\n",
        "    5 - 2\n",
        "    \n",
        "One important form of an expression is the **call expression**, which first names a function and then describes its arguments. The function returns some value, based on its arguments. Some important mathematical functions are\n",
        "\n",
        "| Function | Description                                                   |\n",
        "|----------|---------------------------------------------------------------|\n",
        "| `abs`      | Returns the absolute value of its argument                    |\n",
        "| `max`      | Returns the maximum of all its arguments                      |\n",
        "| `min`      | Returns the minimum of all its arguments                      |\n",
        "| `pow`      | Raises its first argument to the power of its second argument |\n",
        "| `round`    | Round its argument to the nearest integer                     |\n",
        "\n",
        "Here are two call expressions that both evaluate to 3\n",
        "\n",
        "    abs(2 - 5)\n",
        "    max(round(2.8), min(pow(2, 10), -1 * pow(2, 10)))\n",
        "\n",
        "All these expressions but the first are **compound expressions**, meaning that they are actually combinations of several smaller expressions.  `2 + 3` combines the expressions `2` and `3` by addition.  In this case, `2` and `3` are called **subexpressions** because they're expressions that are part of a larger expression.\n",
        "\n",
        "A **statement** is a whole line of code.  Some statements are just expressions.  The expressions listed above are examples.\n",
        "\n",
        "Other statements *make something happen* rather than *having a value*.  After they are run, something in the world has changed.  For example, an **assignment statement** assigns a value to a name. \n",
        "\n",
        "A good way to think about this is that we're **evaluating the right-hand side** of the equals sign and **assigning it to the left-hand side**. Here are some assignment statements:\n",
        "    \n",
        "    height = 1.3\n",
        "    the_number_five = abs(-5)\n",
        "    absolute_height_difference = abs(height - 1.688)\n",
        "\n",
        "A key idea in programming is that large, interesting things can be built by combining many simple, uninteresting things.  The key to understanding a complicated piece of code is breaking it down into its simple components.\n",
        "\n",
        "For example, a lot is going on in the last statement above, but it's really just a combination of a few things.  This picture describes what's going on.\n",
        "\n",
        "<img src=\"https://raw.githubusercontent.com/beccaelenzil-teach/materials-su18/master/materials/su18/lab/lab02/statement.jpg\">"
      ]
    },
    {
      "metadata": {
        "id": "3_5FC4c_em9x",
        "colab_type": "text"
      },
      "cell_type": "markdown",
      "source": [
        "**Question 1.1.** In the next cell, assign the name `new_year` to the larger number among the following two numbers:\n",
        "\n",
        "1.   the absolute value of $2^{5}-2^{11}-2^1$, and \n",
        "2.   $5 \\times 13 \\times 31 + 3$.\n",
        "\n",
        "Try to use just one statement (one line of code)."
      ]
    },
    {
      "metadata": {
        "id": "yvgV3y00em9y",
        "colab_type": "code",
        "colab": {}
      },
      "cell_type": "code",
      "source": [
        "new_year = ...\n",
        "new_year"
      ],
      "execution_count": 0,
      "outputs": []
    },
    {
      "metadata": {
        "id": "bWRdhPAFem91",
        "colab_type": "text"
      },
      "cell_type": "markdown",
      "source": [
        "Check your work by executing the next cell."
      ]
    },
    {
      "metadata": {
        "id": "GzgNSOvSem92",
        "colab_type": "code",
        "colab": {}
      },
      "cell_type": "code",
      "source": [
        "grade('q11.ok')"
      ],
      "execution_count": 0,
      "outputs": []
    },
    {
      "metadata": {
        "id": "nOa7D23Jem94",
        "colab_type": "text"
      },
      "cell_type": "markdown",
      "source": [
        "# 2. Text\n",
        "Programming doesn't just concern numbers. Text is one of the most common types of values used in programs. \n",
        "\n",
        "A snippet of text is represented by a **string value** in Python. The word \"*string*\" is a programming term for a sequence of characters. A string might contain a single character, a word, a sentence, or a whole book.\n",
        "\n",
        "To distinguish text data from actual code, we demarcate strings by putting quotation marks around them. Single quotes (`'`) and double quotes (`\"`) are both valid, but the types of opening and closing quotation marks must match. The contents can be any sequence of characters, including numbers and symbols. \n",
        "\n",
        "We've seen strings before in `print` statements.  Below, two different strings are passed as arguments to the `print` function."
      ]
    },
    {
      "metadata": {
        "id": "zTH-FK1qem95",
        "colab_type": "code",
        "colab": {}
      },
      "cell_type": "code",
      "source": [
        "print(\"I <3\", 'Data Science')"
      ],
      "execution_count": 0,
      "outputs": []
    },
    {
      "metadata": {
        "id": "jxirs7bJem97",
        "colab_type": "text"
      },
      "cell_type": "markdown",
      "source": [
        "Just like names can be given to numbers, names can be given to string values.  The names and strings aren't required to be similar in any way. Any name can be assigned to any string."
      ]
    },
    {
      "metadata": {
        "id": "2Pu0QnUcem99",
        "colab_type": "code",
        "colab": {}
      },
      "cell_type": "code",
      "source": [
        "one = 'two'\n",
        "plus = '*'\n",
        "print(one, plus, one)"
      ],
      "execution_count": 0,
      "outputs": []
    },
    {
      "metadata": {
        "id": "_cMv0IIjem-A",
        "colab_type": "text"
      },
      "cell_type": "markdown",
      "source": [
        "**Question 2.1.** Yuri Gagarin was the first person to travel through outer space.  When he emerged from his capsule upon landing on Earth, he [reportedly](https://en.wikiquote.org/wiki/Yuri_Gagarin) had the following conversation with a woman and girl who saw the landing:\n",
        "\n",
        "    The woman asked: \"Can it be that you have come from outer space?\"\n",
        "    Gagarin replied: \"As a matter of fact, I have!\"\n",
        "\n",
        "The cell below contains unfinished code.  Fill in the `...`s so that it prints out this conversation *exactly* as it appears above."
      ]
    },
    {
      "metadata": {
        "id": "ffM0jiSPem-C",
        "colab_type": "code",
        "colab": {}
      },
      "cell_type": "code",
      "source": [
        "woman_asking = ...\n",
        "woman_quote = '\"Can it be that you have come from outer space?\"'\n",
        "gagarin_reply = 'Gagarin replied:'\n",
        "gagarin_quote = ...\n",
        "\n",
        "print(woman_asking, woman_quote)\n",
        "print(gagarin_reply, gagarin_quote)"
      ],
      "execution_count": 0,
      "outputs": []
    },
    {
      "metadata": {
        "id": "3uMtBKVhem-G",
        "colab_type": "code",
        "colab": {}
      },
      "cell_type": "code",
      "source": [
        "grade('q21.ok')"
      ],
      "execution_count": 0,
      "outputs": []
    },
    {
      "metadata": {
        "id": "CMzkGVqiem-J",
        "colab_type": "text"
      },
      "cell_type": "markdown",
      "source": [
        "## 2.1. String Methods"
      ]
    },
    {
      "metadata": {
        "id": "JE78KlHCem-K",
        "colab_type": "text"
      },
      "cell_type": "markdown",
      "source": [
        "Strings can be transformed using **methods**, which are functions that involve an existing string and some other arguments. One example is the `replace` method, which replaces all instances of some part of a string with some alternative. \n",
        "\n",
        "A method is invoked on a string by placing a `.` after the string value, then the name of the method, and finally parentheses containing the arguments. Here's a sketch, where the `<` and `>` symbols aren't part of the syntax; they just mark the boundaries of sub-expressions.\n",
        "\n",
        "    <expression that evaluates to a string>.<method name>(<argument>, <argument>, ...)\n",
        "\n",
        "Try to predict the output of these examples, then execute them."
      ]
    },
    {
      "metadata": {
        "id": "lyTNhfb8em-K",
        "colab_type": "code",
        "colab": {}
      },
      "cell_type": "code",
      "source": [
        "# Replace one letter\n",
        "'Hello'.replace('o', 'a')"
      ],
      "execution_count": 0,
      "outputs": []
    },
    {
      "metadata": {
        "id": "05ujDiDUem-O",
        "colab_type": "code",
        "colab": {}
      },
      "cell_type": "code",
      "source": [
        "# Replace a sequence of letters, which appears twice\n",
        "'hitchhiker'.replace('hi', 'ma')"
      ],
      "execution_count": 0,
      "outputs": []
    },
    {
      "metadata": {
        "id": "04znzXUTem-R",
        "colab_type": "text"
      },
      "cell_type": "markdown",
      "source": [
        "Once a name is bound to a string value, methods can be invoked on that name as well. The name is still bound to the original string, so a new name is needed to capture the result. "
      ]
    },
    {
      "metadata": {
        "id": "eT-n6cP6em-R",
        "colab_type": "code",
        "colab": {}
      },
      "cell_type": "code",
      "source": [
        "sharp = 'edged'\n",
        "hot = sharp.replace('ed', 'ma')\n",
        "print('sharp:', sharp)\n",
        "print('hot:', hot)"
      ],
      "execution_count": 0,
      "outputs": []
    },
    {
      "metadata": {
        "id": "UepjwwPaem-X",
        "colab_type": "text"
      },
      "cell_type": "markdown",
      "source": [
        "You can call functions on the results of other functions.  For example,\n",
        "\n",
        "    max(abs(-5), abs(3))\n",
        "\n",
        "has value 5.  Similarly, you can invoke methods on the results of other method (or function) calls."
      ]
    },
    {
      "metadata": {
        "id": "m2hKhKTTem-Y",
        "colab_type": "code",
        "colab": {}
      },
      "cell_type": "code",
      "source": [
        "# Calling replace on the output of another call to\n",
        "# replace\n",
        "'train'.replace('t', 'ing').replace('in', 'de')"
      ],
      "execution_count": 0,
      "outputs": []
    },
    {
      "metadata": {
        "id": "52IlJHgcem-b",
        "colab_type": "text"
      },
      "cell_type": "markdown",
      "source": [
        "Here's a picture of how Python evaluates a \"chained\" method call like that:\n",
        "\n",
        "<img src=\"https://raw.githubusercontent.com/beccaelenzil-teach/materials-su18/master/materials/su18/lab/lab02/chaining_method_calls.jpg\"/>"
      ]
    },
    {
      "metadata": {
        "id": "hN3kKBHmem-c",
        "colab_type": "text"
      },
      "cell_type": "markdown",
      "source": [
        "**Question 2.1.1.** Assign strings to the names `you` and `this` so that the final expression evaluates to a 10-letter English word with three double letters in a row.\n",
        "\n",
        "*Hint:* After you guess at some values for `you` and `this`, it's helpful to see the value of the variable `the`.  Try printing the value of `the` by adding a line like this:\n",
        "    \n",
        "    print(the)\n",
        "\n",
        "*Hint 2:* Run the tests if you're stuck.  They'll often give you help."
      ]
    },
    {
      "metadata": {
        "id": "IqNAbeaVem-d",
        "colab_type": "code",
        "colab": {}
      },
      "cell_type": "code",
      "source": [
        "you = ...\n",
        "this = ...\n",
        "a = 'beeper'\n",
        "the = a.replace('p', you) \n",
        "the.replace('bee', this)"
      ],
      "execution_count": 0,
      "outputs": []
    },
    {
      "metadata": {
        "id": "n7sUss86em-g",
        "colab_type": "code",
        "colab": {}
      },
      "cell_type": "code",
      "source": [
        "grade('q211.ok')"
      ],
      "execution_count": 0,
      "outputs": []
    },
    {
      "metadata": {
        "id": "OOXwoLpFem-j",
        "colab_type": "text"
      },
      "cell_type": "markdown",
      "source": [
        "Other string methods do not take any arguments at all, because the original string is all that's needed to compute the result. In this case, parentheses are still needed, but there's nothing in between the parentheses. Here are some methods that work that way:\n",
        "\n",
        "|Method name|Value|\n",
        "|-|-|\n",
        "|`lower`|a lowercased version of the string|\n",
        "|`upper`|an uppercased version of the string|\n",
        "|`capitalize`|a version with the first letter capitalized|\n",
        "|`title`|a version with the first letter of every word capitalized||\n"
      ]
    },
    {
      "metadata": {
        "id": "FNiWWvLzem-j",
        "colab_type": "code",
        "colab": {}
      },
      "cell_type": "code",
      "source": [
        "'unIverSITy of caliFORnia'.title()"
      ],
      "execution_count": 0,
      "outputs": []
    },
    {
      "metadata": {
        "id": "gxwKO5xHem-m",
        "colab_type": "text"
      },
      "cell_type": "markdown",
      "source": [
        "All these string methods are useful, but most programmers don't memorize their names or how to use them.  In the \"real world,\" people usually just search the internet for documentation and examples. A complete [list of string methods](https://docs.python.org/3/library/stdtypes.html#string-methods) appears in the Python language documentation. [Stack Overflow](http://stackoverflow.com) has a huge database of answered questions that often demonstrate how to use these methods to achieve various ends."
      ]
    },
    {
      "metadata": {
        "id": "P3nAH9w8em-n",
        "colab_type": "text"
      },
      "cell_type": "markdown",
      "source": [
        "## 2.2. Converting to and from Strings"
      ]
    },
    {
      "metadata": {
        "id": "EtXRcH_-em-n",
        "colab_type": "text"
      },
      "cell_type": "markdown",
      "source": [
        "Strings and numbers are different *types* of values, even when a string contains the digits of a number. For example, evaluating the following cell causes an error because an integer cannot be added to a string."
      ]
    },
    {
      "metadata": {
        "id": "Awppe4zQem-o",
        "colab_type": "code",
        "colab": {}
      },
      "cell_type": "code",
      "source": [
        "8 + \"8\""
      ],
      "execution_count": 0,
      "outputs": []
    },
    {
      "metadata": {
        "id": "JE-grWyhem-s",
        "colab_type": "text"
      },
      "cell_type": "markdown",
      "source": [
        "However, there are built-in functions to convert numbers to strings and strings to numbers. \n",
        "\n",
        "    int:   Converts a string of digits to an integer (\"int\") value\n",
        "    float: Converts a string of digits, perhaps with a decimal point, to a decimal (\"float\") value\n",
        "    str:   Converts any value to a string"
      ]
    },
    {
      "metadata": {
        "id": "0Q-JAJU3em-s",
        "colab_type": "text"
      },
      "cell_type": "markdown",
      "source": [
        "Try to predict what the following cell will evaluate to, then evaluate it."
      ]
    },
    {
      "metadata": {
        "id": "Pl7h4kzOem-t",
        "colab_type": "code",
        "colab": {}
      },
      "cell_type": "code",
      "source": [
        "8 + int(\"8\")"
      ],
      "execution_count": 0,
      "outputs": []
    },
    {
      "metadata": {
        "id": "xz2JWftaem-w",
        "colab_type": "text"
      },
      "cell_type": "markdown",
      "source": [
        "Suppose you're writing a program that looks for dates in a text, and you want your program to find the amount of time that elapsed between two years it has identified.  It doesn't make sense to subtract two texts, but you can first convert the text containing the years into numbers.\n",
        "\n",
        "**Question 2.2.1.** Finish the code below to compute the number of years that elapsed between `one_year` and `another_year`.  Don't just write the numbers `1618` and `1648` (or `30`); use a conversion function to turn the given text data into numbers."
      ]
    },
    {
      "metadata": {
        "id": "LFU33Rarem-x",
        "colab_type": "code",
        "colab": {}
      },
      "cell_type": "code",
      "source": [
        "# Some text data:\n",
        "one_year = \"1618\"\n",
        "another_year = \"1648\"\n",
        "\n",
        "# Complete the next line.  Note that we can't just write:\n",
        "#   another_year - one_year\n",
        "# If you don't see why, try seeing what happens when you\n",
        "# write that here.\n",
        "difference = ...\n",
        "difference"
      ],
      "execution_count": 0,
      "outputs": []
    },
    {
      "metadata": {
        "id": "A7TsNDfgem-z",
        "colab_type": "code",
        "colab": {}
      },
      "cell_type": "code",
      "source": [
        "grade('q221.ok')"
      ],
      "execution_count": 0,
      "outputs": []
    },
    {
      "metadata": {
        "id": "1V3Udqd8em-2",
        "colab_type": "text"
      },
      "cell_type": "markdown",
      "source": [
        "## 2.3. Strings as function arguments\n",
        "\n",
        "String values, like numbers, can be arguments to functions and can be returned by functions.  The function `len` takes a single string as its argument and returns the number of characters in the string: its **len**-gth.  \n",
        "\n",
        "Note that it doesn't count *words*. `len(\"one small step for man\")` is 22, not 5.\n",
        "\n",
        "**Question 2.3.1.**  Use `len` to find out the number of characters in the very long string in the next cell.  (It's the first sentence of the English translation of the French [Declaration of the Rights of Man](http://avalon.law.yale.edu/18th_century/rightsof.asp).)  The length of a string is the total number of characters in it, including things like spaces and punctuation.  Assign `sentence_length` to that number."
      ]
    },
    {
      "metadata": {
        "id": "XsSJmrLUem-3",
        "colab_type": "code",
        "colab": {}
      },
      "cell_type": "code",
      "source": [
        "a_very_long_sentence = \"The representatives of the French people, organized as a National Assembly, believing that the ignorance, neglect, or contempt of the rights of man are the sole cause of public calamities and of the corruption of governments, have determined to set forth in a solemn declaration the natural, unalienable, and sacred rights of man, in order that this declaration, being constantly before all the members of the Social body, shall remind them continually of their rights and duties; in order that the acts of the legislative power, as well as those of the executive power, may be compared at any moment with the objects and purposes of all political institutions and may thus be more respected, and, lastly, in order that the grievances of the citizens, based hereafter upon simple and incontestable principles, shall tend to the maintenance of the constitution and redound to the happiness of all.\"\n",
        "sentence_length = ...\n",
        "sentence_length"
      ],
      "execution_count": 0,
      "outputs": []
    },
    {
      "metadata": {
        "id": "FEmCQA3xem-5",
        "colab_type": "code",
        "colab": {}
      },
      "cell_type": "code",
      "source": [
        "grade('q231.ok')"
      ],
      "execution_count": 0,
      "outputs": []
    },
    {
      "metadata": {
        "id": "payiWK1rem-9",
        "colab_type": "text"
      },
      "cell_type": "markdown",
      "source": [
        "# 3. Importing code\n",
        "\n",
        "> What has been will be again,  \n",
        "> what has been done will be done again;  \n",
        "> there is nothing new under the sun.\n",
        "\n",
        "Most programming involves work that is very similar to work that has been done before.  Since writing code is time-consuming, it's good to rely on others' published code when you can.  Rather than copy-pasting, Python allows us to **import** other code, creating a **module** that contains all of the names created by that code.\n",
        "\n",
        "Python includes many useful modules that are just an `import` away.  We'll look at the `math` module as a first example. The `math` module is extremely useful in computing mathematical expressions in Python. \n",
        "\n",
        "Suppose we want to very accurately compute the area of a circle with radius 5 meters.  For that, we need the constant $\\pi$, which is roughly 3.14.  Conveniently, the `math` module has `pi` defined for us:"
      ]
    },
    {
      "metadata": {
        "id": "mPNzTQhmem-_",
        "colab_type": "code",
        "colab": {}
      },
      "cell_type": "code",
      "source": [
        "import math\n",
        "radius = 5\n",
        "area_of_circle = radius**2 * math.pi\n",
        "area_of_circle"
      ],
      "execution_count": 0,
      "outputs": []
    },
    {
      "metadata": {
        "id": "o1IYYe52em_B",
        "colab_type": "text"
      },
      "cell_type": "markdown",
      "source": [
        "`pi` is defined inside `math`, and the way that we access names that are inside modules is by writing the module's name, then a dot, then the name of the thing we want:\n",
        "\n",
        "    <module name>.<name>\n",
        "    \n",
        "In order to use a module at all, we must first write the statement `import <module name>`.  That statement creates a module object with things like `pi` in it and then assigns the name `math` to that module.  Above we have done that for `math`."
      ]
    },
    {
      "metadata": {
        "id": "PQl2g90Lem_D",
        "colab_type": "text"
      },
      "cell_type": "markdown",
      "source": [
        "**Question 3.1.** The module `math` also provides the name `e` for the base of the natural logarithm, which is roughly 2.71.  Compute $e^{\\pi}-\\pi$,  giving it the name `near_twenty`."
      ]
    },
    {
      "metadata": {
        "id": "Ad8ztMktem_E",
        "colab_type": "code",
        "colab": {}
      },
      "cell_type": "code",
      "source": [
        "near_twenty = ...\n",
        "near_twenty"
      ],
      "execution_count": 0,
      "outputs": []
    },
    {
      "metadata": {
        "id": "RbPVshaaem_I",
        "colab_type": "code",
        "colab": {}
      },
      "cell_type": "code",
      "source": [
        "grade('q31.ok')"
      ],
      "execution_count": 0,
      "outputs": []
    },
    {
      "metadata": {
        "id": "lSFXyq38em_L",
        "colab_type": "text"
      },
      "cell_type": "markdown",
      "source": [
        "![XKCD](http://imgs.xkcd.com/comics/e_to_the_pi_minus_pi.png)"
      ]
    },
    {
      "metadata": {
        "id": "zOS4IqxBem_O",
        "colab_type": "text"
      },
      "cell_type": "markdown",
      "source": [
        "## 3.1. Importing functions\n",
        "\n",
        "**Modules** can provide other named things, including **functions**.  For example, `math` provides the name `sin` for the sine function.  Having imported `math` already, we can write `math.sin(3)` to compute the sine of 3.  (Note that this sine function considers its argument to be in [radians](https://en.wikipedia.org/wiki/Radian), not degrees.  180 degrees are equivalent to $\\pi$ radians.)\n",
        "\n",
        "**Question 3.1.1.** A $\\frac{\\pi}{4}$-radian (45-degree) angle forms a right triangle with equal base and height, pictured below.  If the hypotenuse (the radius of the circle in the picture) is 1, then the height is $\\sin(\\frac{\\pi}{4})$.  Compute that using `sin` and `pi` from the `math` module.  Give the result the name `sine_of_pi_over_four`.\n",
        "\n",
        "<img src=\"http://mathworld.wolfram.com/images/eps-gif/TrigonometryAnglesPi4_1000.gif\">\n",
        "(Source: [Wolfram MathWorld](http://mathworld.wolfram.com/images/eps-gif/TrigonometryAnglesPi4_1000.gif))"
      ]
    },
    {
      "metadata": {
        "id": "-5DY0OtOem_Q",
        "colab_type": "code",
        "colab": {}
      },
      "cell_type": "code",
      "source": [
        "import math\n",
        "\n",
        "sine_of_pi_over_four = ...\n",
        "sine_of_pi_over_four"
      ],
      "execution_count": 0,
      "outputs": []
    },
    {
      "metadata": {
        "id": "fIWs5Qtbem_S",
        "colab_type": "code",
        "colab": {}
      },
      "cell_type": "code",
      "source": [
        "grade('q311.ok')"
      ],
      "execution_count": 0,
      "outputs": []
    },
    {
      "metadata": {
        "id": "8Eu3zaZzem_U",
        "colab_type": "text"
      },
      "cell_type": "markdown",
      "source": [
        "For your reference, here are some more examples of functions from the `math` module.\n",
        "\n",
        "Note how different methods take in different number of arguments. Often, the documentation of the module will provide information on how many arguments is required for each method."
      ]
    },
    {
      "metadata": {
        "id": "Qs7YhGtSem_V",
        "colab_type": "code",
        "colab": {}
      },
      "cell_type": "code",
      "source": [
        "# Calculating factorials.\n",
        "math.factorial(5)"
      ],
      "execution_count": 0,
      "outputs": []
    },
    {
      "metadata": {
        "id": "VMtEm6Baem_X",
        "colab_type": "code",
        "colab": {}
      },
      "cell_type": "code",
      "source": [
        "# Calculating logarithms (the logarithm of 8 in base 2).\n",
        "# The result is 3 because 2 to the power of 3 is 8.\n",
        "math.log(8, 2)"
      ],
      "execution_count": 0,
      "outputs": []
    },
    {
      "metadata": {
        "id": "fmIyNcu3em_Z",
        "colab_type": "code",
        "colab": {}
      },
      "cell_type": "code",
      "source": [
        "# Calculating square roots.\n",
        "math.sqrt(5)"
      ],
      "execution_count": 0,
      "outputs": []
    },
    {
      "metadata": {
        "id": "aufsttfaem_d",
        "colab_type": "code",
        "colab": {}
      },
      "cell_type": "code",
      "source": [
        "# Calculating cosines.\n",
        "math.cos(math.pi)"
      ],
      "execution_count": 0,
      "outputs": []
    },
    {
      "metadata": {
        "id": "giy7R1fOem_g",
        "colab_type": "text"
      },
      "cell_type": "markdown",
      "source": [
        "There's many variations of how we can import methods from outside sources. For example, we can import just a specific method from an outside source, we can rename a library we import, and we can import every single method from a whole library. "
      ]
    },
    {
      "metadata": {
        "id": "sEqQA5igem_h",
        "colab_type": "code",
        "colab": {}
      },
      "cell_type": "code",
      "source": [
        "#Importing just cos and pi from math.\n",
        "#Notice that we don't have to use math. before hand for cos and pi\n",
        "from math import cos, pi\n",
        "print(cos(pi))\n",
        "#We do have to use it infront of other methods from math, though\n",
        "math.log(pi)"
      ],
      "execution_count": 0,
      "outputs": []
    },
    {
      "metadata": {
        "id": "x-4feYmQem_m",
        "colab_type": "code",
        "colab": {}
      },
      "cell_type": "code",
      "source": [
        "#We can nickname math as something else, if we don't want to type math\n",
        "import math as m\n",
        "m.log(m.pi)"
      ],
      "execution_count": 0,
      "outputs": []
    },
    {
      "metadata": {
        "id": "OumbyoCYem_r",
        "colab_type": "code",
        "colab": {}
      },
      "cell_type": "code",
      "source": [
        "#Lastly, we can import ever thing from math\n",
        "from math import *\n",
        "log(pi)"
      ],
      "execution_count": 0,
      "outputs": []
    },
    {
      "metadata": {
        "id": "qZs96I0fem_u",
        "colab_type": "text"
      },
      "cell_type": "markdown",
      "source": [
        "##### A function that displays a picture\n",
        "People have written Python functions that do very cool and complicated things, like crawling web pages for data, transforming videos, or doing machine learning with lots of data.  Now that you can import things, when you want to do something with code, first check to see if someone else has done it for you.\n",
        "\n",
        "Let's see an example of a function that's used for downloading and displaying pictures.\n",
        "\n",
        "The module `IPython.display` provides a function called `Image`.  The `Image` function takes a single argument, a string that is the URL of the image on the web.  It returns an *image* value that this Jupyter notebook understands how to display.  To display an image, make it the value of the last expression in a cell, just like you'd display a number or a string.\n",
        "\n",
        "**Question 3.1.2.** In the next cell, import the module `IPython.display` and use its `Image` function to display the image at this URL. Remember the URL must be placed in quotes.\n",
        "\n",
        "    https://upload.wikimedia.org/wikipedia/commons/thumb/8/8c/David_-_The_Death_of_Socrates.jpg/1024px-David_-_The_Death_of_Socrates.jpg\n",
        "\n",
        "Give the name `art` to the output of the call to `Image`.  (It might take a few seconds to load the image.  It's a painting called *The Death of Socrates* by Jacques-Louis David, depicting events from a philosophical text by Plato.)\n",
        "\n",
        "*Hint*: A link isn't any special type of data type in Python. You can't just write a link into Python and expect it to work; you need to type the link in as a specific data type. Which one makes the most sense?"
      ]
    },
    {
      "metadata": {
        "id": "DcvxSCuyem_z",
        "colab_type": "code",
        "colab": {}
      },
      "cell_type": "code",
      "source": [
        "# Import the module IPython.display. Watch out for capitalization.\n",
        "import IPython.display\n",
        "# Replace the ... with a call to the Image function\n",
        "# in the IPython.display module, which should produce\n",
        "# a picture.\n",
        "art = ...\n",
        "art"
      ],
      "execution_count": 0,
      "outputs": []
    },
    {
      "metadata": {
        "id": "RvFZya0fem_2",
        "colab_type": "code",
        "colab": {}
      },
      "cell_type": "code",
      "source": [
        "grade('q312.ok')"
      ],
      "execution_count": 0,
      "outputs": []
    },
    {
      "metadata": {
        "id": "KsC5kNvFem_5",
        "colab_type": "text"
      },
      "cell_type": "markdown",
      "source": [
        "# 4. Arrays\n",
        "\n",
        "Up to now, we haven't done much that you couldn't do yourself by hand, without going through the trouble of learning Python.  Computers are most useful when you can use a small amount of code to *do the same action* to *many different things*.\n",
        "\n",
        "For example, in the time it takes you to calculate the 18% tip on a restaurant bill, a laptop can calculate 18% tips for every restaurant bill paid by every human on Earth that day.  (That's if you're pretty fast at doing arithmetic in your head!)\n",
        "\n",
        "**Arrays** are how we put many values in one place so that we can operate on them as a group. For example, if `billions_of_numbers` is an array of numbers, the expression\n",
        "\n",
        "    .18 * billions_of_numbers\n",
        "\n",
        "gives a new array of numbers that's the result of multiplying each number in `billions_of_numbers` by .18 (18%).  Arrays are not limited to numbers; we can also put all the words in a book into an array of strings.\n",
        "\n",
        "Concretely, an array is a **collection of values of the same type**, like a column in an Excel spreadsheet. \n",
        "\n",
        "<img src=\"https://raw.githubusercontent.com/beccaelenzil-teach/materials-su18/master/materials/su18/lab/lab02/excel_array.jpg\">"
      ]
    },
    {
      "metadata": {
        "id": "HMCQzxF0em_6",
        "colab_type": "text"
      },
      "cell_type": "markdown",
      "source": [
        "## 4.1. Making arrays\n",
        "You can type in the data that goes in an array yourself, but that's not typically how programs work. Normally, we create arrays by loading them from an external source, like a data file.\n",
        "\n",
        "First, though, let's learn how to do it the hard way. Execute the following cell so that all the names from the `datascience` module are available to you."
      ]
    },
    {
      "metadata": {
        "id": "Ipp7pVPuem_7",
        "colab_type": "code",
        "colab": {}
      },
      "cell_type": "code",
      "source": [
        "from datascience import *"
      ],
      "execution_count": 0,
      "outputs": []
    },
    {
      "metadata": {
        "id": "CMnZDWvgem_9",
        "colab_type": "text"
      },
      "cell_type": "markdown",
      "source": [
        "Now, to create an array, call the function `make_array`.  Each argument you pass to `make_array` will be in the array it returns.  Run this cell to see an example:"
      ]
    },
    {
      "metadata": {
        "id": "wIN_LwfVem_-",
        "colab_type": "code",
        "colab": {}
      },
      "cell_type": "code",
      "source": [
        "make_array(0.125, 4.75, -1.3)"
      ],
      "execution_count": 0,
      "outputs": []
    },
    {
      "metadata": {
        "id": "Yu-2wjOsenAA",
        "colab_type": "text"
      },
      "cell_type": "markdown",
      "source": [
        "Each value in an array (in the above case, the numbers 0.125, 4.75, and -1.3) is called an *element* of that array.\n",
        "\n",
        "Arrays themselves are also values, just like numbers and strings.  That means you can assign them names or use them as arguments to functions.\n",
        "\n",
        "**Question 4.1.1.** Make an array containing the numbers 1, 2, and 3, in that order.  Name it `small_numbers`."
      ]
    },
    {
      "metadata": {
        "id": "I7eUGkhjenAB",
        "colab_type": "code",
        "colab": {}
      },
      "cell_type": "code",
      "source": [
        "small_numbers = ...\n",
        "small_numbers"
      ],
      "execution_count": 0,
      "outputs": []
    },
    {
      "metadata": {
        "id": "gXyb2pC6enAG",
        "colab_type": "code",
        "colab": {}
      },
      "cell_type": "code",
      "source": [
        "grade('q411.ok')"
      ],
      "execution_count": 0,
      "outputs": []
    },
    {
      "metadata": {
        "id": "cHKRag9benAJ",
        "colab_type": "text"
      },
      "cell_type": "markdown",
      "source": [
        "**Question 4.1.2.** Make an array containing the numbers 0, 1, -1, $\\pi$, and $e$, in that order.  Name it `interesting_numbers`.  *Hint:* How did you get the values $\\pi$ and $e$ earlier?  You can refer to them in exactly the same way here."
      ]
    },
    {
      "metadata": {
        "id": "C6vJI74GenAL",
        "colab_type": "code",
        "colab": {}
      },
      "cell_type": "code",
      "source": [
        "interesting_numbers = ...\n",
        "interesting_numbers"
      ],
      "execution_count": 0,
      "outputs": []
    },
    {
      "metadata": {
        "id": "du45elrfenAP",
        "colab_type": "code",
        "colab": {}
      },
      "cell_type": "code",
      "source": [
        "grade('q412.ok')"
      ],
      "execution_count": 0,
      "outputs": []
    },
    {
      "metadata": {
        "id": "PR0Fw5Z6enAR",
        "colab_type": "text"
      },
      "cell_type": "markdown",
      "source": [
        "**Question 4.1.3.** Make an array containing the five strings `\"Hello\"`, `\",\"`, `\" \"`, `\"world\"`, and `\"!\"`.  (The third one is a single space inside quotes.)  Name it `hello_world_components`.\n",
        "\n",
        "*Note:* If you print `hello_world_components`, you'll notice some extra information in addition to its contents: `dtype='<U5'`.  That's just NumPy's extremely cryptic way of saying that the things in the array are strings."
      ]
    },
    {
      "metadata": {
        "id": "IviUqwxsenAT",
        "colab_type": "code",
        "colab": {}
      },
      "cell_type": "code",
      "source": [
        "hello_world_components = ...\n",
        "hello_world_components"
      ],
      "execution_count": 0,
      "outputs": []
    },
    {
      "metadata": {
        "id": "YKReDKdVenAX",
        "colab_type": "code",
        "colab": {}
      },
      "cell_type": "code",
      "source": [
        "grade('q413.ok')"
      ],
      "execution_count": 0,
      "outputs": []
    },
    {
      "metadata": {
        "id": "1pdl4yHkenAZ",
        "colab_type": "text"
      },
      "cell_type": "markdown",
      "source": [
        "The `join` method of a string takes an array of strings as its argument and puts all of the elements together into one string. Try it:"
      ]
    },
    {
      "metadata": {
        "id": "eBLPfz6HenAb",
        "colab_type": "code",
        "colab": {}
      },
      "cell_type": "code",
      "source": [
        "'°'.join(make_array('(╯', '□','）╯︵ ┻━┻'))"
      ],
      "execution_count": 0,
      "outputs": []
    },
    {
      "metadata": {
        "id": "pHEteIAgenAf",
        "colab_type": "text"
      },
      "cell_type": "markdown",
      "source": [
        "**Question 4.1.4.** Assign `separator` to a string so that the name `hello` is bound to the string `'Hello, world!'` in the cell below."
      ]
    },
    {
      "metadata": {
        "id": "B7O89TyoenAg",
        "colab_type": "code",
        "colab": {}
      },
      "cell_type": "code",
      "source": [
        "separator = ...\n",
        "hello = separator.join(hello_world_components)\n",
        "hello"
      ],
      "execution_count": 0,
      "outputs": []
    },
    {
      "metadata": {
        "id": "yR7Cyxu1enAk",
        "colab_type": "code",
        "colab": {}
      },
      "cell_type": "code",
      "source": [
        "grade('q414.ok')"
      ],
      "execution_count": 0,
      "outputs": []
    },
    {
      "metadata": {
        "id": "-ZLkDS64enAm",
        "colab_type": "text"
      },
      "cell_type": "markdown",
      "source": [
        "### 4.1.1.  `np.arange`\n",
        "Arrays are provided by a package called [NumPy](http://www.numpy.org/) (pronounced \"NUM-pie\" or, if you prefer to pronounce things incorrectly, \"NUM-pee\").  The package is called `numpy`, but it's standard to rename it `np` for brevity.  You can do that with:\n",
        "\n",
        "    import numpy as np\n",
        "\n",
        "Very often in data science, we want to work with many numbers that are evenly spaced within some range.  NumPy provides a special function for this called `arange`.  The line of code `np.arange(start, stop, space)` produces an array with all the numbers starting at `start` and counting up by `space`, stopping before `stop` is reached.\n",
        "\n",
        "For example, the value of `np.arange(1, 6, 2)` is an array with elements 1, 3, and 5 -- it starts at 1 and counts up by 2, then stops before 6.  In other words, it's equivalent to `make_array(1, 3, 5)`.\n",
        "\n",
        "`np.arange(4, 9, 1)` is an array with elements 4, 5, 6, 7, and 8.  (It doesn't contain 9 because `np.arange` stops *before* the stop value is reached.)\n",
        "\n",
        "**Question 4.1.1.1.** Import `numpy` as `np` and then use `np.arange` to create an array with the multiples of 99 from 0 up to (**and including**) 9999.  (So its elements are 0, 99, 198, 297, etc.)"
      ]
    },
    {
      "metadata": {
        "id": "SwHDJzcxenAn",
        "colab_type": "code",
        "colab": {}
      },
      "cell_type": "code",
      "source": [
        "...\n",
        "multiples_of_99 = ...\n",
        "multiples_of_99"
      ],
      "execution_count": 0,
      "outputs": []
    },
    {
      "metadata": {
        "id": "WFk4kiv6enAr",
        "colab_type": "code",
        "colab": {}
      },
      "cell_type": "code",
      "source": [
        "grade('q4111.ok')"
      ],
      "execution_count": 0,
      "outputs": []
    },
    {
      "metadata": {
        "id": "0YOOJ9ybenAt",
        "colab_type": "text"
      },
      "cell_type": "markdown",
      "source": [
        "##### Temperature readings\n",
        "NOAA (the US National Oceanic and Atmospheric Administration) operates weather stations that measure surface temperatures at different sites around the United States.  The hourly readings are [publicly available](http://www.ncdc.noaa.gov/qclcd/QCLCD?prior=N).\n",
        "\n",
        "Suppose we download all the hourly data from the Oakland, California site for the month of December 2015.  To analyze the data, we want to know when each reading was taken, but we find that the data don't include the timestamps of the readings (the time at which each one was taken).\n",
        "\n",
        "However, we know the first reading was taken at the first instant of December 2015 (midnight on December 1st) and each subsequent reading was taken exactly 1 hour after the last.\n",
        "\n",
        "**Question 4.1.1.2.** Create an array of the *time, in seconds, since the start of the month* at which each hourly reading was taken.  Name it `collection_times`.\n",
        "\n",
        "*Hint 1:* There were 31 days in December, which is equivalent to ($31 \\times 24$) hours or ($31 \\times 24 \\times 60 \\times 60$) seconds.  So your array should have $31 \\times 24$ elements in it.\n",
        "\n",
        "*Hint 2:* The `len` function works on arrays, too.  If your `collection_times` isn't passing the tests, check its length and make sure it has $31 \\times 24$ elements."
      ]
    },
    {
      "metadata": {
        "id": "gPLOGXRJenAv",
        "colab_type": "code",
        "colab": {}
      },
      "cell_type": "code",
      "source": [
        "collection_times = ...\n",
        "collection_times"
      ],
      "execution_count": 0,
      "outputs": []
    },
    {
      "metadata": {
        "id": "ffn2Gl5GenA1",
        "colab_type": "code",
        "colab": {}
      },
      "cell_type": "code",
      "source": [
        "grade('q4112.ok')"
      ],
      "execution_count": 0,
      "outputs": []
    },
    {
      "metadata": {
        "id": "_pdCLyRcenA6",
        "colab_type": "text"
      },
      "cell_type": "markdown",
      "source": [
        "## 4.2. Working with single elements of arrays (\"indexing\")\n",
        "Let's work with a more interesting dataset.  The next cell creates an array called `population` that includes estimated world populations in every year from **1950** to roughly the present.  (The estimates come from the [US Census Bureau website](http://www.census.gov/population/international/data/worldpop/table_population.php).)\n",
        "\n",
        "Rather than type in the data manually, we've loaded them from a file on your computer called `world_population.csv`.  You'll learn how to do that next week."
      ]
    },
    {
      "metadata": {
        "id": "8xcO9Zx6enA6",
        "colab_type": "code",
        "colab": {}
      },
      "cell_type": "code",
      "source": [
        "# Don't worry too much about what goes on in this cell.\n",
        "from datascience import *\n",
        "population = Table.read_table(\"world_population.csv\").column(\"Population\")\n",
        "population"
      ],
      "execution_count": 0,
      "outputs": []
    },
    {
      "metadata": {
        "id": "9Wo0FWL5enA8",
        "colab_type": "text"
      },
      "cell_type": "markdown",
      "source": [
        "Here's how we get the first element of `population`, which is the world population in the first year in the dataset, 1950."
      ]
    },
    {
      "metadata": {
        "id": "FXvpYDGAenA_",
        "colab_type": "code",
        "colab": {}
      },
      "cell_type": "code",
      "source": [
        "population.item(0)"
      ],
      "execution_count": 0,
      "outputs": []
    },
    {
      "metadata": {
        "id": "MBL-f3uKenBB",
        "colab_type": "text"
      },
      "cell_type": "markdown",
      "source": [
        "The value of that expression is the number 2557628654 (around 2.5 billion), because that's the first thing in the array `population`.\n",
        "\n",
        "Notice that we wrote `.item(0)`, not `.item(1)`, to get the first element.  This is a weird convention in computer science.  0 is called the *index* of the first item.  It's the number of elements that appear *before* that item.  So 3 is the index of the 4th item.\n",
        "\n",
        "Here are some more examples.  In the examples, we've given names to the things we get out of `population`.  Read and run each cell."
      ]
    },
    {
      "metadata": {
        "id": "2Fg1tZsoenBC",
        "colab_type": "code",
        "colab": {}
      },
      "cell_type": "code",
      "source": [
        "# The third element in the array is the population\n",
        "# in 1952.\n",
        "population_1952 = population.item(2)\n",
        "population_1952"
      ],
      "execution_count": 0,
      "outputs": []
    },
    {
      "metadata": {
        "id": "MEuFScSEenBD",
        "colab_type": "code",
        "colab": {}
      },
      "cell_type": "code",
      "source": [
        "# The thirteenth element in the array is the population\n",
        "# in 1962 (which is 1950 + 12).\n",
        "population_1962 = population.item(12)\n",
        "population_1962"
      ],
      "execution_count": 0,
      "outputs": []
    },
    {
      "metadata": {
        "id": "ykZmwfeaenBF",
        "colab_type": "code",
        "colab": {}
      },
      "cell_type": "code",
      "source": [
        "# The 66th element is the population in 2015.\n",
        "population_2015 = population.item(65)\n",
        "population_2015"
      ],
      "execution_count": 0,
      "outputs": []
    },
    {
      "metadata": {
        "id": "A_Uxn2-2enBH",
        "colab_type": "code",
        "colab": {}
      },
      "cell_type": "code",
      "source": [
        "# The array has only 66 elements, so this doesn't work.\n",
        "# (There's no element with 66 other elements before it.)\n",
        "population_2016 = population.item(66)\n",
        "population_2016"
      ],
      "execution_count": 0,
      "outputs": []
    },
    {
      "metadata": {
        "id": "WJsE1nCFenBJ",
        "colab_type": "code",
        "colab": {}
      },
      "cell_type": "code",
      "source": [
        "# Since make_array returns an array, we can call .item(3)\n",
        "# on its output to get its 4th element, just like we\n",
        "# \"chained\" together calls to the method \"replace\" earlier.\n",
        "make_array(-1, -3, 4, -2).item(3)"
      ],
      "execution_count": 0,
      "outputs": []
    },
    {
      "metadata": {
        "id": "yCiNLrndenBJ",
        "colab_type": "text"
      },
      "cell_type": "markdown",
      "source": [
        "**Question 4.2.1.** Set `population_1973` to the world population in 1973, by getting the appropriate element from `population` using `item`."
      ]
    },
    {
      "metadata": {
        "id": "aORrVrZHenBJ",
        "colab_type": "code",
        "colab": {}
      },
      "cell_type": "code",
      "source": [
        "population_1973 = ...\n",
        "population_1973"
      ],
      "execution_count": 0,
      "outputs": []
    },
    {
      "metadata": {
        "id": "Op6PE64_enBM",
        "colab_type": "code",
        "colab": {}
      },
      "cell_type": "code",
      "source": [
        "grade('q421.ok')"
      ],
      "execution_count": 0,
      "outputs": []
    },
    {
      "metadata": {
        "id": "hNfQ48h-enBQ",
        "colab_type": "text"
      },
      "cell_type": "markdown",
      "source": [
        "## 4.3. Doing something to every element of an array\n",
        "Arrays are primarily useful for doing the same operation many times, so we don't often have to use `.item` and work with single elements.\n",
        "\n",
        "##### Logarithms\n",
        "Here is one simple question we might ask about world population:\n",
        "\n",
        "> How big was the population in *orders of magnitude* in each year?\n",
        "\n",
        "The logarithm function is one way of measuring how big a number is. The logarithm (base 10) of a number increases by 1 every time we multiply the number by 10. It's like a measure of how many decimal digits the number has, or how big it is in orders of magnitude.\n",
        "\n",
        "We could try to answer our question like this, using the `log10` function from the `math` module and the `item` method you just saw:"
      ]
    },
    {
      "metadata": {
        "id": "UZ8lMXX2enBR",
        "colab_type": "code",
        "colab": {}
      },
      "cell_type": "code",
      "source": [
        "import math\n",
        "\n",
        "population_1950_magnitude = math.log10(population.item(0))\n",
        "population_1951_magnitude = math.log10(population.item(1))\n",
        "population_1952_magnitude = math.log10(population.item(2))\n",
        "population_1953_magnitude = math.log10(population.item(3))\n",
        "..."
      ],
      "execution_count": 0,
      "outputs": []
    },
    {
      "metadata": {
        "id": "x7mk-hbSenBT",
        "colab_type": "text"
      },
      "cell_type": "markdown",
      "source": [
        "But this is tedious and doesn't really take advantage of the fact that we are using a computer.\n",
        "\n",
        "Instead, NumPy provides its own version of `log10` that takes the logarithm of each element of an array.  It takes a single array of numbers as its argument.  It returns an array of the same length, where the first element of the result is the logarithm of the first element of the argument, and so on.\n",
        "\n",
        "**Question 4.3.1.** Use it to compute the logarithms of the world population in every year.  Give the result (an array of 66 numbers) the name `population_magnitudes`.  Your code should be very short."
      ]
    },
    {
      "metadata": {
        "id": "iFujHl7qenBU",
        "colab_type": "code",
        "colab": {}
      },
      "cell_type": "code",
      "source": [
        "population_magnitudes = ...\n",
        "population_magnitudes"
      ],
      "execution_count": 0,
      "outputs": []
    },
    {
      "metadata": {
        "id": "aO9wnn5KenBV",
        "colab_type": "code",
        "colab": {}
      },
      "cell_type": "code",
      "source": [
        "grade('q431.ok')"
      ],
      "execution_count": 0,
      "outputs": []
    },
    {
      "metadata": {
        "id": "IdNibxqkenBY",
        "colab_type": "text"
      },
      "cell_type": "markdown",
      "source": [
        "<img src=\"https://raw.githubusercontent.com/beccaelenzil-teach/materials-su18/master/materials/su18/lab/lab02/array_logarithm.jpg\">\n",
        "\n",
        "This is called *elementwise* application of the function, since it operates separately on each element of the array it's called on.  The textbook's section on arrays has a useful list of NumPy functions that are designed to work elementwise, like `np.log10`.\n",
        "\n",
        "##### Arithmetic\n",
        "Arithmetic also works elementwise on arrays.  For example, you can divide all the population numbers by 1 billion to get numbers in billions:"
      ]
    },
    {
      "metadata": {
        "id": "s4VzDi5yenBY",
        "colab_type": "code",
        "colab": {}
      },
      "cell_type": "code",
      "source": [
        "population_in_billions = population / 1000000000\n",
        "population_in_billions"
      ],
      "execution_count": 0,
      "outputs": []
    },
    {
      "metadata": {
        "id": "J7El4-zQenBa",
        "colab_type": "text"
      },
      "cell_type": "markdown",
      "source": [
        "You can do the same with addition, subtraction, multiplication, and exponentiation (`**`). For example, you can calculate a tip on several restaurant bills at once (in this case just 3):"
      ]
    },
    {
      "metadata": {
        "id": "WgKV8chOenBd",
        "colab_type": "code",
        "colab": {}
      },
      "cell_type": "code",
      "source": [
        "restaurant_bills = make_array(20.12, 39.90, 31.01)\n",
        "print(\"Restaurant bills:\\t\", restaurant_bills)\n",
        "tips = .2 * restaurant_bills\n",
        "print(\"Tips:\\t\\t\\t\", tips)"
      ],
      "execution_count": 0,
      "outputs": []
    },
    {
      "metadata": {
        "id": "djgb--zDenBg",
        "colab_type": "text"
      },
      "cell_type": "markdown",
      "source": [
        "<img src=\"https://raw.githubusercontent.com/beccaelenzil-teach/materials-su18/master/materials/su18/lab/lab02/array_multiplication.jpg\">\n",
        "\n",
        "**Question 4.3.2.** Suppose the total charge at a restaurant is the original bill plus the tip.  That means we can multiply the original bill by 1.2 to get the total charge.  Compute the total charge for each bill in `restaurant_bills`."
      ]
    },
    {
      "metadata": {
        "id": "fN_C1asIenBg",
        "colab_type": "code",
        "colab": {}
      },
      "cell_type": "code",
      "source": [
        "total_charges = ...\n",
        "total_charges"
      ],
      "execution_count": 0,
      "outputs": []
    },
    {
      "metadata": {
        "id": "T-Nx_0XVenBi",
        "colab_type": "code",
        "colab": {}
      },
      "cell_type": "code",
      "source": [
        "grade('q432.ok')"
      ],
      "execution_count": 0,
      "outputs": []
    },
    {
      "metadata": {
        "id": "3ZU68VQFenBk",
        "colab_type": "text"
      },
      "cell_type": "markdown",
      "source": [
        "**Question 4.3.3.** The file `more_restaurant_bills.csv` contains 100,000 bills!  Compute the total charge for each one.  How is your code different?"
      ]
    },
    {
      "metadata": {
        "id": "rVpLZYZkenBk",
        "colab_type": "code",
        "colab": {}
      },
      "cell_type": "code",
      "source": [
        "more_restaurant_bills = Table.read_table(\"more_restaurant_bills.csv\").column(\"Bill\")\n",
        "more_total_charges = ...\n",
        "more_total_charges"
      ],
      "execution_count": 0,
      "outputs": []
    },
    {
      "metadata": {
        "id": "a5l2fSrYenBm",
        "colab_type": "code",
        "colab": {}
      },
      "cell_type": "code",
      "source": [
        "grade('q433.ok')"
      ],
      "execution_count": 0,
      "outputs": []
    },
    {
      "metadata": {
        "id": "QnKlIYiyenBo",
        "colab_type": "text"
      },
      "cell_type": "markdown",
      "source": [
        "The function `sum` takes a single array of numbers as its argument.  It returns the sum of all the numbers in that array (so it returns a single number, not an array).\n",
        "\n",
        "**Question 4.3.4.** What was the sum of all the bills in `more_restaurant_bills`, *including tips*?"
      ]
    },
    {
      "metadata": {
        "id": "7W1d2GVIenBo",
        "colab_type": "code",
        "colab": {}
      },
      "cell_type": "code",
      "source": [
        "sum_of_bills = ...\n",
        "sum_of_bills"
      ],
      "execution_count": 0,
      "outputs": []
    },
    {
      "metadata": {
        "id": "tC3HSWDKenBp",
        "colab_type": "code",
        "colab": {}
      },
      "cell_type": "code",
      "source": [
        "grade('q434.ok')"
      ],
      "execution_count": 0,
      "outputs": []
    },
    {
      "metadata": {
        "id": "JeKnkhygenBs",
        "colab_type": "text"
      },
      "cell_type": "markdown",
      "source": [
        "**Question 4.3.5.** The powers of 2 ($2^0 = 1$, $2^1 = 2$, $2^2 = 4$, etc) arise frequently in computer science.  (For example, you may have noticed that storage on smartphones or USBs come in powers of 2, like 16 GB, 32 GB, or 64 GB.)  Use `np.arange` and the exponentiation operator `**` to compute the first 30 powers of 2, starting from `2^0`.\n",
        "\n",
        "*Hint:* If your kernel breaks, you likely have the incorrect solution. Try restarting your kernel, rerunning the cells above, and trying a different solution!"
      ]
    },
    {
      "metadata": {
        "id": "rMfn1q_AenBs",
        "colab_type": "code",
        "colab": {}
      },
      "cell_type": "code",
      "source": [
        "powers_of_2 = ...\n",
        "powers_of_2"
      ],
      "execution_count": 0,
      "outputs": []
    },
    {
      "metadata": {
        "id": "HtKN2lsHenBx",
        "colab_type": "code",
        "colab": {}
      },
      "cell_type": "code",
      "source": [
        "grade('q435.ok')"
      ],
      "execution_count": 0,
      "outputs": []
    },
    {
      "metadata": {
        "id": "5qrLXFNzenBz",
        "colab_type": "text"
      },
      "cell_type": "markdown",
      "source": [
        "## Congratulations, you're done with lab 2!  Be sure to run all the tests and save your work.\n"
      ]
    }
  ]
}